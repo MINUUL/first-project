{
 "cells": [
  {
   "cell_type": "code",
   "execution_count": 2,
   "metadata": {},
   "outputs": [
    {
     "name": "stdout",
     "output_type": "stream",
     "text": [
      "Collecting geopy\n",
      "  Downloading geopy-2.2.0-py3-none-any.whl (118 kB)\n",
      "Collecting geographiclib<2,>=1.49\n",
      "  Downloading geographiclib-1.52-py3-none-any.whl (38 kB)\n",
      "Installing collected packages: geographiclib, geopy\n",
      "Successfully installed geographiclib-1.52 geopy-2.2.0\n",
      "Note: you may need to restart the kernel to use updated packages.\n"
     ]
    }
   ],
   "source": [
    "pip install geopy"
   ]
  },
  {
   "cell_type": "code",
   "execution_count": 1,
   "metadata": {},
   "outputs": [
    {
     "ename": "ModuleNotFoundError",
     "evalue": "No module named 'geopy'",
     "output_type": "error",
     "traceback": [
      "\u001b[1;31m---------------------------------------------------------------------------\u001b[0m",
      "\u001b[1;31mModuleNotFoundError\u001b[0m                       Traceback (most recent call last)",
      "Input \u001b[1;32mIn [1]\u001b[0m, in \u001b[0;36m<cell line: 3>\u001b[1;34m()\u001b[0m\n\u001b[0;32m      1\u001b[0m \u001b[38;5;66;03m# 소괄호 제거\u001b[39;00m\n\u001b[0;32m      2\u001b[0m \u001b[38;5;28;01mimport\u001b[39;00m \u001b[38;5;21;01mnumpy\u001b[39;00m \u001b[38;5;28;01mas\u001b[39;00m \u001b[38;5;21;01mnp\u001b[39;00m\n\u001b[1;32m----> 3\u001b[0m \u001b[38;5;28;01mfrom\u001b[39;00m \u001b[38;5;21;01mgeopy\u001b[39;00m\u001b[38;5;21;01m.\u001b[39;00m\u001b[38;5;21;01mgeocoders\u001b[39;00m \u001b[38;5;28;01mimport\u001b[39;00m Nominatim\n\u001b[0;32m      4\u001b[0m \u001b[38;5;28;01mimport\u001b[39;00m \u001b[38;5;21;01mpandas\u001b[39;00m \u001b[38;5;28;01mas\u001b[39;00m \u001b[38;5;21;01mpd\u001b[39;00m\n\u001b[0;32m      5\u001b[0m \u001b[38;5;28;01mimport\u001b[39;00m \u001b[38;5;21;01mre\u001b[39;00m\n",
      "\u001b[1;31mModuleNotFoundError\u001b[0m: No module named 'geopy'"
     ]
    }
   ],
   "source": [
    "# 소괄호 제거\n",
    "import numpy as np\n",
    "from geopy.geocoders import Nominatim\n",
    "import pandas as pd\n",
    "import re\n",
    "from tqdm import tqdm\n",
    "import requests\n",
    "import json\n",
    "import geopandas as gpd\n",
    "\n"
   ]
  },
  {
   "cell_type": "code",
   "execution_count": null,
   "metadata": {},
   "outputs": [],
   "source": [
    "path = 'C:/bigcon/'\n",
    "import sys\n",
    "sys.path.append(path + 'script')\n",
    "from k_table import out, map_, youngin_grpsum, to_geo"
   ]
  },
  {
   "cell_type": "code",
   "execution_count": null,
   "metadata": {},
   "outputs": [],
   "source": [
    "def kw_location(nm):\n",
    "    \n",
    "    global cnt\n",
    "    \n",
    "    url = 'https://dapi.kakao.com/v2/local/search/keyword.json' # 키워드 검색 url. 주소 검색 url이랑 다름.\n",
    "    params = {'query': nm,\n",
    "              'x':'127.177482330871' , ## 용인시 좌표를 중심으로 검색.\n",
    "              'y':'37.241029979227',\n",
    "              'category_group_code': 'CT1',\n",
    "              'size' : 12}\n",
    "    \n",
    "    headers = {\"Authorization\": 'KakaoAK ' + appkey} # api 인증 key\n",
    "\n",
    "    places = requests.get(url, params=params, headers=headers)\n",
    "\n",
    "    xy = json.loads(places.text)\n",
    "    tmp =[]\n",
    "    \n",
    "    for i in range(len(xy['documents'])):\n",
    "        address_nm = dict(xy['documents'][i])['address_name']\n",
    "        x = dict(xy['documents'][i])['x']\n",
    "        y = dict(xy['documents'][i])['y']\n",
    "        place_nm = dict(xy['documents'][i])['place_name']\n",
    "        \n",
    "        tmp.append([place_nm,address_nm,x,y])\n",
    "\n",
    "    \n",
    "    return pd.DataFrame(tmp)"
   ]
  },
  {
   "cell_type": "code",
   "execution_count": null,
   "metadata": {},
   "outputs": [],
   "source": [
    "#%%\n",
    "cnt = 0\n",
    "def _location(address,add_col,nm_col,df):\n",
    "    \n",
    "    global cnt\n",
    "    url = 'https://dapi.kakao.com/v2/local/search/address.json'\n",
    "    \n",
    "    params = {'query': address,'analyze_type' : 'simillar', 'size' : 1}\n",
    "    headers = {\"Authorization\": 'KakaoAK ' + appkey}\n",
    "\n",
    "    places = requests.get(url, params=params, headers=headers)\n",
    "    xy = json.loads(places.text)\n",
    "    \n",
    "    try:    \n",
    "        address_nm = dict(xy['documents'][0])['address']['address_name']\n",
    "        x = dict(xy['documents'][0])['x']\n",
    "        y = dict(xy['documents'][0])['y']\n",
    "        \n",
    "    except:\n",
    "        \n",
    "        nm = df[df[add_col] == address][nm_col].head(1)\n",
    "        \n",
    "        return nm_location(nm)\n",
    "    \n",
    "    return [address_nm,x,y]\n",
    "\n",
    "def nm_location(nm):\n",
    "    \n",
    "    global cnt\n",
    "    \n",
    "    url = 'https://dapi.kakao.com/v2/local/search/keyword.json' # 키워드 검색 url. 주소 검색 url이랑 다름.\n",
    "    params = {'query': nm,\n",
    "              'x':'127.177482330871' , ## 용인시 좌표를 중심으로 검색.\n",
    "              'y':'37.241029979227',\n",
    "              'size' : 1}\n",
    "    \n",
    "    headers = {\"Authorization\": 'KakaoAK ' + appkey} # api 인증 key\n",
    "\n",
    "    places = requests.get(url, params=params, headers=headers)\n",
    "    xy = json.loads(places.text)\n",
    "    \n",
    "    try:    \n",
    "        address_nm = dict(xy['documents'][0])['address_name']\n",
    "        x = dict(xy['documents'][0])['x']\n",
    "        y = dict(xy['documents'][0])['y']\n",
    "        \n",
    "    except:\n",
    "         cnt += 1\n",
    "         if cnt % 50 == 0:\n",
    "             print(f'no search result: {cnt}')\n",
    "             \n",
    "         return [nm,np.nan,np.nan]\n",
    "    \n",
    "\n",
    "    return [address_nm,x,y]"
   ]
  },
  {
   "cell_type": "code",
   "execution_count": null,
   "metadata": {},
   "outputs": [],
   "source": [
    "#%%\n",
    "\n",
    "map_table = gpd.read_file(path + '/input/geo_dataset/HangJeongDong_ver20210401.geojson') #출처:https://github.com/vuski/admdongkor\n",
    "map_table['adm_cd2'] = map_table['adm_cd2'].astype('float64')/100\n",
    "\n",
    "\n",
    "map_table = map_table[map_table['sgg'].str.contains('^4146', na = False)]\n",
    "\n",
    "map_table = map_table.set_index('adm_cd2').join(youngin_grpsum).reset_index()\n",
    "map_ = map_table.copy()\n",
    "map_table = map_table[['adng_nm','geometry']]"
   ]
  },
  {
   "cell_type": "code",
   "execution_count": null,
   "metadata": {},
   "outputs": [],
   "source": [
    "#%%\n",
    "appkey = '63c767bfe1e2af023f72a87dca3ca6c9'\n",
    "path = 'C:/bigcon/' # 경로 지정\n",
    "movie = kw_location('용인시 영화관')\n",
    "movie = movie[:10] #동탄 영화관 제외\n",
    "movie.columns = ['nm','address','x','y']\n",
    "movie = to_geo(movie)\n",
    "\n",
    "movie_table = gpd.sjoin(map_table,movie).groupby(['adng_nm'])['x'].count()"
   ]
  },
  {
   "cell_type": "code",
   "execution_count": null,
   "metadata": {},
   "outputs": [],
   "source": [
    "#%%\n",
    "\n",
    "zeroone = pd.read_excel(path + 'input/additional_dataset/용인시 공원 위치 데이터.xlsx')\n",
    "zeroone = zeroone[['공원명','경도','위도','공원면적']]\n",
    "zeroone.columns = ['nm','x','y','area']\n",
    "zeroone = to_geo(zeroone)\n",
    "\n",
    "zeroone_table = gpd.sjoin(map_table,zeroone).groupby(['adng_nm'])['x'].count()"
   ]
  },
  {
   "cell_type": "code",
   "execution_count": null,
   "metadata": {},
   "outputs": [],
   "source": [
    "#%%\n",
    "mart = pd.read_csv(path + 'input/additional_dataset/경기도_용인시_대규모 점포 현황_20190409.csv',encoding = 'CP949')\n",
    "\n",
    "\n",
    "mart[['주소', 'x', 'y']] = list(map(lambda x: _location(address = x,add_col = '소재지(사무실)',nm_col = '상호명', df = mart),mart['소재지(사무실)']))\n",
    "mart = to_geo(mart)\n",
    "mart_table = gpd.sjoin(map_table,movie).groupby(['adng_nm'])['x'].count()\n",
    "\n",
    "tmp = movie_table + zeroone_table + mart_table\n",
    "tmp = tmp.fillna(0)"
   ]
  },
  {
   "cell_type": "code",
   "execution_count": null,
   "metadata": {},
   "outputs": [],
   "source": [
    "#%%\n",
    "tmp.to_csv(path + 'output/data/checkpoint/ETC_places.csv',encoding = 'CP949')"
   ]
  }
 ],
 "metadata": {
  "anaconda-cloud": {},
  "kernelspec": {
   "display_name": "Python 3 (ipykernel)",
   "language": "python",
   "name": "python3"
  },
  "language_info": {
   "codemirror_mode": {
    "name": "ipython",
    "version": 3
   },
   "file_extension": ".py",
   "mimetype": "text/x-python",
   "name": "python",
   "nbconvert_exporter": "python",
   "pygments_lexer": "ipython3",
   "version": "3.9.12"
  },
  "toc": {
   "base_numbering": 1,
   "nav_menu": {},
   "number_sections": true,
   "sideBar": true,
   "skip_h1_title": false,
   "title_cell": "Table of Contents",
   "title_sidebar": "Contents",
   "toc_cell": false,
   "toc_position": {},
   "toc_section_display": true,
   "toc_window_display": false
  },
  "varInspector": {
   "cols": {
    "lenName": 16,
    "lenType": 16,
    "lenVar": 40
   },
   "kernels_config": {
    "python": {
     "delete_cmd_postfix": "",
     "delete_cmd_prefix": "del ",
     "library": "var_list.py",
     "varRefreshCmd": "print(var_dic_list())"
    },
    "r": {
     "delete_cmd_postfix": ") ",
     "delete_cmd_prefix": "rm(",
     "library": "var_list.r",
     "varRefreshCmd": "cat(var_dic_list()) "
    }
   },
   "types_to_exclude": [
    "module",
    "function",
    "builtin_function_or_method",
    "instance",
    "_Feature"
   ],
   "window_display": false
  }
 },
 "nbformat": 4,
 "nbformat_minor": 4
}
