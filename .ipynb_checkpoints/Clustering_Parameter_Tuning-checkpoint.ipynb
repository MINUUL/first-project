{
 "cells": [
  {
   "cell_type": "code",
   "execution_count": 1,
   "metadata": {
    "colab": {
     "base_uri": "https://localhost:8080/",
     "height": 106
    },
    "id": "EoPlI7I92KbD",
    "outputId": "9cc9c39c-f014-4db6-ac01-3d8c1062822b"
   },
   "outputs": [
    {
     "data": {
      "text/plain": [
       "'\\n모두 준수한 실루엣 점수를 보인다. \\n\\nrandom_state=0 #KMeans, MeanShift(bandwidth), GaussianMixture\\n\\nKMeans\\nn = 6\\nSilhouette Coefficient: 0.5914\\nDavies Bouldin Index: 0.3922\\n\\n\\nAgglomerativeClustering\\nn = 5\\nSilhouette Coefficient: 0.5740\\nDavies Bouldin Index: 0.4102\\n\\n\\nAffinityPropagation\\nSilhouette Coefficient: 0.5823\\nDavies Bouldin Index: 0.4142\\n\\nMeanShift\\nquantile=0.2\\nn_samples = 13\\n=> bandwidth\\nSilhouette Coefficient: 0.6012\\nDavies Bouldin Index: 0.3302\\n\\nBirch\\nn=13\\nSilhouette Coefficient: 0.6229\\nDavies Bouldin Index: 0.3374\\n\\nGaussianMixture\\nn =12\\nSilhouette Coefficient: 0.6247\\nDavies Bouldin Index: 0.3561\\n'"
      ]
     },
     "execution_count": 1,
     "metadata": {},
     "output_type": "execute_result"
    }
   ],
   "source": [
    "\"\"\"\n",
    "모두 준수한 실루엣 점수를 보인다. \n",
    "\n",
    "random_state=0 #KMeans, MeanShift(bandwidth), GaussianMixture\n",
    "\n",
    "KMeans\n",
    "n = 6\n",
    "Silhouette Coefficient: 0.5914\n",
    "Davies Bouldin Index: 0.3922\n",
    "\n",
    "\n",
    "AgglomerativeClustering\n",
    "n = 5\n",
    "Silhouette Coefficient: 0.5740\n",
    "Davies Bouldin Index: 0.4102\n",
    "\n",
    "\n",
    "AffinityPropagation\n",
    "Silhouette Coefficient: 0.5823\n",
    "Davies Bouldin Index: 0.4142\n",
    "\n",
    "MeanShift\n",
    "quantile=0.2\n",
    "n_samples = 13\n",
    "=> bandwidth\n",
    "Silhouette Coefficient: 0.6012\n",
    "Davies Bouldin Index: 0.3302\n",
    "\n",
    "Birch\n",
    "n=13\n",
    "Silhouette Coefficient: 0.6229\n",
    "Davies Bouldin Index: 0.3374\n",
    "\n",
    "GaussianMixture\n",
    "n =12\n",
    "Silhouette Coefficient: 0.6247\n",
    "Davies Bouldin Index: 0.3561\n",
    "\"\"\""
   ]
  },
  {
   "cell_type": "code",
   "execution_count": 2,
   "metadata": {
    "id": "NEvtJmTa9cJy"
   },
   "outputs": [],
   "source": [
    "# 참고 ) https://tobigs.gitbook.io/tobigs/data-analysis/undefined-3/python-2-2"
   ]
  },
  {
   "cell_type": "markdown",
   "metadata": {
    "id": "t6JGrsLcyH_-"
   },
   "source": [
    "## 패키지 준비"
   ]
  },
  {
   "cell_type": "code",
   "execution_count": 3,
   "metadata": {
    "id": "N4iShWzJyC_G"
   },
   "outputs": [],
   "source": [
    "# data\n",
    "import pandas as pd\n",
    "import numpy as np\n",
    "import warnings\n",
    "warnings.filterwarnings(\"ignore\") \n",
    "\n",
    "# visualization\n",
    "import matplotlib.pyplot as plt\n",
    "import seaborn as sns\n",
    "%matplotlib inline\n",
    "\n",
    "# preprocessing\n",
    "from sklearn.preprocessing import StandardScaler\n",
    "from sklearn.preprocessing import MinMaxScaler\n",
    "from sklearn.decomposition import PCA\n",
    "from sklearn.model_selection import train_test_split\n",
    "\n",
    "# model\n",
    "from sklearn.cluster import KMeans\n",
    "from sklearn.cluster import DBSCAN\n",
    "from scipy.cluster.hierarchy import dendrogram, ward\n",
    "from sklearn.cluster import AgglomerativeClustering\n",
    "from sklearn.cluster import AffinityPropagation\n",
    "from sklearn.cluster import MeanShift, estimate_bandwidth\n",
    "from sklearn.cluster import MiniBatchKMeans\n",
    "from sklearn.cluster import OPTICS\n",
    "from sklearn.cluster import SpectralClustering\n",
    "from sklearn.mixture import GaussianMixture\n",
    "from sklearn.cluster import Birch\n",
    "\n",
    "# grid search\n",
    "from sklearn.model_selection import GridSearchCV\n",
    "\n",
    "# evaluation\n",
    "from sklearn.metrics.cluster import silhouette_score\n",
    "from sklearn.model_selection import cross_val_score\n",
    "from sklearn import metrics\n",
    "from sklearn.metrics import *\n",
    "\n",
    "import copy"
   ]
  },
  {
   "cell_type": "markdown",
   "metadata": {
    "id": "1S01g9z9yZ0r"
   },
   "source": [
    "## 데이터 준비\n",
    "결측치 확인, 상관계수 확인, PCA, MinMaxScaling 등"
   ]
  },
  {
   "cell_type": "code",
   "execution_count": 4,
   "metadata": {},
   "outputs": [
    {
     "data": {
      "text/plain": [
       "'C:\\\\Users\\\\MG\\\\Test_project'"
      ]
     },
     "execution_count": 4,
     "metadata": {},
     "output_type": "execute_result"
    }
   ],
   "source": [
    "import os \n",
    "os.getcwd()"
   ]
  },
  {
   "cell_type": "code",
   "execution_count": 5,
   "metadata": {
    "id": "zoqvLYismDRo"
   },
   "outputs": [],
   "source": [
    "path = 'C:/Users/MG/Test_project/bigcon'\n",
    "df_pre = pd.read_csv(path + '/output\\data\\k_table.csv', encoding='CP949')"
   ]
  },
  {
   "cell_type": "code",
   "execution_count": 6,
   "metadata": {
    "colab": {
     "base_uri": "https://localhost:8080/",
     "height": 143
    },
    "id": "tmKmzS8imI8F",
    "outputId": "7b293c63-6766-456e-9ae7-d41de5c5fa64"
   },
   "outputs": [
    {
     "data": {
      "text/html": [
       "<div>\n",
       "<style scoped>\n",
       "    .dataframe tbody tr th:only-of-type {\n",
       "        vertical-align: middle;\n",
       "    }\n",
       "\n",
       "    .dataframe tbody tr th {\n",
       "        vertical-align: top;\n",
       "    }\n",
       "\n",
       "    .dataframe thead th {\n",
       "        text-align: right;\n",
       "    }\n",
       "</style>\n",
       "<table border=\"1\" class=\"dataframe\">\n",
       "  <thead>\n",
       "    <tr style=\"text-align: right;\">\n",
       "      <th></th>\n",
       "      <th>adng_nm</th>\n",
       "      <th>기존충전소</th>\n",
       "      <th>세대수</th>\n",
       "      <th>주차가능수</th>\n",
       "      <th>주요건물수(영화관,대형점포,공원)</th>\n",
       "    </tr>\n",
       "  </thead>\n",
       "  <tbody>\n",
       "    <tr>\n",
       "      <th>0</th>\n",
       "      <td>구갈동</td>\n",
       "      <td>112</td>\n",
       "      <td>10839.0</td>\n",
       "      <td>546.0</td>\n",
       "      <td>19.0</td>\n",
       "    </tr>\n",
       "    <tr>\n",
       "      <th>1</th>\n",
       "      <td>구성동</td>\n",
       "      <td>145</td>\n",
       "      <td>12235.0</td>\n",
       "      <td>122.0</td>\n",
       "      <td>14.0</td>\n",
       "    </tr>\n",
       "    <tr>\n",
       "      <th>2</th>\n",
       "      <td>기흥동</td>\n",
       "      <td>204</td>\n",
       "      <td>6119.0</td>\n",
       "      <td>34.0</td>\n",
       "      <td>8.0</td>\n",
       "    </tr>\n",
       "  </tbody>\n",
       "</table>\n",
       "</div>"
      ],
      "text/plain": [
       "  adng_nm  기존충전소      세대수  주차가능수  주요건물수(영화관,대형점포,공원)\n",
       "0     구갈동    112  10839.0  546.0                19.0\n",
       "1     구성동    145  12235.0  122.0                14.0\n",
       "2     기흥동    204   6119.0   34.0                 8.0"
      ]
     },
     "execution_count": 6,
     "metadata": {},
     "output_type": "execute_result"
    }
   ],
   "source": [
    "df_pre.head(3)"
   ]
  },
  {
   "cell_type": "code",
   "execution_count": 10,
   "metadata": {
    "id": "2SEIQv0tyYAo"
   },
   "outputs": [],
   "source": [
    "df_raw = pd.read_csv(path + '/output/data/k_table_final.csv', index_col=0)\n",
    "df_raw.reset_index(drop = True, inplace = True)"
   ]
  },
  {
   "cell_type": "code",
   "execution_count": 11,
   "metadata": {
    "colab": {
     "base_uri": "https://localhost:8080/",
     "height": 206
    },
    "id": "qbweSm5a-1t7",
    "outputId": "5a9294aa-bba5-4e48-c06d-865d9e621d78"
   },
   "outputs": [
    {
     "data": {
      "text/html": [
       "<div>\n",
       "<style scoped>\n",
       "    .dataframe tbody tr th:only-of-type {\n",
       "        vertical-align: middle;\n",
       "    }\n",
       "\n",
       "    .dataframe tbody tr th {\n",
       "        vertical-align: top;\n",
       "    }\n",
       "\n",
       "    .dataframe thead th {\n",
       "        text-align: right;\n",
       "    }\n",
       "</style>\n",
       "<table border=\"1\" class=\"dataframe\">\n",
       "  <thead>\n",
       "    <tr style=\"text-align: right;\">\n",
       "      <th></th>\n",
       "      <th>세대수</th>\n",
       "      <th>주차가능수</th>\n",
       "      <th>bpi</th>\n",
       "      <th>ev_traffic</th>\n",
       "      <th>포화도</th>\n",
       "      <th>x_x</th>\n",
       "      <th>x_y</th>\n",
       "    </tr>\n",
       "  </thead>\n",
       "  <tbody>\n",
       "    <tr>\n",
       "      <th>0</th>\n",
       "      <td>10839.0</td>\n",
       "      <td>546.0</td>\n",
       "      <td>0.038266</td>\n",
       "      <td>16.838410</td>\n",
       "      <td>3.493210e-06</td>\n",
       "      <td>1</td>\n",
       "      <td>4</td>\n",
       "    </tr>\n",
       "    <tr>\n",
       "      <th>1</th>\n",
       "      <td>12235.0</td>\n",
       "      <td>122.0</td>\n",
       "      <td>0.034867</td>\n",
       "      <td>6.826027</td>\n",
       "      <td>1.764880e-06</td>\n",
       "      <td>0</td>\n",
       "      <td>2</td>\n",
       "    </tr>\n",
       "    <tr>\n",
       "      <th>2</th>\n",
       "      <td>6119.0</td>\n",
       "      <td>34.0</td>\n",
       "      <td>0.022985</td>\n",
       "      <td>3.861742</td>\n",
       "      <td>5.585987e-07</td>\n",
       "      <td>0</td>\n",
       "      <td>2</td>\n",
       "    </tr>\n",
       "    <tr>\n",
       "      <th>3</th>\n",
       "      <td>6800.0</td>\n",
       "      <td>122.0</td>\n",
       "      <td>0.025924</td>\n",
       "      <td>4.258176</td>\n",
       "      <td>3.663202e-06</td>\n",
       "      <td>0</td>\n",
       "      <td>0</td>\n",
       "    </tr>\n",
       "    <tr>\n",
       "      <th>4</th>\n",
       "      <td>9419.0</td>\n",
       "      <td>0.0</td>\n",
       "      <td>0.010279</td>\n",
       "      <td>3.189948</td>\n",
       "      <td>6.349781e-06</td>\n",
       "      <td>0</td>\n",
       "      <td>0</td>\n",
       "    </tr>\n",
       "  </tbody>\n",
       "</table>\n",
       "</div>"
      ],
      "text/plain": [
       "       세대수  주차가능수       bpi  ev_traffic           포화도  x_x  x_y\n",
       "0  10839.0  546.0  0.038266   16.838410  3.493210e-06    1    4\n",
       "1  12235.0  122.0  0.034867    6.826027  1.764880e-06    0    2\n",
       "2   6119.0   34.0  0.022985    3.861742  5.585987e-07    0    2\n",
       "3   6800.0  122.0  0.025924    4.258176  3.663202e-06    0    0\n",
       "4   9419.0    0.0  0.010279    3.189948  6.349781e-06    0    0"
      ]
     },
     "execution_count": 11,
     "metadata": {},
     "output_type": "execute_result"
    }
   ],
   "source": [
    "df_raw.head()"
   ]
  },
  {
   "cell_type": "code",
   "execution_count": 12,
   "metadata": {
    "id": "eg8m-imnmxCj"
   },
   "outputs": [],
   "source": [
    "df_raw['adng_nm'] = df_pre['adng_nm']"
   ]
  },
  {
   "cell_type": "code",
   "execution_count": 13,
   "metadata": {
    "colab": {
     "base_uri": "https://localhost:8080/",
     "height": 143
    },
    "id": "5Rlvbe_ym_Y1",
    "outputId": "f3e8eeec-aaf1-478f-f378-8c57413580bf"
   },
   "outputs": [
    {
     "data": {
      "text/html": [
       "<div>\n",
       "<style scoped>\n",
       "    .dataframe tbody tr th:only-of-type {\n",
       "        vertical-align: middle;\n",
       "    }\n",
       "\n",
       "    .dataframe tbody tr th {\n",
       "        vertical-align: top;\n",
       "    }\n",
       "\n",
       "    .dataframe thead th {\n",
       "        text-align: right;\n",
       "    }\n",
       "</style>\n",
       "<table border=\"1\" class=\"dataframe\">\n",
       "  <thead>\n",
       "    <tr style=\"text-align: right;\">\n",
       "      <th></th>\n",
       "      <th>세대수</th>\n",
       "      <th>주차가능수</th>\n",
       "      <th>bpi</th>\n",
       "      <th>ev_traffic</th>\n",
       "      <th>포화도</th>\n",
       "      <th>x_x</th>\n",
       "      <th>x_y</th>\n",
       "      <th>adng_nm</th>\n",
       "    </tr>\n",
       "  </thead>\n",
       "  <tbody>\n",
       "    <tr>\n",
       "      <th>0</th>\n",
       "      <td>10839.0</td>\n",
       "      <td>546.0</td>\n",
       "      <td>0.038266</td>\n",
       "      <td>16.838410</td>\n",
       "      <td>3.493210e-06</td>\n",
       "      <td>1</td>\n",
       "      <td>4</td>\n",
       "      <td>구갈동</td>\n",
       "    </tr>\n",
       "    <tr>\n",
       "      <th>1</th>\n",
       "      <td>12235.0</td>\n",
       "      <td>122.0</td>\n",
       "      <td>0.034867</td>\n",
       "      <td>6.826027</td>\n",
       "      <td>1.764880e-06</td>\n",
       "      <td>0</td>\n",
       "      <td>2</td>\n",
       "      <td>구성동</td>\n",
       "    </tr>\n",
       "    <tr>\n",
       "      <th>2</th>\n",
       "      <td>6119.0</td>\n",
       "      <td>34.0</td>\n",
       "      <td>0.022985</td>\n",
       "      <td>3.861742</td>\n",
       "      <td>5.585987e-07</td>\n",
       "      <td>0</td>\n",
       "      <td>2</td>\n",
       "      <td>기흥동</td>\n",
       "    </tr>\n",
       "  </tbody>\n",
       "</table>\n",
       "</div>"
      ],
      "text/plain": [
       "       세대수  주차가능수       bpi  ev_traffic           포화도  x_x  x_y adng_nm\n",
       "0  10839.0  546.0  0.038266   16.838410  3.493210e-06    1    4     구갈동\n",
       "1  12235.0  122.0  0.034867    6.826027  1.764880e-06    0    2     구성동\n",
       "2   6119.0   34.0  0.022985    3.861742  5.585987e-07    0    2     기흥동"
      ]
     },
     "execution_count": 13,
     "metadata": {},
     "output_type": "execute_result"
    }
   ],
   "source": [
    "df_raw.head(3)"
   ]
  },
  {
   "cell_type": "code",
   "execution_count": 14,
   "metadata": {
    "id": "amRKfaU36-f7"
   },
   "outputs": [],
   "source": [
    "df_corr = df_raw[:]"
   ]
  },
  {
   "cell_type": "code",
   "execution_count": 15,
   "metadata": {
    "id": "0Jpi3rFl7EAS"
   },
   "outputs": [],
   "source": [
    "df_corr.columns = ['#ofhouseholds', '#ofparkingAvailable', 'bpi', 'ev_traffic',\n",
    "       'saturation', 'x_x', 'x_y', 'adng_nm']"
   ]
  },
  {
   "cell_type": "code",
   "execution_count": 16,
   "metadata": {
    "colab": {
     "base_uri": "https://localhost:8080/",
     "height": 361
    },
    "id": "d7z_stGSEPpp",
    "outputId": "f4a432f3-f664-4a5b-88ae-019dcfab8f35"
   },
   "outputs": [
    {
     "data": {
      "image/png": "[encoded data removed]",
      "text/plain": [
       "<Figure size 432x288 with 2 Axes>"
      ]
     },
     "metadata": {
      "needs_background": "light"
     },
     "output_type": "display_data"
    }
   ],
   "source": [
    "g = sns.heatmap(df_corr.corr(), annot=True, linewidths=.5)\n",
    "bottom, top = g.get_ylim() # heatmap plot이 잘리는 것 방지하기 위한 방법\n",
    "g.set_ylim(bottom+0.5, top-0.5)\n",
    "plt.show()"
   ]
  },
  {
   "cell_type": "code",
   "execution_count": 17,
   "metadata": {
    "id": "rVjTRJ4v-6Yu"
   },
   "outputs": [],
   "source": [
    "df = df_raw.iloc[:,:-1]"
   ]
  },
  {
   "cell_type": "code",
   "execution_count": 18,
   "metadata": {
    "colab": {
     "base_uri": "https://localhost:8080/"
    },
    "id": "kx_vytBCFBvd",
    "outputId": "268514c0-fe0f-41f0-f4ad-a1c2a6c624ef"
   },
   "outputs": [
    {
     "data": {
      "text/plain": [
       "(35, 2)"
      ]
     },
     "execution_count": 18,
     "metadata": {},
     "output_type": "execute_result"
    }
   ],
   "source": [
    "pca = PCA(n_components=2)\n",
    "df = pca.fit_transform(df)\n",
    "df.shape"
   ]
  },
  {
   "cell_type": "code",
   "execution_count": 19,
   "metadata": {},
   "outputs": [],
   "source": [
    "df = pd.DataFrame(df)"
   ]
  },
  {
   "cell_type": "markdown",
   "metadata": {
    "id": "PQMJOyuDw73q"
   },
   "source": [
    "## K-means (1)\n",
    "elbow curve를 그려서 경사가 급격히 변하는 포인트를 확인"
   ]
  },
  {
   "cell_type": "code",
   "execution_count": 20,
   "metadata": {
    "colab": {
     "base_uri": "https://localhost:8080/",
     "height": 336
    },
    "id": "DriG4O60xKMk",
    "outputId": "70426aee-c59e-4ca2-ddb4-84c525c1167c"
   },
   "outputs": [
    {
     "data": {
      "image/png": "[encoded data removed]",
      "text/plain": [
       "<Figure size 720x360 with 1 Axes>"
      ]
     },
     "metadata": {
      "needs_background": "light"
     },
     "output_type": "display_data"
    }
   ],
   "source": [
    "distortions = []\n",
    "for k in range(2, 20):\n",
    "    kmeans = KMeans(n_clusters=k)\n",
    "    kmeans.fit(df) # df is array\n",
    "    distortions.append(kmeans.inertia_)\n",
    "\n",
    "fig = plt.figure(figsize=(10, 5))\n",
    "plt.plot(range(2, 20), distortions)\n",
    "plt.grid(True)\n",
    "plt.title('Elbow curve')\n",
    "plt.show()"
   ]
  },
  {
   "cell_type": "code",
   "execution_count": 21,
   "metadata": {
    "id": "0eX_nGBlyO-a"
   },
   "outputs": [],
   "source": [
    "n_clusters = 5 # FIX ME "
   ]
  },
  {
   "cell_type": "code",
   "execution_count": 22,
   "metadata": {
    "id": "gWOCvPyMFMJP"
   },
   "outputs": [],
   "source": [
    "df = pd.DataFrame(df)"
   ]
  },
  {
   "cell_type": "code",
   "execution_count": 23,
   "metadata": {
    "colab": {
     "base_uri": "https://localhost:8080/",
     "height": 331
    },
    "id": "uGEC1HcDxaEU",
    "outputId": "bd933c7f-443e-4b4d-f174-d6b82e696cb0"
   },
   "outputs": [
    {
     "data": {
      "image/png": "[encoded data removed]",
      "text/plain": [
       "<Figure size 432x288 with 1 Axes>"
      ]
     },
     "metadata": {
      "needs_background": "light"
     },
     "output_type": "display_data"
    },
    {
     "name": "stdout",
     "output_type": "stream",
     "text": [
      "Silhouette Coefficient: 0.5658\n",
      "Davies Bouldin Index: 0.4429\n"
     ]
    }
   ],
   "source": [
    "n = [6] # 6\n",
    "for i in n:\n",
    "  km = KMeans(n_clusters=i, init='k-means++', random_state=0)\n",
    "  cluster = km.fit(df) # df는 DataFrame\n",
    "  cluster_id = pd.DataFrame(cluster.labels_)\n",
    "  d1 = pd.concat([df, cluster_id], axis=1)\n",
    "\n",
    "\n",
    "  d1.columns = [0, 1, \"cluster\"]\n",
    "  sns.scatterplot(d1[0], d1[1], hue = d1['cluster'], legend=\"full\")\n",
    "  sns.scatterplot(km.cluster_centers_[:, 0], km.cluster_centers_[:, 1], label = 'Centroids')\n",
    "  plt.title(\"KMeans Clustering\")\n",
    "  plt.legend()\n",
    "  plt.show()\n",
    "\n",
    "\n",
    "  # 실루엣 계수가 클수록, Davies Bouldin Index가 작을수록 좋다\n",
    "  print('Silhouette Coefficient: {:.4f}'.format(metrics.silhouette_score(d1.iloc[:,:-1], d1['cluster'])))\n",
    "  print('Davies Bouldin Index: {:.4f}'.format(metrics.davies_bouldin_score(d1.iloc[:,:-1], d1['cluster'])))"
   ]
  },
  {
   "cell_type": "markdown",
   "metadata": {
    "id": "ovD3TXx6xbsT"
   },
   "source": [
    "## DBSCAN (2)\n",
    "- eps: 입실론 주변영역(반경) , 군집 원 반지름의 크기 (default : 0.5)\n",
    "- min_samples: 입실론 반경 포함되는 최소 샘플의 갯수 (default : 5)"
   ]
  },
  {
   "cell_type": "code",
   "execution_count": 24,
   "metadata": {
    "id": "OekgUuvhzCwe"
   },
   "outputs": [],
   "source": [
    "# # Not Scaled \n",
    "# eps = [2,5,7,8,10]\n",
    "# for i in eps:\n",
    "#     db = DBSCAN(eps=i, min_samples=4)\n",
    "#     cluster = db.fit(df)\n",
    "#     cluster_id = pd.DataFrame(cluster.labels_)\n",
    "    \n",
    "#     d2 = pd.DataFrame()\n",
    "#     d2 = pd.concat([df,cluster_id],axis=1)\n",
    "\n",
    "#     # 시각화 부분으로 PCA를 통해 변수를 2개로 줄이면 사용 가능\n",
    "    \n",
    "#     d2.columns = [0, 1, \"cluster\"]\n",
    "    \n",
    "#     sns.scatterplot(d2[0], d2[1], hue = d2['cluster'], legend=\"full\")\n",
    "#     plt.title('DBScan with eps {}'.format(i))\n",
    "#     plt.show()\n",
    "    \n",
    "#     # 실루엣 계수가 클수록, Davies Bouldin Index가 작을수록 좋다\n",
    "#     print('Silhouette Coefficient: {:.4f}'.format(metrics.silhouette_score(d2.iloc[:,:-1], d2[\"cluster\"])))\n",
    "#     print('Davies Bouldin Index: {:.4f}'.format(metrics.davies_bouldin_score(d2.iloc[:,:-1], d2[\"cluster\"])))"
   ]
  },
  {
   "cell_type": "code",
   "execution_count": 25,
   "metadata": {
    "id": "XP_8Yat2ztdv"
   },
   "outputs": [],
   "source": [
    "# # Scaled\n",
    "# ss = StandardScaler()\n",
    "# scaled_df = pd.DataFrame(ss.fit_transform(df))\n",
    "\n",
    "# eps = [0.5]\n",
    "# for i in eps:\n",
    "#     db = DBSCAN(eps=i, min_samples=4)\n",
    "#     cluster = db.fit(scaled_df)\n",
    "#     cluster_id = pd.DataFrame(cluster.labels_)\n",
    "    \n",
    "#     d3 = pd.DataFrame()\n",
    "#     d3 = pd.concat([scaled_df,cluster_id],axis=1)\n",
    "    \n",
    "#     d3.columns = [0, 1, \"cluster\"]\n",
    "    \n",
    "#     sns.scatterplot(d3[0], d3[1], hue = d3['cluster'], legend=\"full\")\n",
    "#     plt.title('DBScan with eps {}'.format(i))\n",
    "#     plt.show()\n",
    "    \n",
    "\n",
    "#     # 실루엣 계수가 클수록, Davies Bouldin Index가 작을수록 좋다\n",
    "#     print('Silhouette Coefficient: {:.4f}'.format(metrics.silhouette_score(d3.iloc[:,:-1], d3[\"cluster\"])))\n",
    "#     print('Davies Bouldin Index: {:.4f}'.format(metrics.davies_bouldin_score(d3.iloc[:,:-1], d3[\"cluster\"])))"
   ]
  },
  {
   "cell_type": "markdown",
   "metadata": {
    "id": "8_D_Do7qz0j4"
   },
   "source": [
    "## Hierarchical agglomerative clustering\n",
    "\n",
    "특정 클러스터 개수보다 많아질 경우 Cluster 간의 거리가 급격히 줄어들면 자른다."
   ]
  },
  {
   "cell_type": "code",
   "execution_count": 26,
   "metadata": {
    "colab": {
     "base_uri": "https://localhost:8080/",
     "height": 283
    },
    "id": "k_Wnqa0Iz3U-",
    "outputId": "a43b922d-3e2d-4d13-97ab-a01c6fd25d9e"
   },
   "outputs": [
    {
     "data": {
      "image/png": "[encoded data removed]",
      "text/plain": [
       "<Figure size 432x288 with 1 Axes>"
      ]
     },
     "metadata": {
      "needs_background": "light"
     },
     "output_type": "display_data"
    }
   ],
   "source": [
    "linkage_array = ward(df)\n",
    "dendrogram(linkage_array)\n",
    "plt.xlabel(\"Sample Num\")\n",
    "plt.ylabel(\"Cluster Dist\")\n",
    "\n",
    "# 클러스터를 구분하는 커트라인을 표시\n",
    "ax = plt.gca()\n",
    "bounds = ax.get_xbound()\n",
    "ax.plot(bounds, [350, 350], '--', c='k')\n",
    "ax.plot(bounds, [200, 200], '--', c='k')\n",
    "ax.text(bounds[1], 350, ' 3 Clusters ', va='center', fontdict={'size': 10})\n",
    "ax.text(bounds[1], 200, ' 5 Clusters ', va='center', fontdict={'size': 10})\n",
    "plt.show()"
   ]
  },
  {
   "cell_type": "code",
   "execution_count": null,
   "metadata": {
    "id": "SOUhFbILz-Je"
   },
   "outputs": [],
   "source": []
  },
  {
   "cell_type": "markdown",
   "metadata": {
    "id": "_47LEiij0JoK"
   },
   "source": [
    "## Agglomerative Clustering "
   ]
  },
  {
   "cell_type": "code",
   "execution_count": 27,
   "metadata": {
    "colab": {
     "base_uri": "https://localhost:8080/",
     "height": 1000
    },
    "id": "tDlLvnDl0LIv",
    "outputId": "42aafdf1-afe7-42e2-f92c-8e8ff72bf1e2"
   },
   "outputs": [
    {
     "data": {
      "image/png": "[encoded data removed]",
      "text/plain": [
       "<Figure size 432x288 with 1 Axes>"
      ]
     },
     "metadata": {
      "needs_background": "light"
     },
     "output_type": "display_data"
    },
    {
     "name": "stdout",
     "output_type": "stream",
     "text": [
      "Silhouette Coefficient: 0.5064\n",
      "Davies Bouldin Index: 0.5379\n"
     ]
    },
    {
     "data": {
      "image/png": "[encoded data removed]",
      "text/plain": [
       "<Figure size 432x288 with 1 Axes>"
      ]
     },
     "metadata": {
      "needs_background": "light"
     },
     "output_type": "display_data"
    },
    {
     "name": "stdout",
     "output_type": "stream",
     "text": [
      "Silhouette Coefficient: 0.5113\n",
      "Davies Bouldin Index: 0.5573\n"
     ]
    },
    {
     "data": {
      "image/png": "[encoded data removed]",
      "text/plain": [
       "<Figure size 432x288 with 1 Axes>"
      ]
     },
     "metadata": {
      "needs_background": "light"
     },
     "output_type": "display_data"
    },
    {
     "name": "stdout",
     "output_type": "stream",
     "text": [
      "Silhouette Coefficient: 0.5242\n",
      "Davies Bouldin Index: 0.5492\n"
     ]
    },
    {
     "data": {
      "image/png": "[encoded data removed]",
      "text/plain": [
       "<Figure size 432x288 with 1 Axes>"
      ]
     },
     "metadata": {
      "needs_background": "light"
     },
     "output_type": "display_data"
    },
    {
     "name": "stdout",
     "output_type": "stream",
     "text": [
      "Silhouette Coefficient: 0.5608\n",
      "Davies Bouldin Index: 0.4393\n"
     ]
    },
    {
     "data": {
      "image/png": "[encoded data removed]",
      "text/plain": [
       "<Figure size 432x288 with 1 Axes>"
      ]
     },
     "metadata": {
      "needs_background": "light"
     },
     "output_type": "display_data"
    },
    {
     "name": "stdout",
     "output_type": "stream",
     "text": [
      "Silhouette Coefficient: 0.5618\n",
      "Davies Bouldin Index: 0.4536\n"
     ]
    },
    {
     "data": {
      "image/png": "[encoded data removed]",
      "text/plain": [
       "<Figure size 432x288 with 1 Axes>"
      ]
     },
     "metadata": {
      "needs_background": "light"
     },
     "output_type": "display_data"
    },
    {
     "name": "stdout",
     "output_type": "stream",
     "text": [
      "Silhouette Coefficient: 0.5257\n",
      "Davies Bouldin Index: 0.5509\n"
     ]
    },
    {
     "data": {
      "image/png": "[encoded data removed]",
      "text/plain": [
       "<Figure size 432x288 with 1 Axes>"
      ]
     },
     "metadata": {
      "needs_background": "light"
     },
     "output_type": "display_data"
    },
    {
     "name": "stdout",
     "output_type": "stream",
     "text": [
      "Silhouette Coefficient: 0.5454\n",
      "Davies Bouldin Index: 0.5208\n"
     ]
    }
   ],
   "source": [
    "n = [2,3,4,5,6,7,9] # 5\n",
    "for i in n:\n",
    "    agg = AgglomerativeClustering(n_clusters=i)\n",
    "    cluster = agg.fit(df)\n",
    "    cluster_id = pd.DataFrame(cluster.labels_)\n",
    "    \n",
    "    d4 = pd.DataFrame()\n",
    "    d4 = pd.concat([df,cluster_id],axis=1)\n",
    "\n",
    "    # 시각화 부분으로 PCA를 통해 변수를 2개로 줄이면 사용 가능\n",
    "\n",
    "    d4.columns = [0, 1, \"cluster\"]\n",
    "    \n",
    "    sns.scatterplot(d4[0], d4[1], hue = d4['cluster'], legend=\"full\")\n",
    "    plt.title('Agglomerative with {} clusters'.format(i))\n",
    "    plt.show()\n",
    "\n",
    "\n",
    "    # 실루엣 계수가 클수록, Davies Bouldin Index가 작을수록 좋다\n",
    "    print('Silhouette Coefficient: {:.4f}'.format(metrics.silhouette_score(d4.iloc[:,:-1], d4['cluster'])))\n",
    "    print('Davies Bouldin Index: {:.4f}'.format(metrics.davies_bouldin_score(d4.iloc[:,:-1], d4['cluster'])))"
   ]
  },
  {
   "cell_type": "markdown",
   "metadata": {
    "id": "woOfArP70kOP"
   },
   "source": [
    "## Affinity Propagation (5)\n",
    "모든 데이터가 특정한 기준에 따라 자신을 대표할 대표 데이터를 선택한다.\n",
    "\n",
    "만약 스스로가 자기 자신을 대표하게 되면 클러스터의 중심이 된다.\n"
   ]
  },
  {
   "cell_type": "code",
   "execution_count": 28,
   "metadata": {
    "colab": {
     "base_uri": "https://localhost:8080/",
     "height": 331
    },
    "id": "4TR54zdf0rpG",
    "outputId": "75dbce1f-915b-44ff-d0f6-71cb12c4eaeb"
   },
   "outputs": [
    {
     "data": {
      "image/png": "[encoded data removed]",
      "text/plain": [
       "<Figure size 432x288 with 1 Axes>"
      ]
     },
     "metadata": {
      "needs_background": "light"
     },
     "output_type": "display_data"
    },
    {
     "name": "stdout",
     "output_type": "stream",
     "text": [
      "Silhouette Coefficient: 0.5589\n",
      "Davies Bouldin Index: 0.4531\n"
     ]
    }
   ],
   "source": [
    "ap = AffinityPropagation() # 5\n",
    "cluster = ap.fit(df)\n",
    "cluster_id = pd.DataFrame(cluster.labels_)\n",
    "\n",
    "d5 = pd.DataFrame()\n",
    "d5 = pd.concat([df,cluster_id],axis=1)\n",
    "\n",
    "\n",
    "d5.columns = [0, 1, \"cluster\"]\n",
    "\n",
    "sns.scatterplot(d5[0], d5[1], hue = d5['cluster'], legend=\"full\")\n",
    "plt.title('Affinity Propagation {} clusters'.format(len(d5.cluster.unique())))\n",
    "plt.show()\n",
    "\n",
    "\n",
    "print('Silhouette Coefficient: {:.4f}'.format(metrics.silhouette_score(d5.iloc[:,:-1], d5['cluster'])))\n",
    "print('Davies Bouldin Index: {:.4f}'.format(metrics.davies_bouldin_score(d5.iloc[:,:-1], d5['cluster'])))"
   ]
  },
  {
   "cell_type": "markdown",
   "metadata": {
    "id": "8P7JW0u30wca"
   },
   "source": [
    "### Mean Shift (6)\n",
    "- 평균 이동(Mean Shift)는 K-Means와 유사하게 중심을 군집의 중심으로 지속적으로 움직이며 군집화 진행\n",
    "- 평균 이동: 중심을 데이터가 모여 있는 밀도가 가장 높은 곳으로 이동한다.\n",
    "\n",
    "각 점들에 대해 데이터의 분포에서 mode를 찾아 이동하다보면 점들이 적당하게 모일 것이라는 것이라는 아이디어\n",
    "\n",
    "bandwidth : 얼마나 관대하게 봐줄지를 설정하는 폭\n",
    "\n",
    "## 주로 사용하는 파라미터\n",
    "- bandwidth = n, bandwidth의 크기에 따른 군집화 영향도가 매우크다.\n",
    "- 최적의 bandwidth을 찾아야한다.\n",
    "\n",
    "### 참고\n",
    "- bandwidth의 적정값을 estimate_bandwidth함수로 출력 가능\n",
    "-  quantile = n,  데이터 개수의 일정 비율만큼 샘플링하면서 mean shift하게됨\n",
    "-  따라서, 데이터 개수가 엄청 많아질시 quantile값이 적으면 시간이 너무 오래걸림"
   ]
  },
  {
   "cell_type": "code",
   "execution_count": null,
   "metadata": {
    "colab": {
     "base_uri": "https://localhost:8080/",
     "height": 1000
    },
    "id": "hesDHemQ0z33",
    "outputId": "2f83158a-7dca-419d-fcf2-108a71d24b82"
   },
   "outputs": [
    {
     "data": {
      "image/png": "[encoded data removed]",
      "text/plain": [
       "<Figure size 432x288 with 1 Axes>"
      ]
     },
     "metadata": {
      "needs_background": "light"
     },
     "output_type": "display_data"
    },
    {
     "name": "stdout",
     "output_type": "stream",
     "text": [
      "Silhouette Coefficient: 0.4688\n",
      "Davies Bouldin Index: 0.4150\n"
     ]
    },
    {
     "data": {
      "image/png": "[encoded data removed]",
      "text/plain": [
       "<Figure size 432x288 with 1 Axes>"
      ]
     },
     "metadata": {
      "needs_background": "light"
     },
     "output_type": "display_data"
    },
    {
     "name": "stdout",
     "output_type": "stream",
     "text": [
      "Silhouette Coefficient: 0.5032\n",
      "Davies Bouldin Index: 0.4504\n"
     ]
    },
    {
     "data": {
      "image/png": "[encoded data removed]",
      "text/plain": [
       "<Figure size 432x288 with 1 Axes>"
      ]
     },
     "metadata": {
      "needs_background": "light"
     },
     "output_type": "display_data"
    },
    {
     "name": "stdout",
     "output_type": "stream",
     "text": [
      "Silhouette Coefficient: 0.5350\n",
      "Davies Bouldin Index: 0.3529\n"
     ]
    },
    {
     "data": {
      "image/png": "[encoded data removed]",
      "text/plain": [
       "<Figure size 432x288 with 1 Axes>"
      ]
     },
     "metadata": {
      "needs_background": "light"
     },
     "output_type": "display_data"
    },
    {
     "name": "stdout",
     "output_type": "stream",
     "text": [
      "Silhouette Coefficient: 0.6109\n",
      "Davies Bouldin Index: 0.3456\n"
     ]
    }
   ],
   "source": [
    "n = [10, 11, 12, 13, 14, 15, 16, 17, 18, 19, 20]    # 13\n",
    "for i in n:\n",
    "    bandwidth = estimate_bandwidth(df, quantile=0.2, n_samples=i, random_state=0)\n",
    "    ms = MeanShift(bandwidth=bandwidth)\n",
    "    cluster = ms.fit(df)\n",
    "    cluster_id = pd.DataFrame(cluster.labels_)\n",
    "\n",
    "    d6 = pd.DataFrame()\n",
    "    d6 = pd.concat([df,cluster_id],axis=1)\n",
    "\n",
    "\n",
    "    d6.columns = [0, 1, \"cluster\"]\n",
    "\n",
    "    sns.scatterplot(d6[0], d6[1], hue = d6['cluster'], legend=\"full\")\n",
    "    plt.title('Mean Shift with {} samples'.format(i))\n",
    "    plt.show()\n",
    "\n",
    "\n",
    "    print('Silhouette Coefficient: {:.4f}'.format(metrics.silhouette_score(d6.iloc[:,:-1], d6['cluster'])))\n",
    "    print('Davies Bouldin Index: {:.4f}'.format(metrics.davies_bouldin_score(d6.iloc[:,:-1], d6['cluster'])))"
   ]
  },
  {
   "cell_type": "markdown",
   "metadata": {
    "id": "0W7cXynA3mGI"
   },
   "source": [
    "## Minibatch K means (7)\n",
    "- n_cluster = n , default=8  클러스터 갯수\n",
    "- batch_size = n , default=1024 \n",
    "\n",
    "데이터를 미니배치 크기만큼 무작위로 분리하여 K-평균 군집화 진행"
   ]
  },
  {
   "cell_type": "code",
   "execution_count": null,
   "metadata": {
    "id": "XQWQ1Hq42Zvq"
   },
   "outputs": [],
   "source": [
    "# batch_size = [20, 21, 22, 23, 24, 25, 26, 27, 28, 29, 30]\n",
    "# for i in batch_size:\n",
    "#     kmeans = MiniBatchKMeans(n_clusters=6, batch_size=i, random_state=0) #n_clusters는 elbow 사용\n",
    "#     cluster = kmeans.fit(df)\n",
    "#     cluster_id = pd.DataFrame(cluster.labels_)\n",
    "\n",
    "#     d7 = pd.DataFrame()\n",
    "#     d7 = pd.concat([df,cluster_id],axis=1)\n",
    "\n",
    "\n",
    "#     d7.columns = [0, 1, \"cluster\"]\n",
    "\n",
    "#     sns.scatterplot(d7[0], d7[1], hue = d7['cluster'], legend=\"full\")\n",
    "#     plt.title('Minibatch K-means with {} samples'.format(i))\n",
    "#     plt.show()\n",
    "\n",
    "\n",
    "#     print('Silhouette Coefficient: {:.4f}'.format(metrics.silhouette_score(d7.iloc[:,:-1], d7['cluster'])))\n",
    "#     print('Davies Bouldin Index: {:.4f}'.format(metrics.davies_bouldin_score(d7.iloc[:,:-1], d7['cluster'])))"
   ]
  },
  {
   "cell_type": "markdown",
   "metadata": {
    "id": "mOqXylan406C"
   },
   "source": [
    "## Birch (8)"
   ]
  },
  {
   "cell_type": "code",
   "execution_count": null,
   "metadata": {
    "colab": {
     "base_uri": "https://localhost:8080/",
     "height": 1000
    },
    "id": "ldiLl4xY43hT",
    "outputId": "c41bbecd-3f09-479b-be4a-00b7da952d63"
   },
   "outputs": [],
   "source": [
    "n = [8, 9, 10 ,11 ,12 ,13, 14 , 15]    # 13\n",
    "for i in n:\n",
    "    \n",
    "    birch = Birch(n_clusters=i) # threshold 0.5, branching_factor 50\n",
    "    cluster = birch.fit(df)\n",
    "    cluster_id = pd.DataFrame(cluster.labels_) \n",
    "\n",
    "    d8 = pd.DataFrame()\n",
    "    d8 = pd.concat([df,cluster_id],axis=1)\n",
    "\n",
    "\n",
    "    d8.columns = [0, 1, \"cluster\"]\n",
    "\n",
    "    sns.scatterplot(d8[0], d8[1], hue = d8['cluster'], legend=\"full\")\n",
    "    plt.title('Birch with {} samples'.format(i))\n",
    "    plt.show()\n",
    "\n",
    "\n",
    "    print('Silhouette Coefficient: {:.4f}'.format(metrics.silhouette_score(d8.iloc[:,:-1], d8['cluster'])))\n",
    "    print('Davies Bouldin Index: {:.4f}'.format(metrics.davies_bouldin_score(d8.iloc[:,:-1], d8['cluster'])))"
   ]
  },
  {
   "cell_type": "code",
   "execution_count": null,
   "metadata": {},
   "outputs": [],
   "source": [
    "import sklearn\n",
    "sklearn.__version__"
   ]
  },
  {
   "cell_type": "code",
   "execution_count": null,
   "metadata": {
    "id": "yv3d7SGRW2Wr"
   },
   "outputs": [],
   "source": []
  },
  {
   "cell_type": "markdown",
   "metadata": {
    "id": "nH47RpuL45Hh"
   },
   "source": [
    "## OPTICS (9)"
   ]
  },
  {
   "cell_type": "code",
   "execution_count": null,
   "metadata": {
    "id": "fQ3fXeGT46Jr"
   },
   "outputs": [],
   "source": [
    "# xi = [0.001, 0.005, 0.01, 0.025, 0.05, 0.1, 0.2, 0.4]   # default 0.05 float between 0 and 1\n",
    "# for i in xi:\n",
    "#     optics = OPTICS(min_samples=4, xi=i) # min_samples default 5\n",
    "#     cluster = optics.fit(df)\n",
    "#     cluster_id = pd.DataFrame(cluster.labels_)\n",
    "\n",
    "#     d9 = pd.DataFrame()\n",
    "#     d9 = pd.concat([df,cluster_id],axis=1)\n",
    "\n",
    "    \n",
    "#     d9.columns = [0, 1, \"cluster\"]\n",
    "\n",
    "#     sns.scatterplot(d9[0], d9[1], hue = d9['cluster'], legend=\"full\")\n",
    "#     plt.title('OPTICS with {} samples'.format(i))\n",
    "#     plt.show()\n",
    "    \n",
    "\n",
    "#     print('Silhouette Coefficient: {:.4f}'.format(metrics.silhouette_score(d9.iloc[:,:-1], d9[\"cluster\"])))\n",
    "#     print('Davies Bouldin Index: {:.4f}'.format(metrics.davies_bouldin_score(d9.iloc[:,:-1], d9[\"cluster\"])))"
   ]
  },
  {
   "cell_type": "markdown",
   "metadata": {
    "id": "dircLQeV46rG"
   },
   "source": [
    "## Spectral Clustering (10)"
   ]
  },
  {
   "cell_type": "code",
   "execution_count": null,
   "metadata": {
    "id": "qaxSYekZ49NH"
   },
   "outputs": [],
   "source": [
    "# n = [2, 4, 6, 8]  \n",
    "# for i in n:\n",
    "#     SC = SpectralClustering(n_clusters=i)\n",
    "#     cluster = SC.fit(df)\n",
    "#     cluster_id = pd.DataFrame(cluster.labels_)\n",
    "\n",
    "#     d10 = pd.DataFrame()\n",
    "#     d10 = pd.concat([df,cluster_id],axis=1)\n",
    "\n",
    "    \n",
    "#     d10.columns = [0, 1, \"cluster\"]\n",
    "\n",
    "#     sns.scatterplot(d10[0], d10[1], hue = d10['cluster'], legend=\"full\")\n",
    "#     plt.title('Spectral Clustering with {} samples'.format(i))\n",
    "#     plt.show()\n",
    "    \n",
    "\n",
    "#     print('Silhouette Coefficient: {:.4f}'.format(metrics.silhouette_score(d10.iloc[:,:-1], d10[\"cluster\"])))\n",
    "#     print('Davies Bouldin Index: {:.4f}'.format(metrics.davies_bouldin_score(d10.iloc[:,:-1], d10[\"cluster\"])))"
   ]
  },
  {
   "cell_type": "markdown",
   "metadata": {
    "id": "98SYAbQG49uM"
   },
   "source": [
    "## Gaussian Mixture (11)"
   ]
  },
  {
   "cell_type": "code",
   "execution_count": null,
   "metadata": {
    "colab": {
     "base_uri": "https://localhost:8080/",
     "height": 1000
    },
    "id": "6Y2frKnI4_HD",
    "outputId": "9da1404c-62f7-4460-ed1f-67e2dad667aa"
   },
   "outputs": [],
   "source": [
    "n = [9, 10, 11, 12, 13, 14, 15]  # 12\n",
    "for i in n:\n",
    "    GM = GaussianMixture(n_components=i, random_state=0) # covariance_type{‘full’, ‘tied’, ‘diag’, ‘spherical’}, default=’full’\n",
    "    cluster = GM.fit(df)\n",
    "    cluster_id = pd.DataFrame(cluster.predict(df))\n",
    "\n",
    "    d11 = pd.DataFrame()\n",
    "    d11 = pd.concat([df,cluster_id],axis=1)\n",
    "\n",
    "    \n",
    "    d11.columns = [0, 1, \"cluster\"]\n",
    "\n",
    "    sns.scatterplot(d11[0], d11[1], hue = d11['cluster'], legend=\"full\")\n",
    "    plt.title('Spectral Clustering with {} samples'.format(i))\n",
    "    plt.show()\n",
    "    \n",
    "\n",
    "    print('Silhouette Coefficient: {:.4f}'.format(metrics.silhouette_score(d11.iloc[:,:-1], d11['cluster'])))\n",
    "    print('Davies Bouldin Index: {:.4f}'.format(metrics.davies_bouldin_score(d11.iloc[:,:-1], d11['cluster'])))\n",
    "\n",
    "# https://scikit-learn.org/stable/auto_examples/mixture/plot_gmm_selection.html (Model Selection 추가 bic, aic)\n",
    "# https://rk1993.tistory.com/entry/AIC-BIC-Mallows-Cp-%EC%89%BD%EA%B2%8C-%EC%9D%B4%ED%95%B4%ED%95%98%EA%B8%B0 (bic, aic)\n",
    "# AIC, BIC를 최소화한다는 것은 우도를 가장 크게 하는 동시에 변수 개수는 적은 최적의 모델을 찾는 것\n",
    "# Clustering에선 변수 개수가 아니라 군집 개수일 듯"
   ]
  },
  {
   "cell_type": "code",
   "execution_count": null,
   "metadata": {
    "id": "2F3kU6_l87-u"
   },
   "outputs": [],
   "source": []
  },
  {
   "cell_type": "markdown",
   "metadata": {
    "id": "P-zZ2XhEC_q1"
   },
   "source": [
    "## Hard-voting"
   ]
  },
  {
   "cell_type": "code",
   "execution_count": null,
   "metadata": {
    "id": "glhbrwRn8o8c"
   },
   "outputs": [],
   "source": [
    "# from sklearn.preprocessing import MinMaxScaler\n",
    "\n",
    "# min_max_scaler = MinMaxScaler()\n",
    "# min_max_scaler.fit(df_raw.drop('adng_nm', axis=1))\n",
    "# df_scaled = min_max_scaler.transform(df_raw.drop('adng_nm', axis=1))"
   ]
  },
  {
   "cell_type": "code",
   "execution_count": null,
   "metadata": {
    "id": "ZKcRvhNZDB6Z"
   },
   "outputs": [],
   "source": [
    "km = KMeans(n_clusters=6, init='k-means++', random_state=0)\n",
    "agg = AgglomerativeClustering(n_clusters=5)\n",
    "ap = AffinityPropagation()\n",
    "bandwidth = estimate_bandwidth(df, quantile=0.2, n_samples=13, random_state=0)\n",
    "ms = MeanShift(bandwidth=bandwidth)\n",
    "# mb = MiniBatchKMeans(n_clusters=6, batch_size=26) #km과 결과가 같음\n",
    "birch = Birch(n_clusters=13)\n",
    "GM = GaussianMixture(n_components=12, random_state=0)"
   ]
  },
  {
   "cell_type": "code",
   "execution_count": null,
   "metadata": {
    "id": "P7pyhyZIjQja"
   },
   "outputs": [],
   "source": [
    "df_new = copy.deepcopy(df_raw)"
   ]
  },
  {
   "cell_type": "code",
   "execution_count": null,
   "metadata": {
    "colab": {
     "base_uri": "https://localhost:8080/",
     "height": 143
    },
    "id": "pOLhIy2Njm4g",
    "outputId": "4400c90a-fe1f-4512-af6c-e13ad609c1ff"
   },
   "outputs": [],
   "source": [
    "df_new.head(3)"
   ]
  },
  {
   "cell_type": "code",
   "execution_count": null,
   "metadata": {
    "id": "ynaO4aLgiepx"
   },
   "outputs": [],
   "source": [
    "models = {'KMeans' : km,\n",
    "         'AgglomerativeClustering' : agg,\n",
    "         'AffinityPropagation' : ap,\n",
    "         'MeanShift' : ms,\n",
    "         'Birch' : birch,\n",
    "         }\n",
    "\n",
    "for model in models:\n",
    "  models[model].fit(df)\n",
    "  labels = models[model].labels_\n",
    "\n",
    "  df_new[model] = labels.astype(str)\n",
    "\n"
   ]
  },
  {
   "cell_type": "code",
   "execution_count": 37,
   "metadata": {
    "id": "_V2H53cZkF3A"
   },
   "outputs": [],
   "source": [
    "GM_labels = GM.fit_predict(df)\n",
    "\n",
    "df_new['GaussianMixture'] = GM_labels.astype(str)"
   ]
  },
  {
   "cell_type": "code",
   "execution_count": 38,
   "metadata": {
    "colab": {
     "base_uri": "https://localhost:8080/",
     "height": 329
    },
    "id": "wC0sLLvckBU4",
    "outputId": "3729526f-622a-4ae8-8096-045623e7a85b"
   },
   "outputs": [
    {
     "data": {
      "text/html": [
       "<div>\n",
       "<style scoped>\n",
       "    .dataframe tbody tr th:only-of-type {\n",
       "        vertical-align: middle;\n",
       "    }\n",
       "\n",
       "    .dataframe tbody tr th {\n",
       "        vertical-align: top;\n",
       "    }\n",
       "\n",
       "    .dataframe thead th {\n",
       "        text-align: right;\n",
       "    }\n",
       "</style>\n",
       "<table border=\"1\" class=\"dataframe\">\n",
       "  <thead>\n",
       "    <tr style=\"text-align: right;\">\n",
       "      <th></th>\n",
       "      <th>세대수</th>\n",
       "      <th>주차가능수</th>\n",
       "      <th>bpi</th>\n",
       "      <th>ev_traffic</th>\n",
       "      <th>포화도</th>\n",
       "      <th>x_x</th>\n",
       "      <th>x_y</th>\n",
       "      <th>adng_nm</th>\n",
       "      <th>KMeans</th>\n",
       "      <th>AgglomerativeClustering</th>\n",
       "      <th>AffinityPropagation</th>\n",
       "      <th>MeanShift</th>\n",
       "      <th>Birch</th>\n",
       "      <th>GaussianMixture</th>\n",
       "    </tr>\n",
       "  </thead>\n",
       "  <tbody>\n",
       "    <tr>\n",
       "      <th>0</th>\n",
       "      <td>10839.0</td>\n",
       "      <td>546.0</td>\n",
       "      <td>0.038266</td>\n",
       "      <td>16.838410</td>\n",
       "      <td>3.493210e-06</td>\n",
       "      <td>1</td>\n",
       "      <td>4</td>\n",
       "      <td>구갈동</td>\n",
       "      <td>5</td>\n",
       "      <td>2</td>\n",
       "      <td>1</td>\n",
       "      <td>4</td>\n",
       "      <td>6</td>\n",
       "      <td>11</td>\n",
       "    </tr>\n",
       "    <tr>\n",
       "      <th>1</th>\n",
       "      <td>12235.0</td>\n",
       "      <td>122.0</td>\n",
       "      <td>0.034867</td>\n",
       "      <td>6.826027</td>\n",
       "      <td>1.764880e-06</td>\n",
       "      <td>0</td>\n",
       "      <td>2</td>\n",
       "      <td>구성동</td>\n",
       "      <td>1</td>\n",
       "      <td>3</td>\n",
       "      <td>4</td>\n",
       "      <td>2</td>\n",
       "      <td>0</td>\n",
       "      <td>1</td>\n",
       "    </tr>\n",
       "    <tr>\n",
       "      <th>2</th>\n",
       "      <td>6119.0</td>\n",
       "      <td>34.0</td>\n",
       "      <td>0.022985</td>\n",
       "      <td>3.861742</td>\n",
       "      <td>5.585987e-07</td>\n",
       "      <td>0</td>\n",
       "      <td>2</td>\n",
       "      <td>기흥동</td>\n",
       "      <td>2</td>\n",
       "      <td>1</td>\n",
       "      <td>0</td>\n",
       "      <td>3</td>\n",
       "      <td>5</td>\n",
       "      <td>2</td>\n",
       "    </tr>\n",
       "  </tbody>\n",
       "</table>\n",
       "</div>"
      ],
      "text/plain": [
       "       세대수  주차가능수       bpi  ev_traffic           포화도  x_x  x_y adng_nm  \\\n",
       "0  10839.0  546.0  0.038266   16.838410  3.493210e-06    1    4     구갈동   \n",
       "1  12235.0  122.0  0.034867    6.826027  1.764880e-06    0    2     구성동   \n",
       "2   6119.0   34.0  0.022985    3.861742  5.585987e-07    0    2     기흥동   \n",
       "\n",
       "  KMeans AgglomerativeClustering AffinityPropagation MeanShift Birch  \\\n",
       "0      5                       2                   1         4     6   \n",
       "1      1                       3                   4         2     0   \n",
       "2      2                       1                   0         3     5   \n",
       "\n",
       "  GaussianMixture  \n",
       "0              11  \n",
       "1               1  \n",
       "2               2  "
      ]
     },
     "execution_count": 38,
     "metadata": {},
     "output_type": "execute_result"
    }
   ],
   "source": [
    "df_new.head(3)"
   ]
  },
  {
   "cell_type": "code",
   "execution_count": 39,
   "metadata": {
    "id": "6cIZ6KHZMC4U"
   },
   "outputs": [],
   "source": [
    "from sklearn.preprocessing import MinMaxScaler\n",
    "\n",
    "min_max_scaler = MinMaxScaler()\n",
    "min_max_scaler.fit(df_new.iloc[:, 0:7])\n",
    "df_scaled = min_max_scaler.transform(df_new.iloc[:, 0:7])"
   ]
  },
  {
   "cell_type": "code",
   "execution_count": 40,
   "metadata": {
    "id": "GJRZ28qmMscX"
   },
   "outputs": [],
   "source": [
    "df_scaled = pd.DataFrame(df_scaled)"
   ]
  },
  {
   "cell_type": "code",
   "execution_count": 41,
   "metadata": {
    "colab": {
     "base_uri": "https://localhost:8080/"
    },
    "id": "sgq0E8ZEM1gV",
    "outputId": "2cfc724b-9618-4b64-994b-b2a2187fd062"
   },
   "outputs": [
    {
     "data": {
      "text/plain": [
       "Index(['세대수', '주차가능수', 'bpi', 'ev_traffic', '포화도', 'x_x', 'x_y', 'adng_nm'], dtype='object')"
      ]
     },
     "execution_count": 41,
     "metadata": {},
     "output_type": "execute_result"
    }
   ],
   "source": [
    "df_raw.columns"
   ]
  },
  {
   "cell_type": "code",
   "execution_count": 42,
   "metadata": {
    "id": "RwimzW0oMv8a"
   },
   "outputs": [],
   "source": [
    "df_scaled.columns = ['세대수', '주차가능수', 'bpi', 'ev_traffic', '포화도', 'x_x', 'x_y']"
   ]
  },
  {
   "cell_type": "code",
   "execution_count": 43,
   "metadata": {
    "id": "w-rsgauQMjca"
   },
   "outputs": [],
   "source": [
    "df_scaled = pd.concat([df_scaled, df_new.iloc[:, 7:]], axis=1)"
   ]
  },
  {
   "cell_type": "code",
   "execution_count": 44,
   "metadata": {
    "colab": {
     "base_uri": "https://localhost:8080/",
     "height": 181
    },
    "id": "SPmZzuCWM7PI",
    "outputId": "647b8cd3-f3e3-4b50-846a-5409a601e5d3"
   },
   "outputs": [
    {
     "data": {
      "text/html": [
       "<div>\n",
       "<style scoped>\n",
       "    .dataframe tbody tr th:only-of-type {\n",
       "        vertical-align: middle;\n",
       "    }\n",
       "\n",
       "    .dataframe tbody tr th {\n",
       "        vertical-align: top;\n",
       "    }\n",
       "\n",
       "    .dataframe thead th {\n",
       "        text-align: right;\n",
       "    }\n",
       "</style>\n",
       "<table border=\"1\" class=\"dataframe\">\n",
       "  <thead>\n",
       "    <tr style=\"text-align: right;\">\n",
       "      <th></th>\n",
       "      <th>세대수</th>\n",
       "      <th>주차가능수</th>\n",
       "      <th>bpi</th>\n",
       "      <th>ev_traffic</th>\n",
       "      <th>포화도</th>\n",
       "      <th>x_x</th>\n",
       "      <th>x_y</th>\n",
       "      <th>adng_nm</th>\n",
       "      <th>KMeans</th>\n",
       "      <th>AgglomerativeClustering</th>\n",
       "      <th>AffinityPropagation</th>\n",
       "      <th>MeanShift</th>\n",
       "      <th>Birch</th>\n",
       "      <th>GaussianMixture</th>\n",
       "    </tr>\n",
       "  </thead>\n",
       "  <tbody>\n",
       "    <tr>\n",
       "      <th>0</th>\n",
       "      <td>0.640527</td>\n",
       "      <td>0.335587</td>\n",
       "      <td>0.702359</td>\n",
       "      <td>1.000000</td>\n",
       "      <td>0.037028</td>\n",
       "      <td>0.076923</td>\n",
       "      <td>1.0</td>\n",
       "      <td>구갈동</td>\n",
       "      <td>5</td>\n",
       "      <td>2</td>\n",
       "      <td>1</td>\n",
       "      <td>4</td>\n",
       "      <td>6</td>\n",
       "      <td>11</td>\n",
       "    </tr>\n",
       "    <tr>\n",
       "      <th>1</th>\n",
       "      <td>0.723023</td>\n",
       "      <td>0.074985</td>\n",
       "      <td>0.617108</td>\n",
       "      <td>0.365455</td>\n",
       "      <td>0.017091</td>\n",
       "      <td>0.000000</td>\n",
       "      <td>0.5</td>\n",
       "      <td>구성동</td>\n",
       "      <td>1</td>\n",
       "      <td>3</td>\n",
       "      <td>4</td>\n",
       "      <td>2</td>\n",
       "      <td>0</td>\n",
       "      <td>1</td>\n",
       "    </tr>\n",
       "    <tr>\n",
       "      <th>2</th>\n",
       "      <td>0.361600</td>\n",
       "      <td>0.020897</td>\n",
       "      <td>0.319115</td>\n",
       "      <td>0.177591</td>\n",
       "      <td>0.003176</td>\n",
       "      <td>0.000000</td>\n",
       "      <td>0.5</td>\n",
       "      <td>기흥동</td>\n",
       "      <td>2</td>\n",
       "      <td>1</td>\n",
       "      <td>0</td>\n",
       "      <td>3</td>\n",
       "      <td>5</td>\n",
       "      <td>2</td>\n",
       "    </tr>\n",
       "  </tbody>\n",
       "</table>\n",
       "</div>"
      ],
      "text/plain": [
       "        세대수     주차가능수       bpi  ev_traffic       포화도       x_x  x_y adng_nm  \\\n",
       "0  0.640527  0.335587  0.702359    1.000000  0.037028  0.076923  1.0     구갈동   \n",
       "1  0.723023  0.074985  0.617108    0.365455  0.017091  0.000000  0.5     구성동   \n",
       "2  0.361600  0.020897  0.319115    0.177591  0.003176  0.000000  0.5     기흥동   \n",
       "\n",
       "  KMeans AgglomerativeClustering AffinityPropagation MeanShift Birch  \\\n",
       "0      5                       2                   1         4     6   \n",
       "1      1                       3                   4         2     0   \n",
       "2      2                       1                   0         3     5   \n",
       "\n",
       "  GaussianMixture  \n",
       "0              11  \n",
       "1               1  \n",
       "2               2  "
      ]
     },
     "execution_count": 44,
     "metadata": {},
     "output_type": "execute_result"
    }
   ],
   "source": [
    "df_scaled.head(3)"
   ]
  },
  {
   "cell_type": "code",
   "execution_count": 45,
   "metadata": {
    "colab": {
     "base_uri": "https://localhost:8080/",
     "height": 1000
    },
    "id": "16c8ngQJrjVQ",
    "outputId": "fcedc05d-29c1-4a77-eb51-2f589ece2848"
   },
   "outputs": [
    {
     "data": {
      "text/html": [
       "<div>\n",
       "<style scoped>\n",
       "    .dataframe tbody tr th:only-of-type {\n",
       "        vertical-align: middle;\n",
       "    }\n",
       "\n",
       "    .dataframe tbody tr th {\n",
       "        vertical-align: top;\n",
       "    }\n",
       "\n",
       "    .dataframe thead th {\n",
       "        text-align: right;\n",
       "    }\n",
       "</style>\n",
       "<table border=\"1\" class=\"dataframe\">\n",
       "  <thead>\n",
       "    <tr style=\"text-align: right;\">\n",
       "      <th></th>\n",
       "      <th>세대수</th>\n",
       "      <th>주차가능수</th>\n",
       "      <th>bpi</th>\n",
       "      <th>ev_traffic</th>\n",
       "      <th>포화도</th>\n",
       "      <th>x_x</th>\n",
       "      <th>x_y</th>\n",
       "      <th>adng_nm</th>\n",
       "      <th>KMeans</th>\n",
       "      <th>AgglomerativeClustering</th>\n",
       "      <th>AffinityPropagation</th>\n",
       "      <th>MeanShift</th>\n",
       "      <th>Birch</th>\n",
       "      <th>GaussianMixture</th>\n",
       "    </tr>\n",
       "  </thead>\n",
       "  <tbody>\n",
       "    <tr>\n",
       "      <th>0</th>\n",
       "      <td>0.640527</td>\n",
       "      <td>0.335587</td>\n",
       "      <td>0.702359</td>\n",
       "      <td>1.000000</td>\n",
       "      <td>0.037028</td>\n",
       "      <td>0.076923</td>\n",
       "      <td>1.00</td>\n",
       "      <td>구갈동</td>\n",
       "      <td>5</td>\n",
       "      <td>2</td>\n",
       "      <td>1</td>\n",
       "      <td>4</td>\n",
       "      <td>6</td>\n",
       "      <td>11</td>\n",
       "    </tr>\n",
       "    <tr>\n",
       "      <th>1</th>\n",
       "      <td>0.723023</td>\n",
       "      <td>0.074985</td>\n",
       "      <td>0.617108</td>\n",
       "      <td>0.365455</td>\n",
       "      <td>0.017091</td>\n",
       "      <td>0.000000</td>\n",
       "      <td>0.50</td>\n",
       "      <td>구성동</td>\n",
       "      <td>1</td>\n",
       "      <td>3</td>\n",
       "      <td>4</td>\n",
       "      <td>2</td>\n",
       "      <td>0</td>\n",
       "      <td>1</td>\n",
       "    </tr>\n",
       "    <tr>\n",
       "      <th>2</th>\n",
       "      <td>0.361600</td>\n",
       "      <td>0.020897</td>\n",
       "      <td>0.319115</td>\n",
       "      <td>0.177591</td>\n",
       "      <td>0.003176</td>\n",
       "      <td>0.000000</td>\n",
       "      <td>0.50</td>\n",
       "      <td>기흥동</td>\n",
       "      <td>2</td>\n",
       "      <td>1</td>\n",
       "      <td>0</td>\n",
       "      <td>3</td>\n",
       "      <td>5</td>\n",
       "      <td>2</td>\n",
       "    </tr>\n",
       "    <tr>\n",
       "      <th>3</th>\n",
       "      <td>0.401844</td>\n",
       "      <td>0.074985</td>\n",
       "      <td>0.392815</td>\n",
       "      <td>0.202715</td>\n",
       "      <td>0.038989</td>\n",
       "      <td>0.000000</td>\n",
       "      <td>0.00</td>\n",
       "      <td>남사읍</td>\n",
       "      <td>2</td>\n",
       "      <td>1</td>\n",
       "      <td>0</td>\n",
       "      <td>0</td>\n",
       "      <td>3</td>\n",
       "      <td>2</td>\n",
       "    </tr>\n",
       "    <tr>\n",
       "      <th>4</th>\n",
       "      <td>0.556613</td>\n",
       "      <td>0.000000</td>\n",
       "      <td>0.000435</td>\n",
       "      <td>0.135015</td>\n",
       "      <td>0.069980</td>\n",
       "      <td>0.000000</td>\n",
       "      <td>0.00</td>\n",
       "      <td>동백1동</td>\n",
       "      <td>5</td>\n",
       "      <td>2</td>\n",
       "      <td>1</td>\n",
       "      <td>1</td>\n",
       "      <td>2</td>\n",
       "      <td>4</td>\n",
       "    </tr>\n",
       "    <tr>\n",
       "      <th>5</th>\n",
       "      <td>0.410412</td>\n",
       "      <td>0.074985</td>\n",
       "      <td>0.000000</td>\n",
       "      <td>0.463993</td>\n",
       "      <td>0.013907</td>\n",
       "      <td>0.538462</td>\n",
       "      <td>0.50</td>\n",
       "      <td>동백2동</td>\n",
       "      <td>2</td>\n",
       "      <td>1</td>\n",
       "      <td>0</td>\n",
       "      <td>0</td>\n",
       "      <td>3</td>\n",
       "      <td>2</td>\n",
       "    </tr>\n",
       "    <tr>\n",
       "      <th>6</th>\n",
       "      <td>0.436000</td>\n",
       "      <td>0.000000</td>\n",
       "      <td>0.337188</td>\n",
       "      <td>0.028524</td>\n",
       "      <td>0.000000</td>\n",
       "      <td>0.000000</td>\n",
       "      <td>0.25</td>\n",
       "      <td>동백3동</td>\n",
       "      <td>2</td>\n",
       "      <td>1</td>\n",
       "      <td>0</td>\n",
       "      <td>0</td>\n",
       "      <td>3</td>\n",
       "      <td>2</td>\n",
       "    </tr>\n",
       "    <tr>\n",
       "      <th>7</th>\n",
       "      <td>0.125990</td>\n",
       "      <td>0.318377</td>\n",
       "      <td>0.461654</td>\n",
       "      <td>0.087235</td>\n",
       "      <td>0.184706</td>\n",
       "      <td>0.000000</td>\n",
       "      <td>0.00</td>\n",
       "      <td>동부동</td>\n",
       "      <td>0</td>\n",
       "      <td>0</td>\n",
       "      <td>2</td>\n",
       "      <td>10</td>\n",
       "      <td>1</td>\n",
       "      <td>9</td>\n",
       "    </tr>\n",
       "    <tr>\n",
       "      <th>8</th>\n",
       "      <td>0.780227</td>\n",
       "      <td>0.021512</td>\n",
       "      <td>0.985011</td>\n",
       "      <td>0.626761</td>\n",
       "      <td>0.010015</td>\n",
       "      <td>0.000000</td>\n",
       "      <td>0.00</td>\n",
       "      <td>동천동</td>\n",
       "      <td>1</td>\n",
       "      <td>3</td>\n",
       "      <td>4</td>\n",
       "      <td>2</td>\n",
       "      <td>0</td>\n",
       "      <td>1</td>\n",
       "    </tr>\n",
       "    <tr>\n",
       "      <th>9</th>\n",
       "      <td>0.561695</td>\n",
       "      <td>0.129072</td>\n",
       "      <td>0.728760</td>\n",
       "      <td>0.184419</td>\n",
       "      <td>0.013051</td>\n",
       "      <td>0.076923</td>\n",
       "      <td>0.00</td>\n",
       "      <td>마북동</td>\n",
       "      <td>5</td>\n",
       "      <td>2</td>\n",
       "      <td>1</td>\n",
       "      <td>1</td>\n",
       "      <td>2</td>\n",
       "      <td>4</td>\n",
       "    </tr>\n",
       "    <tr>\n",
       "      <th>10</th>\n",
       "      <td>0.088642</td>\n",
       "      <td>0.101414</td>\n",
       "      <td>0.104002</td>\n",
       "      <td>0.514444</td>\n",
       "      <td>0.110422</td>\n",
       "      <td>0.076923</td>\n",
       "      <td>0.00</td>\n",
       "      <td>모현읍</td>\n",
       "      <td>4</td>\n",
       "      <td>0</td>\n",
       "      <td>2</td>\n",
       "      <td>10</td>\n",
       "      <td>1</td>\n",
       "      <td>9</td>\n",
       "    </tr>\n",
       "    <tr>\n",
       "      <th>11</th>\n",
       "      <td>0.013474</td>\n",
       "      <td>0.080516</td>\n",
       "      <td>0.552405</td>\n",
       "      <td>0.016582</td>\n",
       "      <td>1.000000</td>\n",
       "      <td>0.000000</td>\n",
       "      <td>0.00</td>\n",
       "      <td>백암면</td>\n",
       "      <td>4</td>\n",
       "      <td>0</td>\n",
       "      <td>2</td>\n",
       "      <td>6</td>\n",
       "      <td>8</td>\n",
       "      <td>5</td>\n",
       "    </tr>\n",
       "    <tr>\n",
       "      <th>12</th>\n",
       "      <td>0.559036</td>\n",
       "      <td>0.000000</td>\n",
       "      <td>0.365293</td>\n",
       "      <td>0.310499</td>\n",
       "      <td>0.020038</td>\n",
       "      <td>0.000000</td>\n",
       "      <td>0.00</td>\n",
       "      <td>보라동</td>\n",
       "      <td>5</td>\n",
       "      <td>2</td>\n",
       "      <td>1</td>\n",
       "      <td>1</td>\n",
       "      <td>2</td>\n",
       "      <td>4</td>\n",
       "    </tr>\n",
       "    <tr>\n",
       "      <th>13</th>\n",
       "      <td>0.503605</td>\n",
       "      <td>0.141364</td>\n",
       "      <td>0.153557</td>\n",
       "      <td>0.494504</td>\n",
       "      <td>0.016230</td>\n",
       "      <td>0.000000</td>\n",
       "      <td>0.00</td>\n",
       "      <td>보정동</td>\n",
       "      <td>5</td>\n",
       "      <td>2</td>\n",
       "      <td>1</td>\n",
       "      <td>9</td>\n",
       "      <td>11</td>\n",
       "      <td>4</td>\n",
       "    </tr>\n",
       "    <tr>\n",
       "      <th>14</th>\n",
       "      <td>0.210791</td>\n",
       "      <td>0.159189</td>\n",
       "      <td>0.651206</td>\n",
       "      <td>0.000000</td>\n",
       "      <td>0.104531</td>\n",
       "      <td>0.076923</td>\n",
       "      <td>0.00</td>\n",
       "      <td>상갈동</td>\n",
       "      <td>0</td>\n",
       "      <td>0</td>\n",
       "      <td>2</td>\n",
       "      <td>5</td>\n",
       "      <td>7</td>\n",
       "      <td>0</td>\n",
       "    </tr>\n",
       "    <tr>\n",
       "      <th>15</th>\n",
       "      <td>0.428791</td>\n",
       "      <td>0.026429</td>\n",
       "      <td>0.040151</td>\n",
       "      <td>0.104396</td>\n",
       "      <td>0.091345</td>\n",
       "      <td>0.461538</td>\n",
       "      <td>0.00</td>\n",
       "      <td>상하동</td>\n",
       "      <td>2</td>\n",
       "      <td>1</td>\n",
       "      <td>0</td>\n",
       "      <td>0</td>\n",
       "      <td>3</td>\n",
       "      <td>2</td>\n",
       "    </tr>\n",
       "    <tr>\n",
       "      <th>16</th>\n",
       "      <td>0.846531</td>\n",
       "      <td>0.021512</td>\n",
       "      <td>0.447682</td>\n",
       "      <td>0.436285</td>\n",
       "      <td>0.002637</td>\n",
       "      <td>0.000000</td>\n",
       "      <td>0.50</td>\n",
       "      <td>상현1동</td>\n",
       "      <td>1</td>\n",
       "      <td>3</td>\n",
       "      <td>4</td>\n",
       "      <td>11</td>\n",
       "      <td>9</td>\n",
       "      <td>10</td>\n",
       "    </tr>\n",
       "    <tr>\n",
       "      <th>17</th>\n",
       "      <td>0.606607</td>\n",
       "      <td>0.097111</td>\n",
       "      <td>0.232362</td>\n",
       "      <td>0.113073</td>\n",
       "      <td>0.027256</td>\n",
       "      <td>0.000000</td>\n",
       "      <td>0.00</td>\n",
       "      <td>상현2동</td>\n",
       "      <td>5</td>\n",
       "      <td>2</td>\n",
       "      <td>1</td>\n",
       "      <td>1</td>\n",
       "      <td>2</td>\n",
       "      <td>4</td>\n",
       "    </tr>\n",
       "    <tr>\n",
       "      <th>18</th>\n",
       "      <td>0.404089</td>\n",
       "      <td>0.019053</td>\n",
       "      <td>0.463882</td>\n",
       "      <td>0.160108</td>\n",
       "      <td>0.045372</td>\n",
       "      <td>0.153846</td>\n",
       "      <td>0.00</td>\n",
       "      <td>서농동</td>\n",
       "      <td>2</td>\n",
       "      <td>1</td>\n",
       "      <td>0</td>\n",
       "      <td>0</td>\n",
       "      <td>3</td>\n",
       "      <td>2</td>\n",
       "    </tr>\n",
       "    <tr>\n",
       "      <th>19</th>\n",
       "      <td>1.000000</td>\n",
       "      <td>0.028888</td>\n",
       "      <td>0.514722</td>\n",
       "      <td>0.346852</td>\n",
       "      <td>0.001907</td>\n",
       "      <td>0.000000</td>\n",
       "      <td>0.50</td>\n",
       "      <td>성복동</td>\n",
       "      <td>3</td>\n",
       "      <td>4</td>\n",
       "      <td>3</td>\n",
       "      <td>7</td>\n",
       "      <td>4</td>\n",
       "      <td>3</td>\n",
       "    </tr>\n",
       "    <tr>\n",
       "      <th>20</th>\n",
       "      <td>0.671729</td>\n",
       "      <td>0.607867</td>\n",
       "      <td>0.438730</td>\n",
       "      <td>0.441984</td>\n",
       "      <td>0.017418</td>\n",
       "      <td>0.000000</td>\n",
       "      <td>0.25</td>\n",
       "      <td>신갈동</td>\n",
       "      <td>1</td>\n",
       "      <td>2</td>\n",
       "      <td>4</td>\n",
       "      <td>4</td>\n",
       "      <td>6</td>\n",
       "      <td>11</td>\n",
       "    </tr>\n",
       "    <tr>\n",
       "      <th>21</th>\n",
       "      <td>0.735197</td>\n",
       "      <td>0.028273</td>\n",
       "      <td>0.369936</td>\n",
       "      <td>0.161905</td>\n",
       "      <td>0.002423</td>\n",
       "      <td>0.000000</td>\n",
       "      <td>0.00</td>\n",
       "      <td>신봉동</td>\n",
       "      <td>1</td>\n",
       "      <td>3</td>\n",
       "      <td>4</td>\n",
       "      <td>2</td>\n",
       "      <td>0</td>\n",
       "      <td>1</td>\n",
       "    </tr>\n",
       "    <tr>\n",
       "      <th>22</th>\n",
       "      <td>0.023047</td>\n",
       "      <td>0.039336</td>\n",
       "      <td>0.283719</td>\n",
       "      <td>0.216222</td>\n",
       "      <td>0.796393</td>\n",
       "      <td>0.076923</td>\n",
       "      <td>0.00</td>\n",
       "      <td>양지면</td>\n",
       "      <td>4</td>\n",
       "      <td>0</td>\n",
       "      <td>2</td>\n",
       "      <td>6</td>\n",
       "      <td>8</td>\n",
       "      <td>5</td>\n",
       "    </tr>\n",
       "    <tr>\n",
       "      <th>23</th>\n",
       "      <td>0.588110</td>\n",
       "      <td>0.937923</td>\n",
       "      <td>0.189860</td>\n",
       "      <td>0.653179</td>\n",
       "      <td>0.029665</td>\n",
       "      <td>1.000000</td>\n",
       "      <td>0.50</td>\n",
       "      <td>역삼동</td>\n",
       "      <td>5</td>\n",
       "      <td>2</td>\n",
       "      <td>1</td>\n",
       "      <td>8</td>\n",
       "      <td>12</td>\n",
       "      <td>7</td>\n",
       "    </tr>\n",
       "    <tr>\n",
       "      <th>24</th>\n",
       "      <td>0.491372</td>\n",
       "      <td>0.022741</td>\n",
       "      <td>0.280244</td>\n",
       "      <td>0.433991</td>\n",
       "      <td>0.037724</td>\n",
       "      <td>0.000000</td>\n",
       "      <td>0.00</td>\n",
       "      <td>영덕1동</td>\n",
       "      <td>5</td>\n",
       "      <td>2</td>\n",
       "      <td>1</td>\n",
       "      <td>9</td>\n",
       "      <td>11</td>\n",
       "      <td>2</td>\n",
       "    </tr>\n",
       "    <tr>\n",
       "      <th>25</th>\n",
       "      <td>0.304633</td>\n",
       "      <td>0.000000</td>\n",
       "      <td>0.474767</td>\n",
       "      <td>0.088690</td>\n",
       "      <td>0.017920</td>\n",
       "      <td>0.000000</td>\n",
       "      <td>0.00</td>\n",
       "      <td>영덕2동</td>\n",
       "      <td>2</td>\n",
       "      <td>1</td>\n",
       "      <td>0</td>\n",
       "      <td>3</td>\n",
       "      <td>5</td>\n",
       "      <td>6</td>\n",
       "    </tr>\n",
       "    <tr>\n",
       "      <th>26</th>\n",
       "      <td>0.000000</td>\n",
       "      <td>0.119238</td>\n",
       "      <td>0.586818</td>\n",
       "      <td>0.000904</td>\n",
       "      <td>0.309015</td>\n",
       "      <td>0.000000</td>\n",
       "      <td>0.00</td>\n",
       "      <td>원삼면</td>\n",
       "      <td>4</td>\n",
       "      <td>0</td>\n",
       "      <td>2</td>\n",
       "      <td>6</td>\n",
       "      <td>8</td>\n",
       "      <td>5</td>\n",
       "    </tr>\n",
       "    <tr>\n",
       "      <th>27</th>\n",
       "      <td>0.340208</td>\n",
       "      <td>0.118623</td>\n",
       "      <td>0.628296</td>\n",
       "      <td>0.329722</td>\n",
       "      <td>0.057031</td>\n",
       "      <td>0.692308</td>\n",
       "      <td>0.00</td>\n",
       "      <td>유림동</td>\n",
       "      <td>2</td>\n",
       "      <td>1</td>\n",
       "      <td>0</td>\n",
       "      <td>3</td>\n",
       "      <td>5</td>\n",
       "      <td>6</td>\n",
       "    </tr>\n",
       "    <tr>\n",
       "      <th>28</th>\n",
       "      <td>0.191171</td>\n",
       "      <td>0.036878</td>\n",
       "      <td>0.566644</td>\n",
       "      <td>0.318822</td>\n",
       "      <td>0.116604</td>\n",
       "      <td>0.230769</td>\n",
       "      <td>0.00</td>\n",
       "      <td>이동읍</td>\n",
       "      <td>0</td>\n",
       "      <td>0</td>\n",
       "      <td>2</td>\n",
       "      <td>5</td>\n",
       "      <td>7</td>\n",
       "      <td>0</td>\n",
       "    </tr>\n",
       "    <tr>\n",
       "      <th>29</th>\n",
       "      <td>0.990249</td>\n",
       "      <td>0.031961</td>\n",
       "      <td>1.000000</td>\n",
       "      <td>0.610048</td>\n",
       "      <td>0.018153</td>\n",
       "      <td>0.076923</td>\n",
       "      <td>0.00</td>\n",
       "      <td>죽전1동</td>\n",
       "      <td>3</td>\n",
       "      <td>4</td>\n",
       "      <td>3</td>\n",
       "      <td>7</td>\n",
       "      <td>4</td>\n",
       "      <td>3</td>\n",
       "    </tr>\n",
       "    <tr>\n",
       "      <th>30</th>\n",
       "      <td>0.330457</td>\n",
       "      <td>0.296865</td>\n",
       "      <td>0.202827</td>\n",
       "      <td>0.055069</td>\n",
       "      <td>0.086822</td>\n",
       "      <td>0.000000</td>\n",
       "      <td>0.50</td>\n",
       "      <td>죽전2동</td>\n",
       "      <td>2</td>\n",
       "      <td>1</td>\n",
       "      <td>0</td>\n",
       "      <td>3</td>\n",
       "      <td>5</td>\n",
       "      <td>6</td>\n",
       "    </tr>\n",
       "    <tr>\n",
       "      <th>31</th>\n",
       "      <td>0.258835</td>\n",
       "      <td>1.000000</td>\n",
       "      <td>0.844270</td>\n",
       "      <td>0.408656</td>\n",
       "      <td>0.070562</td>\n",
       "      <td>0.769231</td>\n",
       "      <td>0.75</td>\n",
       "      <td>중앙동</td>\n",
       "      <td>0</td>\n",
       "      <td>0</td>\n",
       "      <td>0</td>\n",
       "      <td>12</td>\n",
       "      <td>10</td>\n",
       "      <td>8</td>\n",
       "    </tr>\n",
       "    <tr>\n",
       "      <th>32</th>\n",
       "      <td>0.200863</td>\n",
       "      <td>0.118009</td>\n",
       "      <td>0.781117</td>\n",
       "      <td>0.529459</td>\n",
       "      <td>0.074147</td>\n",
       "      <td>0.000000</td>\n",
       "      <td>0.00</td>\n",
       "      <td>포곡읍</td>\n",
       "      <td>0</td>\n",
       "      <td>0</td>\n",
       "      <td>2</td>\n",
       "      <td>5</td>\n",
       "      <td>7</td>\n",
       "      <td>0</td>\n",
       "    </tr>\n",
       "    <tr>\n",
       "      <th>33</th>\n",
       "      <td>0.586101</td>\n",
       "      <td>0.642901</td>\n",
       "      <td>0.451862</td>\n",
       "      <td>0.479385</td>\n",
       "      <td>0.202798</td>\n",
       "      <td>0.000000</td>\n",
       "      <td>0.00</td>\n",
       "      <td>풍덕천1동</td>\n",
       "      <td>5</td>\n",
       "      <td>2</td>\n",
       "      <td>1</td>\n",
       "      <td>8</td>\n",
       "      <td>12</td>\n",
       "      <td>7</td>\n",
       "    </tr>\n",
       "    <tr>\n",
       "      <th>34</th>\n",
       "      <td>0.741756</td>\n",
       "      <td>0.315304</td>\n",
       "      <td>0.903714</td>\n",
       "      <td>0.271226</td>\n",
       "      <td>0.056294</td>\n",
       "      <td>0.000000</td>\n",
       "      <td>0.00</td>\n",
       "      <td>풍덕천2동</td>\n",
       "      <td>1</td>\n",
       "      <td>3</td>\n",
       "      <td>4</td>\n",
       "      <td>2</td>\n",
       "      <td>0</td>\n",
       "      <td>1</td>\n",
       "    </tr>\n",
       "  </tbody>\n",
       "</table>\n",
       "</div>"
      ],
      "text/plain": [
       "         세대수     주차가능수       bpi  ev_traffic       포화도       x_x   x_y  \\\n",
       "0   0.640527  0.335587  0.702359    1.000000  0.037028  0.076923  1.00   \n",
       "1   0.723023  0.074985  0.617108    0.365455  0.017091  0.000000  0.50   \n",
       "2   0.361600  0.020897  0.319115    0.177591  0.003176  0.000000  0.50   \n",
       "3   0.401844  0.074985  0.392815    0.202715  0.038989  0.000000  0.00   \n",
       "4   0.556613  0.000000  0.000435    0.135015  0.069980  0.000000  0.00   \n",
       "5   0.410412  0.074985  0.000000    0.463993  0.013907  0.538462  0.50   \n",
       "6   0.436000  0.000000  0.337188    0.028524  0.000000  0.000000  0.25   \n",
       "7   0.125990  0.318377  0.461654    0.087235  0.184706  0.000000  0.00   \n",
       "8   0.780227  0.021512  0.985011    0.626761  0.010015  0.000000  0.00   \n",
       "9   0.561695  0.129072  0.728760    0.184419  0.013051  0.076923  0.00   \n",
       "10  0.088642  0.101414  0.104002    0.514444  0.110422  0.076923  0.00   \n",
       "11  0.013474  0.080516  0.552405    0.016582  1.000000  0.000000  0.00   \n",
       "12  0.559036  0.000000  0.365293    0.310499  0.020038  0.000000  0.00   \n",
       "13  0.503605  0.141364  0.153557    0.494504  0.016230  0.000000  0.00   \n",
       "14  0.210791  0.159189  0.651206    0.000000  0.104531  0.076923  0.00   \n",
       "15  0.428791  0.026429  0.040151    0.104396  0.091345  0.461538  0.00   \n",
       "16  0.846531  0.021512  0.447682    0.436285  0.002637  0.000000  0.50   \n",
       "17  0.606607  0.097111  0.232362    0.113073  0.027256  0.000000  0.00   \n",
       "18  0.404089  0.019053  0.463882    0.160108  0.045372  0.153846  0.00   \n",
       "19  1.000000  0.028888  0.514722    0.346852  0.001907  0.000000  0.50   \n",
       "20  0.671729  0.607867  0.438730    0.441984  0.017418  0.000000  0.25   \n",
       "21  0.735197  0.028273  0.369936    0.161905  0.002423  0.000000  0.00   \n",
       "22  0.023047  0.039336  0.283719    0.216222  0.796393  0.076923  0.00   \n",
       "23  0.588110  0.937923  0.189860    0.653179  0.029665  1.000000  0.50   \n",
       "24  0.491372  0.022741  0.280244    0.433991  0.037724  0.000000  0.00   \n",
       "25  0.304633  0.000000  0.474767    0.088690  0.017920  0.000000  0.00   \n",
       "26  0.000000  0.119238  0.586818    0.000904  0.309015  0.000000  0.00   \n",
       "27  0.340208  0.118623  0.628296    0.329722  0.057031  0.692308  0.00   \n",
       "28  0.191171  0.036878  0.566644    0.318822  0.116604  0.230769  0.00   \n",
       "29  0.990249  0.031961  1.000000    0.610048  0.018153  0.076923  0.00   \n",
       "30  0.330457  0.296865  0.202827    0.055069  0.086822  0.000000  0.50   \n",
       "31  0.258835  1.000000  0.844270    0.408656  0.070562  0.769231  0.75   \n",
       "32  0.200863  0.118009  0.781117    0.529459  0.074147  0.000000  0.00   \n",
       "33  0.586101  0.642901  0.451862    0.479385  0.202798  0.000000  0.00   \n",
       "34  0.741756  0.315304  0.903714    0.271226  0.056294  0.000000  0.00   \n",
       "\n",
       "   adng_nm KMeans AgglomerativeClustering AffinityPropagation MeanShift Birch  \\\n",
       "0      구갈동      5                       2                   1         4     6   \n",
       "1      구성동      1                       3                   4         2     0   \n",
       "2      기흥동      2                       1                   0         3     5   \n",
       "3      남사읍      2                       1                   0         0     3   \n",
       "4     동백1동      5                       2                   1         1     2   \n",
       "5     동백2동      2                       1                   0         0     3   \n",
       "6     동백3동      2                       1                   0         0     3   \n",
       "7      동부동      0                       0                   2        10     1   \n",
       "8      동천동      1                       3                   4         2     0   \n",
       "9      마북동      5                       2                   1         1     2   \n",
       "10     모현읍      4                       0                   2        10     1   \n",
       "11     백암면      4                       0                   2         6     8   \n",
       "12     보라동      5                       2                   1         1     2   \n",
       "13     보정동      5                       2                   1         9    11   \n",
       "14     상갈동      0                       0                   2         5     7   \n",
       "15     상하동      2                       1                   0         0     3   \n",
       "16    상현1동      1                       3                   4        11     9   \n",
       "17    상현2동      5                       2                   1         1     2   \n",
       "18     서농동      2                       1                   0         0     3   \n",
       "19     성복동      3                       4                   3         7     4   \n",
       "20     신갈동      1                       2                   4         4     6   \n",
       "21     신봉동      1                       3                   4         2     0   \n",
       "22     양지면      4                       0                   2         6     8   \n",
       "23     역삼동      5                       2                   1         8    12   \n",
       "24    영덕1동      5                       2                   1         9    11   \n",
       "25    영덕2동      2                       1                   0         3     5   \n",
       "26     원삼면      4                       0                   2         6     8   \n",
       "27     유림동      2                       1                   0         3     5   \n",
       "28     이동읍      0                       0                   2         5     7   \n",
       "29    죽전1동      3                       4                   3         7     4   \n",
       "30    죽전2동      2                       1                   0         3     5   \n",
       "31     중앙동      0                       0                   0        12    10   \n",
       "32     포곡읍      0                       0                   2         5     7   \n",
       "33   풍덕천1동      5                       2                   1         8    12   \n",
       "34   풍덕천2동      1                       3                   4         2     0   \n",
       "\n",
       "   GaussianMixture  \n",
       "0               11  \n",
       "1                1  \n",
       "2                2  \n",
       "3                2  \n",
       "4                4  \n",
       "5                2  \n",
       "6                2  \n",
       "7                9  \n",
       "8                1  \n",
       "9                4  \n",
       "10               9  \n",
       "11               5  \n",
       "12               4  \n",
       "13               4  \n",
       "14               0  \n",
       "15               2  \n",
       "16              10  \n",
       "17               4  \n",
       "18               2  \n",
       "19               3  \n",
       "20              11  \n",
       "21               1  \n",
       "22               5  \n",
       "23               7  \n",
       "24               2  \n",
       "25               6  \n",
       "26               5  \n",
       "27               6  \n",
       "28               0  \n",
       "29               3  \n",
       "30               6  \n",
       "31               8  \n",
       "32               0  \n",
       "33               7  \n",
       "34               1  "
      ]
     },
     "execution_count": 45,
     "metadata": {},
     "output_type": "execute_result"
    }
   ],
   "source": [
    "df_scaled"
   ]
  },
  {
   "cell_type": "code",
   "execution_count": 46,
   "metadata": {
    "id": "ixOpGRuoOA1Z"
   },
   "outputs": [],
   "source": [
    "rank = []"
   ]
  },
  {
   "cell_type": "code",
   "execution_count": 47,
   "metadata": {
    "colab": {
     "base_uri": "https://localhost:8080/",
     "height": 269
    },
    "id": "oilhu44vjG0_",
    "outputId": "4f8b9371-17f3-49a6-f3de-45883696aa20"
   },
   "outputs": [
    {
     "data": {
      "text/html": [
       "<div>\n",
       "<style scoped>\n",
       "    .dataframe tbody tr th:only-of-type {\n",
       "        vertical-align: middle;\n",
       "    }\n",
       "\n",
       "    .dataframe tbody tr th {\n",
       "        vertical-align: top;\n",
       "    }\n",
       "\n",
       "    .dataframe thead th {\n",
       "        text-align: right;\n",
       "    }\n",
       "</style>\n",
       "<table border=\"1\" class=\"dataframe\">\n",
       "  <thead>\n",
       "    <tr style=\"text-align: right;\">\n",
       "      <th></th>\n",
       "      <th>세대수</th>\n",
       "      <th>주차가능수</th>\n",
       "      <th>bpi</th>\n",
       "      <th>ev_traffic</th>\n",
       "      <th>포화도</th>\n",
       "      <th>x_x</th>\n",
       "      <th>x_y</th>\n",
       "      <th>Weighted_Value</th>\n",
       "    </tr>\n",
       "    <tr>\n",
       "      <th>KMeans</th>\n",
       "      <th></th>\n",
       "      <th></th>\n",
       "      <th></th>\n",
       "      <th></th>\n",
       "      <th></th>\n",
       "      <th></th>\n",
       "      <th></th>\n",
       "      <th></th>\n",
       "    </tr>\n",
       "  </thead>\n",
       "  <tbody>\n",
       "    <tr>\n",
       "      <th>3</th>\n",
       "      <td>0.995125</td>\n",
       "      <td>0.030424</td>\n",
       "      <td>0.757361</td>\n",
       "      <td>0.478450</td>\n",
       "      <td>0.010030</td>\n",
       "      <td>0.038462</td>\n",
       "      <td>0.250000</td>\n",
       "      <td>0.849940</td>\n",
       "    </tr>\n",
       "    <tr>\n",
       "      <th>1</th>\n",
       "      <td>0.749744</td>\n",
       "      <td>0.178242</td>\n",
       "      <td>0.627030</td>\n",
       "      <td>0.383936</td>\n",
       "      <td>0.017647</td>\n",
       "      <td>0.000000</td>\n",
       "      <td>0.208333</td>\n",
       "      <td>0.697672</td>\n",
       "    </tr>\n",
       "    <tr>\n",
       "      <th>5</th>\n",
       "      <td>0.565963</td>\n",
       "      <td>0.256300</td>\n",
       "      <td>0.344970</td>\n",
       "      <td>0.422674</td>\n",
       "      <td>0.050419</td>\n",
       "      <td>0.128205</td>\n",
       "      <td>0.166667</td>\n",
       "      <td>0.596736</td>\n",
       "    </tr>\n",
       "    <tr>\n",
       "      <th>0</th>\n",
       "      <td>0.197530</td>\n",
       "      <td>0.326490</td>\n",
       "      <td>0.660978</td>\n",
       "      <td>0.268834</td>\n",
       "      <td>0.110110</td>\n",
       "      <td>0.215385</td>\n",
       "      <td>0.150000</td>\n",
       "      <td>0.593429</td>\n",
       "    </tr>\n",
       "    <tr>\n",
       "      <th>4</th>\n",
       "      <td>0.031291</td>\n",
       "      <td>0.085126</td>\n",
       "      <td>0.381736</td>\n",
       "      <td>0.187038</td>\n",
       "      <td>0.553958</td>\n",
       "      <td>0.038462</td>\n",
       "      <td>0.000000</td>\n",
       "      <td>0.505117</td>\n",
       "    </tr>\n",
       "    <tr>\n",
       "      <th>2</th>\n",
       "      <td>0.379782</td>\n",
       "      <td>0.070204</td>\n",
       "      <td>0.317671</td>\n",
       "      <td>0.178979</td>\n",
       "      <td>0.039396</td>\n",
       "      <td>0.205128</td>\n",
       "      <td>0.194444</td>\n",
       "      <td>0.392593</td>\n",
       "    </tr>\n",
       "  </tbody>\n",
       "</table>\n",
       "</div>"
      ],
      "text/plain": [
       "             세대수     주차가능수       bpi  ev_traffic       포화도       x_x  \\\n",
       "KMeans                                                                 \n",
       "3       0.995125  0.030424  0.757361    0.478450  0.010030  0.038462   \n",
       "1       0.749744  0.178242  0.627030    0.383936  0.017647  0.000000   \n",
       "5       0.565963  0.256300  0.344970    0.422674  0.050419  0.128205   \n",
       "0       0.197530  0.326490  0.660978    0.268834  0.110110  0.215385   \n",
       "4       0.031291  0.085126  0.381736    0.187038  0.553958  0.038462   \n",
       "2       0.379782  0.070204  0.317671    0.178979  0.039396  0.205128   \n",
       "\n",
       "             x_y  Weighted_Value  \n",
       "KMeans                            \n",
       "3       0.250000        0.849940  \n",
       "1       0.208333        0.697672  \n",
       "5       0.166667        0.596736  \n",
       "0       0.150000        0.593429  \n",
       "4       0.000000        0.505117  \n",
       "2       0.194444        0.392593  "
      ]
     },
     "execution_count": 47,
     "metadata": {},
     "output_type": "execute_result"
    }
   ],
   "source": [
    "df_wv = df_scaled.groupby('KMeans').mean() \n",
    "\n",
    "df_wv['Weighted_Value'] = 0.2 * df_wv['세대수'] + 0.1 * df_wv['주차가능수'] + 0.4 * df_wv['bpi'] + 0.6 * df_wv['ev_traffic'] + 0.4 * df_wv['포화도'] + 0.1 * df_wv['x_x'] + 0.2 * df_wv['x_y']\n",
    "df_wv = df_wv.sort_values(by='Weighted_Value', ascending=False)\n",
    "rank.append(df_wv.index)\n",
    "df_wv\n"
   ]
  },
  {
   "cell_type": "code",
   "execution_count": 48,
   "metadata": {
    "colab": {
     "base_uri": "https://localhost:8080/",
     "height": 237
    },
    "id": "pbbrPnkXkZ-H",
    "outputId": "d02afd32-2325-45b2-a7d7-6372d1abfbb8"
   },
   "outputs": [
    {
     "data": {
      "text/html": [
       "<div>\n",
       "<style scoped>\n",
       "    .dataframe tbody tr th:only-of-type {\n",
       "        vertical-align: middle;\n",
       "    }\n",
       "\n",
       "    .dataframe tbody tr th {\n",
       "        vertical-align: top;\n",
       "    }\n",
       "\n",
       "    .dataframe thead th {\n",
       "        text-align: right;\n",
       "    }\n",
       "</style>\n",
       "<table border=\"1\" class=\"dataframe\">\n",
       "  <thead>\n",
       "    <tr style=\"text-align: right;\">\n",
       "      <th></th>\n",
       "      <th>세대수</th>\n",
       "      <th>주차가능수</th>\n",
       "      <th>bpi</th>\n",
       "      <th>ev_traffic</th>\n",
       "      <th>포화도</th>\n",
       "      <th>x_x</th>\n",
       "      <th>x_y</th>\n",
       "      <th>Weighted_Value</th>\n",
       "    </tr>\n",
       "    <tr>\n",
       "      <th>AgglomerativeClustering</th>\n",
       "      <th></th>\n",
       "      <th></th>\n",
       "      <th></th>\n",
       "      <th></th>\n",
       "      <th></th>\n",
       "      <th></th>\n",
       "      <th></th>\n",
       "      <th></th>\n",
       "    </tr>\n",
       "  </thead>\n",
       "  <tbody>\n",
       "    <tr>\n",
       "      <th>4</th>\n",
       "      <td>0.995125</td>\n",
       "      <td>0.030424</td>\n",
       "      <td>0.757361</td>\n",
       "      <td>0.478450</td>\n",
       "      <td>0.010030</td>\n",
       "      <td>0.038462</td>\n",
       "      <td>0.250000</td>\n",
       "      <td>0.849940</td>\n",
       "    </tr>\n",
       "    <tr>\n",
       "      <th>3</th>\n",
       "      <td>0.765347</td>\n",
       "      <td>0.092317</td>\n",
       "      <td>0.664690</td>\n",
       "      <td>0.372327</td>\n",
       "      <td>0.017692</td>\n",
       "      <td>0.000000</td>\n",
       "      <td>0.200000</td>\n",
       "      <td>0.698650</td>\n",
       "    </tr>\n",
       "    <tr>\n",
       "      <th>2</th>\n",
       "      <td>0.576539</td>\n",
       "      <td>0.291457</td>\n",
       "      <td>0.354346</td>\n",
       "      <td>0.424605</td>\n",
       "      <td>0.047119</td>\n",
       "      <td>0.115385</td>\n",
       "      <td>0.175000</td>\n",
       "      <td>0.606341</td>\n",
       "    </tr>\n",
       "    <tr>\n",
       "      <th>0</th>\n",
       "      <td>0.123646</td>\n",
       "      <td>0.219217</td>\n",
       "      <td>0.536871</td>\n",
       "      <td>0.232480</td>\n",
       "      <td>0.307375</td>\n",
       "      <td>0.136752</td>\n",
       "      <td>0.083333</td>\n",
       "      <td>0.554179</td>\n",
       "    </tr>\n",
       "    <tr>\n",
       "      <th>1</th>\n",
       "      <td>0.379782</td>\n",
       "      <td>0.070204</td>\n",
       "      <td>0.317671</td>\n",
       "      <td>0.178979</td>\n",
       "      <td>0.039396</td>\n",
       "      <td>0.205128</td>\n",
       "      <td>0.194444</td>\n",
       "      <td>0.392593</td>\n",
       "    </tr>\n",
       "  </tbody>\n",
       "</table>\n",
       "</div>"
      ],
      "text/plain": [
       "                              세대수     주차가능수       bpi  ev_traffic       포화도  \\\n",
       "AgglomerativeClustering                                                       \n",
       "4                        0.995125  0.030424  0.757361    0.478450  0.010030   \n",
       "3                        0.765347  0.092317  0.664690    0.372327  0.017692   \n",
       "2                        0.576539  0.291457  0.354346    0.424605  0.047119   \n",
       "0                        0.123646  0.219217  0.536871    0.232480  0.307375   \n",
       "1                        0.379782  0.070204  0.317671    0.178979  0.039396   \n",
       "\n",
       "                              x_x       x_y  Weighted_Value  \n",
       "AgglomerativeClustering                                      \n",
       "4                        0.038462  0.250000        0.849940  \n",
       "3                        0.000000  0.200000        0.698650  \n",
       "2                        0.115385  0.175000        0.606341  \n",
       "0                        0.136752  0.083333        0.554179  \n",
       "1                        0.205128  0.194444        0.392593  "
      ]
     },
     "execution_count": 48,
     "metadata": {},
     "output_type": "execute_result"
    }
   ],
   "source": [
    "df_wv = df_scaled.groupby('AgglomerativeClustering').mean() \n",
    "\n",
    "df_wv['Weighted_Value'] = 0.2 * df_wv['세대수'] + 0.1 * df_wv['주차가능수'] + 0.4 * df_wv['bpi'] + 0.6 * df_wv['ev_traffic'] + 0.4 * df_wv['포화도'] + 0.1 * df_wv['x_x'] + 0.2 * df_wv['x_y']\n",
    "df_wv = df_wv.sort_values(by='Weighted_Value', ascending=False)\n",
    "rank.append(df_wv.index)\n",
    "df_wv"
   ]
  },
  {
   "cell_type": "code",
   "execution_count": 49,
   "metadata": {
    "colab": {
     "base_uri": "https://localhost:8080/",
     "height": 237
    },
    "id": "Temd5X02kwlh",
    "outputId": "cdd60f7e-76b0-45cd-b113-ae2da8e6ae35"
   },
   "outputs": [
    {
     "data": {
      "text/html": [
       "<div>\n",
       "<style scoped>\n",
       "    .dataframe tbody tr th:only-of-type {\n",
       "        vertical-align: middle;\n",
       "    }\n",
       "\n",
       "    .dataframe tbody tr th {\n",
       "        vertical-align: top;\n",
       "    }\n",
       "\n",
       "    .dataframe thead th {\n",
       "        text-align: right;\n",
       "    }\n",
       "</style>\n",
       "<table border=\"1\" class=\"dataframe\">\n",
       "  <thead>\n",
       "    <tr style=\"text-align: right;\">\n",
       "      <th></th>\n",
       "      <th>세대수</th>\n",
       "      <th>주차가능수</th>\n",
       "      <th>bpi</th>\n",
       "      <th>ev_traffic</th>\n",
       "      <th>포화도</th>\n",
       "      <th>x_x</th>\n",
       "      <th>x_y</th>\n",
       "      <th>Weighted_Value</th>\n",
       "    </tr>\n",
       "    <tr>\n",
       "      <th>AffinityPropagation</th>\n",
       "      <th></th>\n",
       "      <th></th>\n",
       "      <th></th>\n",
       "      <th></th>\n",
       "      <th></th>\n",
       "      <th></th>\n",
       "      <th></th>\n",
       "      <th></th>\n",
       "    </tr>\n",
       "  </thead>\n",
       "  <tbody>\n",
       "    <tr>\n",
       "      <th>3</th>\n",
       "      <td>0.995125</td>\n",
       "      <td>0.030424</td>\n",
       "      <td>0.757361</td>\n",
       "      <td>0.478450</td>\n",
       "      <td>0.010030</td>\n",
       "      <td>0.038462</td>\n",
       "      <td>0.250000</td>\n",
       "      <td>0.849940</td>\n",
       "    </tr>\n",
       "    <tr>\n",
       "      <th>4</th>\n",
       "      <td>0.749744</td>\n",
       "      <td>0.178242</td>\n",
       "      <td>0.627030</td>\n",
       "      <td>0.383936</td>\n",
       "      <td>0.017647</td>\n",
       "      <td>0.000000</td>\n",
       "      <td>0.208333</td>\n",
       "      <td>0.697672</td>\n",
       "    </tr>\n",
       "    <tr>\n",
       "      <th>1</th>\n",
       "      <td>0.565963</td>\n",
       "      <td>0.256300</td>\n",
       "      <td>0.344970</td>\n",
       "      <td>0.422674</td>\n",
       "      <td>0.050419</td>\n",
       "      <td>0.128205</td>\n",
       "      <td>0.166667</td>\n",
       "      <td>0.596736</td>\n",
       "    </tr>\n",
       "    <tr>\n",
       "      <th>2</th>\n",
       "      <td>0.106747</td>\n",
       "      <td>0.121620</td>\n",
       "      <td>0.498446</td>\n",
       "      <td>0.210458</td>\n",
       "      <td>0.336977</td>\n",
       "      <td>0.057692</td>\n",
       "      <td>0.000000</td>\n",
       "      <td>0.499725</td>\n",
       "    </tr>\n",
       "    <tr>\n",
       "      <th>0</th>\n",
       "      <td>0.367687</td>\n",
       "      <td>0.163184</td>\n",
       "      <td>0.370331</td>\n",
       "      <td>0.201946</td>\n",
       "      <td>0.042512</td>\n",
       "      <td>0.261538</td>\n",
       "      <td>0.250000</td>\n",
       "      <td>0.452315</td>\n",
       "    </tr>\n",
       "  </tbody>\n",
       "</table>\n",
       "</div>"
      ],
      "text/plain": [
       "                          세대수     주차가능수       bpi  ev_traffic       포화도  \\\n",
       "AffinityPropagation                                                       \n",
       "3                    0.995125  0.030424  0.757361    0.478450  0.010030   \n",
       "4                    0.749744  0.178242  0.627030    0.383936  0.017647   \n",
       "1                    0.565963  0.256300  0.344970    0.422674  0.050419   \n",
       "2                    0.106747  0.121620  0.498446    0.210458  0.336977   \n",
       "0                    0.367687  0.163184  0.370331    0.201946  0.042512   \n",
       "\n",
       "                          x_x       x_y  Weighted_Value  \n",
       "AffinityPropagation                                      \n",
       "3                    0.038462  0.250000        0.849940  \n",
       "4                    0.000000  0.208333        0.697672  \n",
       "1                    0.128205  0.166667        0.596736  \n",
       "2                    0.057692  0.000000        0.499725  \n",
       "0                    0.261538  0.250000        0.452315  "
      ]
     },
     "execution_count": 49,
     "metadata": {},
     "output_type": "execute_result"
    }
   ],
   "source": [
    "df_wv = df_scaled.groupby('AffinityPropagation').mean() \n",
    "\n",
    "df_wv['Weighted_Value'] = 0.2 * df_wv['세대수'] + 0.1 * df_wv['주차가능수'] + 0.4 * df_wv['bpi'] + 0.6 * df_wv['ev_traffic'] + 0.4 * df_wv['포화도'] + 0.1 * df_wv['x_x'] + 0.2 * df_wv['x_y']\n",
    "df_wv = df_wv.sort_values(by='Weighted_Value', ascending=False)\n",
    "rank.append(df_wv.index)\n",
    "df_wv"
   ]
  },
  {
   "cell_type": "code",
   "execution_count": 50,
   "metadata": {
    "colab": {
     "base_uri": "https://localhost:8080/",
     "height": 457
    },
    "id": "cLTs8qRfkwxp",
    "outputId": "1be6b3e3-efe6-4d75-b47f-528bc8aad0dc"
   },
   "outputs": [
    {
     "data": {
      "text/html": [
       "<div>\n",
       "<style scoped>\n",
       "    .dataframe tbody tr th:only-of-type {\n",
       "        vertical-align: middle;\n",
       "    }\n",
       "\n",
       "    .dataframe tbody tr th {\n",
       "        vertical-align: top;\n",
       "    }\n",
       "\n",
       "    .dataframe thead th {\n",
       "        text-align: right;\n",
       "    }\n",
       "</style>\n",
       "<table border=\"1\" class=\"dataframe\">\n",
       "  <thead>\n",
       "    <tr style=\"text-align: right;\">\n",
       "      <th></th>\n",
       "      <th>세대수</th>\n",
       "      <th>주차가능수</th>\n",
       "      <th>bpi</th>\n",
       "      <th>ev_traffic</th>\n",
       "      <th>포화도</th>\n",
       "      <th>x_x</th>\n",
       "      <th>x_y</th>\n",
       "      <th>Weighted_Value</th>\n",
       "    </tr>\n",
       "    <tr>\n",
       "      <th>MeanShift</th>\n",
       "      <th></th>\n",
       "      <th></th>\n",
       "      <th></th>\n",
       "      <th></th>\n",
       "      <th></th>\n",
       "      <th></th>\n",
       "      <th></th>\n",
       "      <th></th>\n",
       "    </tr>\n",
       "  </thead>\n",
       "  <tbody>\n",
       "    <tr>\n",
       "      <th>12</th>\n",
       "      <td>0.258835</td>\n",
       "      <td>1.000000</td>\n",
       "      <td>0.844270</td>\n",
       "      <td>0.408656</td>\n",
       "      <td>0.070562</td>\n",
       "      <td>0.769231</td>\n",
       "      <td>0.750</td>\n",
       "      <td>0.989816</td>\n",
       "    </tr>\n",
       "    <tr>\n",
       "      <th>4</th>\n",
       "      <td>0.656128</td>\n",
       "      <td>0.471727</td>\n",
       "      <td>0.570545</td>\n",
       "      <td>0.720992</td>\n",
       "      <td>0.027223</td>\n",
       "      <td>0.038462</td>\n",
       "      <td>0.625</td>\n",
       "      <td>0.978947</td>\n",
       "    </tr>\n",
       "    <tr>\n",
       "      <th>7</th>\n",
       "      <td>0.995125</td>\n",
       "      <td>0.030424</td>\n",
       "      <td>0.757361</td>\n",
       "      <td>0.478450</td>\n",
       "      <td>0.010030</td>\n",
       "      <td>0.038462</td>\n",
       "      <td>0.250</td>\n",
       "      <td>0.849940</td>\n",
       "    </tr>\n",
       "    <tr>\n",
       "      <th>8</th>\n",
       "      <td>0.587106</td>\n",
       "      <td>0.790412</td>\n",
       "      <td>0.320861</td>\n",
       "      <td>0.566282</td>\n",
       "      <td>0.116231</td>\n",
       "      <td>0.500000</td>\n",
       "      <td>0.250</td>\n",
       "      <td>0.811068</td>\n",
       "    </tr>\n",
       "    <tr>\n",
       "      <th>11</th>\n",
       "      <td>0.846531</td>\n",
       "      <td>0.021512</td>\n",
       "      <td>0.447682</td>\n",
       "      <td>0.436285</td>\n",
       "      <td>0.002637</td>\n",
       "      <td>0.000000</td>\n",
       "      <td>0.500</td>\n",
       "      <td>0.713356</td>\n",
       "    </tr>\n",
       "    <tr>\n",
       "      <th>2</th>\n",
       "      <td>0.745051</td>\n",
       "      <td>0.110018</td>\n",
       "      <td>0.718942</td>\n",
       "      <td>0.356337</td>\n",
       "      <td>0.021456</td>\n",
       "      <td>0.000000</td>\n",
       "      <td>0.125</td>\n",
       "      <td>0.694973</td>\n",
       "    </tr>\n",
       "    <tr>\n",
       "      <th>5</th>\n",
       "      <td>0.200942</td>\n",
       "      <td>0.104692</td>\n",
       "      <td>0.666322</td>\n",
       "      <td>0.282760</td>\n",
       "      <td>0.098427</td>\n",
       "      <td>0.102564</td>\n",
       "      <td>0.000</td>\n",
       "      <td>0.536470</td>\n",
       "    </tr>\n",
       "    <tr>\n",
       "      <th>6</th>\n",
       "      <td>0.012174</td>\n",
       "      <td>0.079697</td>\n",
       "      <td>0.474314</td>\n",
       "      <td>0.077902</td>\n",
       "      <td>0.701803</td>\n",
       "      <td>0.025641</td>\n",
       "      <td>0.000</td>\n",
       "      <td>0.530157</td>\n",
       "    </tr>\n",
       "    <tr>\n",
       "      <th>9</th>\n",
       "      <td>0.497488</td>\n",
       "      <td>0.082053</td>\n",
       "      <td>0.216900</td>\n",
       "      <td>0.464247</td>\n",
       "      <td>0.026977</td>\n",
       "      <td>0.000000</td>\n",
       "      <td>0.000</td>\n",
       "      <td>0.483802</td>\n",
       "    </tr>\n",
       "    <tr>\n",
       "      <th>3</th>\n",
       "      <td>0.334225</td>\n",
       "      <td>0.109096</td>\n",
       "      <td>0.406251</td>\n",
       "      <td>0.162768</td>\n",
       "      <td>0.041237</td>\n",
       "      <td>0.173077</td>\n",
       "      <td>0.250</td>\n",
       "      <td>0.421718</td>\n",
       "    </tr>\n",
       "    <tr>\n",
       "      <th>10</th>\n",
       "      <td>0.107316</td>\n",
       "      <td>0.209896</td>\n",
       "      <td>0.282828</td>\n",
       "      <td>0.300839</td>\n",
       "      <td>0.147564</td>\n",
       "      <td>0.038462</td>\n",
       "      <td>0.000</td>\n",
       "      <td>0.398959</td>\n",
       "    </tr>\n",
       "    <tr>\n",
       "      <th>1</th>\n",
       "      <td>0.570987</td>\n",
       "      <td>0.056546</td>\n",
       "      <td>0.331713</td>\n",
       "      <td>0.185752</td>\n",
       "      <td>0.032581</td>\n",
       "      <td>0.019231</td>\n",
       "      <td>0.000</td>\n",
       "      <td>0.378944</td>\n",
       "    </tr>\n",
       "    <tr>\n",
       "      <th>0</th>\n",
       "      <td>0.416227</td>\n",
       "      <td>0.039090</td>\n",
       "      <td>0.246807</td>\n",
       "      <td>0.191947</td>\n",
       "      <td>0.037923</td>\n",
       "      <td>0.230769</td>\n",
       "      <td>0.150</td>\n",
       "      <td>0.369292</td>\n",
       "    </tr>\n",
       "  </tbody>\n",
       "</table>\n",
       "</div>"
      ],
      "text/plain": [
       "                세대수     주차가능수       bpi  ev_traffic       포화도       x_x  \\\n",
       "MeanShift                                                                 \n",
       "12         0.258835  1.000000  0.844270    0.408656  0.070562  0.769231   \n",
       "4          0.656128  0.471727  0.570545    0.720992  0.027223  0.038462   \n",
       "7          0.995125  0.030424  0.757361    0.478450  0.010030  0.038462   \n",
       "8          0.587106  0.790412  0.320861    0.566282  0.116231  0.500000   \n",
       "11         0.846531  0.021512  0.447682    0.436285  0.002637  0.000000   \n",
       "2          0.745051  0.110018  0.718942    0.356337  0.021456  0.000000   \n",
       "5          0.200942  0.104692  0.666322    0.282760  0.098427  0.102564   \n",
       "6          0.012174  0.079697  0.474314    0.077902  0.701803  0.025641   \n",
       "9          0.497488  0.082053  0.216900    0.464247  0.026977  0.000000   \n",
       "3          0.334225  0.109096  0.406251    0.162768  0.041237  0.173077   \n",
       "10         0.107316  0.209896  0.282828    0.300839  0.147564  0.038462   \n",
       "1          0.570987  0.056546  0.331713    0.185752  0.032581  0.019231   \n",
       "0          0.416227  0.039090  0.246807    0.191947  0.037923  0.230769   \n",
       "\n",
       "             x_y  Weighted_Value  \n",
       "MeanShift                         \n",
       "12         0.750        0.989816  \n",
       "4          0.625        0.978947  \n",
       "7          0.250        0.849940  \n",
       "8          0.250        0.811068  \n",
       "11         0.500        0.713356  \n",
       "2          0.125        0.694973  \n",
       "5          0.000        0.536470  \n",
       "6          0.000        0.530157  \n",
       "9          0.000        0.483802  \n",
       "3          0.250        0.421718  \n",
       "10         0.000        0.398959  \n",
       "1          0.000        0.378944  \n",
       "0          0.150        0.369292  "
      ]
     },
     "execution_count": 50,
     "metadata": {},
     "output_type": "execute_result"
    }
   ],
   "source": [
    "df_wv = df_scaled.groupby('MeanShift').mean() \n",
    "\n",
    "df_wv['Weighted_Value'] = 0.2 * df_wv['세대수'] + 0.1 * df_wv['주차가능수'] + 0.4 * df_wv['bpi'] + 0.6 * df_wv['ev_traffic'] + 0.4 * df_wv['포화도'] + 0.1 * df_wv['x_x'] + 0.2 * df_wv['x_y']\n",
    "df_wv = df_wv.sort_values(by='Weighted_Value', ascending=False)\n",
    "rank.append(df_wv.index)\n",
    "df_wv"
   ]
  },
  {
   "cell_type": "code",
   "execution_count": 51,
   "metadata": {
    "id": "IBWSFlX_kw6Z"
   },
   "outputs": [],
   "source": [
    "# df_wv = df_new.groupby('MiniBatchKMeans').mean() \n",
    "\n",
    "# df_wv['Weighted_Value'] = 0.2 * df_wv['세대수'] + 0.1 * df_wv['주차가능수'] + 0.4 * df_wv['bpi'] + 0.6 * df_wv['ev_traffic'] + 0.4 * df_wv['포화도'] + 0.1 * df_wv['x_x'] + 0.2 * df_wv['x_y']\n",
    "# df_wv # 1"
   ]
  },
  {
   "cell_type": "code",
   "execution_count": 52,
   "metadata": {
    "colab": {
     "base_uri": "https://localhost:8080/",
     "height": 488
    },
    "id": "TGuNrR3kkxDP",
    "outputId": "8852c893-209e-4e76-d378-a62c32229ece"
   },
   "outputs": [
    {
     "data": {
      "text/html": [
       "<div>\n",
       "<style scoped>\n",
       "    .dataframe tbody tr th:only-of-type {\n",
       "        vertical-align: middle;\n",
       "    }\n",
       "\n",
       "    .dataframe tbody tr th {\n",
       "        vertical-align: top;\n",
       "    }\n",
       "\n",
       "    .dataframe thead th {\n",
       "        text-align: right;\n",
       "    }\n",
       "</style>\n",
       "<table border=\"1\" class=\"dataframe\">\n",
       "  <thead>\n",
       "    <tr style=\"text-align: right;\">\n",
       "      <th></th>\n",
       "      <th>세대수</th>\n",
       "      <th>주차가능수</th>\n",
       "      <th>bpi</th>\n",
       "      <th>ev_traffic</th>\n",
       "      <th>포화도</th>\n",
       "      <th>x_x</th>\n",
       "      <th>x_y</th>\n",
       "      <th>Weighted_Value</th>\n",
       "    </tr>\n",
       "    <tr>\n",
       "      <th>Birch</th>\n",
       "      <th></th>\n",
       "      <th></th>\n",
       "      <th></th>\n",
       "      <th></th>\n",
       "      <th></th>\n",
       "      <th></th>\n",
       "      <th></th>\n",
       "      <th></th>\n",
       "    </tr>\n",
       "  </thead>\n",
       "  <tbody>\n",
       "    <tr>\n",
       "      <th>10</th>\n",
       "      <td>0.258835</td>\n",
       "      <td>1.000000</td>\n",
       "      <td>0.844270</td>\n",
       "      <td>0.408656</td>\n",
       "      <td>0.070562</td>\n",
       "      <td>0.769231</td>\n",
       "      <td>0.750</td>\n",
       "      <td>0.989816</td>\n",
       "    </tr>\n",
       "    <tr>\n",
       "      <th>6</th>\n",
       "      <td>0.656128</td>\n",
       "      <td>0.471727</td>\n",
       "      <td>0.570545</td>\n",
       "      <td>0.720992</td>\n",
       "      <td>0.027223</td>\n",
       "      <td>0.038462</td>\n",
       "      <td>0.625</td>\n",
       "      <td>0.978947</td>\n",
       "    </tr>\n",
       "    <tr>\n",
       "      <th>4</th>\n",
       "      <td>0.995125</td>\n",
       "      <td>0.030424</td>\n",
       "      <td>0.757361</td>\n",
       "      <td>0.478450</td>\n",
       "      <td>0.010030</td>\n",
       "      <td>0.038462</td>\n",
       "      <td>0.250</td>\n",
       "      <td>0.849940</td>\n",
       "    </tr>\n",
       "    <tr>\n",
       "      <th>12</th>\n",
       "      <td>0.587106</td>\n",
       "      <td>0.790412</td>\n",
       "      <td>0.320861</td>\n",
       "      <td>0.566282</td>\n",
       "      <td>0.116231</td>\n",
       "      <td>0.500000</td>\n",
       "      <td>0.250</td>\n",
       "      <td>0.811068</td>\n",
       "    </tr>\n",
       "    <tr>\n",
       "      <th>9</th>\n",
       "      <td>0.846531</td>\n",
       "      <td>0.021512</td>\n",
       "      <td>0.447682</td>\n",
       "      <td>0.436285</td>\n",
       "      <td>0.002637</td>\n",
       "      <td>0.000000</td>\n",
       "      <td>0.500</td>\n",
       "      <td>0.713356</td>\n",
       "    </tr>\n",
       "    <tr>\n",
       "      <th>0</th>\n",
       "      <td>0.745051</td>\n",
       "      <td>0.110018</td>\n",
       "      <td>0.718942</td>\n",
       "      <td>0.356337</td>\n",
       "      <td>0.021456</td>\n",
       "      <td>0.000000</td>\n",
       "      <td>0.125</td>\n",
       "      <td>0.694973</td>\n",
       "    </tr>\n",
       "    <tr>\n",
       "      <th>7</th>\n",
       "      <td>0.200942</td>\n",
       "      <td>0.104692</td>\n",
       "      <td>0.666322</td>\n",
       "      <td>0.282760</td>\n",
       "      <td>0.098427</td>\n",
       "      <td>0.102564</td>\n",
       "      <td>0.000</td>\n",
       "      <td>0.536470</td>\n",
       "    </tr>\n",
       "    <tr>\n",
       "      <th>8</th>\n",
       "      <td>0.012174</td>\n",
       "      <td>0.079697</td>\n",
       "      <td>0.474314</td>\n",
       "      <td>0.077902</td>\n",
       "      <td>0.701803</td>\n",
       "      <td>0.025641</td>\n",
       "      <td>0.000</td>\n",
       "      <td>0.530157</td>\n",
       "    </tr>\n",
       "    <tr>\n",
       "      <th>11</th>\n",
       "      <td>0.497488</td>\n",
       "      <td>0.082053</td>\n",
       "      <td>0.216900</td>\n",
       "      <td>0.464247</td>\n",
       "      <td>0.026977</td>\n",
       "      <td>0.000000</td>\n",
       "      <td>0.000</td>\n",
       "      <td>0.483802</td>\n",
       "    </tr>\n",
       "    <tr>\n",
       "      <th>5</th>\n",
       "      <td>0.334225</td>\n",
       "      <td>0.109096</td>\n",
       "      <td>0.406251</td>\n",
       "      <td>0.162768</td>\n",
       "      <td>0.041237</td>\n",
       "      <td>0.173077</td>\n",
       "      <td>0.250</td>\n",
       "      <td>0.421718</td>\n",
       "    </tr>\n",
       "    <tr>\n",
       "      <th>1</th>\n",
       "      <td>0.107316</td>\n",
       "      <td>0.209896</td>\n",
       "      <td>0.282828</td>\n",
       "      <td>0.300839</td>\n",
       "      <td>0.147564</td>\n",
       "      <td>0.038462</td>\n",
       "      <td>0.000</td>\n",
       "      <td>0.398959</td>\n",
       "    </tr>\n",
       "    <tr>\n",
       "      <th>2</th>\n",
       "      <td>0.570987</td>\n",
       "      <td>0.056546</td>\n",
       "      <td>0.331713</td>\n",
       "      <td>0.185752</td>\n",
       "      <td>0.032581</td>\n",
       "      <td>0.019231</td>\n",
       "      <td>0.000</td>\n",
       "      <td>0.378944</td>\n",
       "    </tr>\n",
       "    <tr>\n",
       "      <th>3</th>\n",
       "      <td>0.416227</td>\n",
       "      <td>0.039090</td>\n",
       "      <td>0.246807</td>\n",
       "      <td>0.191947</td>\n",
       "      <td>0.037923</td>\n",
       "      <td>0.230769</td>\n",
       "      <td>0.150</td>\n",
       "      <td>0.369292</td>\n",
       "    </tr>\n",
       "  </tbody>\n",
       "</table>\n",
       "</div>"
      ],
      "text/plain": [
       "            세대수     주차가능수       bpi  ev_traffic       포화도       x_x    x_y  \\\n",
       "Birch                                                                        \n",
       "10     0.258835  1.000000  0.844270    0.408656  0.070562  0.769231  0.750   \n",
       "6      0.656128  0.471727  0.570545    0.720992  0.027223  0.038462  0.625   \n",
       "4      0.995125  0.030424  0.757361    0.478450  0.010030  0.038462  0.250   \n",
       "12     0.587106  0.790412  0.320861    0.566282  0.116231  0.500000  0.250   \n",
       "9      0.846531  0.021512  0.447682    0.436285  0.002637  0.000000  0.500   \n",
       "0      0.745051  0.110018  0.718942    0.356337  0.021456  0.000000  0.125   \n",
       "7      0.200942  0.104692  0.666322    0.282760  0.098427  0.102564  0.000   \n",
       "8      0.012174  0.079697  0.474314    0.077902  0.701803  0.025641  0.000   \n",
       "11     0.497488  0.082053  0.216900    0.464247  0.026977  0.000000  0.000   \n",
       "5      0.334225  0.109096  0.406251    0.162768  0.041237  0.173077  0.250   \n",
       "1      0.107316  0.209896  0.282828    0.300839  0.147564  0.038462  0.000   \n",
       "2      0.570987  0.056546  0.331713    0.185752  0.032581  0.019231  0.000   \n",
       "3      0.416227  0.039090  0.246807    0.191947  0.037923  0.230769  0.150   \n",
       "\n",
       "       Weighted_Value  \n",
       "Birch                  \n",
       "10           0.989816  \n",
       "6            0.978947  \n",
       "4            0.849940  \n",
       "12           0.811068  \n",
       "9            0.713356  \n",
       "0            0.694973  \n",
       "7            0.536470  \n",
       "8            0.530157  \n",
       "11           0.483802  \n",
       "5            0.421718  \n",
       "1            0.398959  \n",
       "2            0.378944  \n",
       "3            0.369292  "
      ]
     },
     "execution_count": 52,
     "metadata": {},
     "output_type": "execute_result"
    }
   ],
   "source": [
    "df_wv = df_scaled.groupby('Birch').mean() \n",
    "\n",
    "df_wv['Weighted_Value'] = 0.2 * df_wv['세대수'] + 0.1 * df_wv['주차가능수'] + 0.4 * df_wv['bpi'] + 0.6 * df_wv['ev_traffic'] + 0.4 * df_wv['포화도'] + 0.1 * df_wv['x_x'] + 0.2 * df_wv['x_y']\n",
    "df_wv = df_wv.sort_values(by='Weighted_Value', ascending=False)\n",
    "rank.append(df_wv.index)\n",
    "df_wv"
   ]
  },
  {
   "cell_type": "code",
   "execution_count": 53,
   "metadata": {
    "colab": {
     "base_uri": "https://localhost:8080/",
     "height": 457
    },
    "id": "Un-5c7WrkxLX",
    "outputId": "fbf1b04f-03d7-42ec-f2bb-6f8f21217230"
   },
   "outputs": [
    {
     "data": {
      "text/html": [
       "<div>\n",
       "<style scoped>\n",
       "    .dataframe tbody tr th:only-of-type {\n",
       "        vertical-align: middle;\n",
       "    }\n",
       "\n",
       "    .dataframe tbody tr th {\n",
       "        vertical-align: top;\n",
       "    }\n",
       "\n",
       "    .dataframe thead th {\n",
       "        text-align: right;\n",
       "    }\n",
       "</style>\n",
       "<table border=\"1\" class=\"dataframe\">\n",
       "  <thead>\n",
       "    <tr style=\"text-align: right;\">\n",
       "      <th></th>\n",
       "      <th>세대수</th>\n",
       "      <th>주차가능수</th>\n",
       "      <th>bpi</th>\n",
       "      <th>ev_traffic</th>\n",
       "      <th>포화도</th>\n",
       "      <th>x_x</th>\n",
       "      <th>x_y</th>\n",
       "      <th>Weighted_Value</th>\n",
       "    </tr>\n",
       "    <tr>\n",
       "      <th>GaussianMixture</th>\n",
       "      <th></th>\n",
       "      <th></th>\n",
       "      <th></th>\n",
       "      <th></th>\n",
       "      <th></th>\n",
       "      <th></th>\n",
       "      <th></th>\n",
       "      <th></th>\n",
       "    </tr>\n",
       "  </thead>\n",
       "  <tbody>\n",
       "    <tr>\n",
       "      <th>8</th>\n",
       "      <td>0.258835</td>\n",
       "      <td>1.000000</td>\n",
       "      <td>0.844270</td>\n",
       "      <td>0.408656</td>\n",
       "      <td>0.070562</td>\n",
       "      <td>0.769231</td>\n",
       "      <td>0.750000</td>\n",
       "      <td>0.989816</td>\n",
       "    </tr>\n",
       "    <tr>\n",
       "      <th>11</th>\n",
       "      <td>0.656128</td>\n",
       "      <td>0.471727</td>\n",
       "      <td>0.570545</td>\n",
       "      <td>0.720992</td>\n",
       "      <td>0.027223</td>\n",
       "      <td>0.038462</td>\n",
       "      <td>0.625000</td>\n",
       "      <td>0.978947</td>\n",
       "    </tr>\n",
       "    <tr>\n",
       "      <th>3</th>\n",
       "      <td>0.995125</td>\n",
       "      <td>0.030424</td>\n",
       "      <td>0.757361</td>\n",
       "      <td>0.478450</td>\n",
       "      <td>0.010030</td>\n",
       "      <td>0.038462</td>\n",
       "      <td>0.250000</td>\n",
       "      <td>0.849940</td>\n",
       "    </tr>\n",
       "    <tr>\n",
       "      <th>7</th>\n",
       "      <td>0.587106</td>\n",
       "      <td>0.790412</td>\n",
       "      <td>0.320861</td>\n",
       "      <td>0.566282</td>\n",
       "      <td>0.116231</td>\n",
       "      <td>0.500000</td>\n",
       "      <td>0.250000</td>\n",
       "      <td>0.811068</td>\n",
       "    </tr>\n",
       "    <tr>\n",
       "      <th>10</th>\n",
       "      <td>0.846531</td>\n",
       "      <td>0.021512</td>\n",
       "      <td>0.447682</td>\n",
       "      <td>0.436285</td>\n",
       "      <td>0.002637</td>\n",
       "      <td>0.000000</td>\n",
       "      <td>0.500000</td>\n",
       "      <td>0.713356</td>\n",
       "    </tr>\n",
       "    <tr>\n",
       "      <th>1</th>\n",
       "      <td>0.745051</td>\n",
       "      <td>0.110018</td>\n",
       "      <td>0.718942</td>\n",
       "      <td>0.356337</td>\n",
       "      <td>0.021456</td>\n",
       "      <td>0.000000</td>\n",
       "      <td>0.125000</td>\n",
       "      <td>0.694973</td>\n",
       "    </tr>\n",
       "    <tr>\n",
       "      <th>0</th>\n",
       "      <td>0.200942</td>\n",
       "      <td>0.104692</td>\n",
       "      <td>0.666322</td>\n",
       "      <td>0.282760</td>\n",
       "      <td>0.098427</td>\n",
       "      <td>0.102564</td>\n",
       "      <td>0.000000</td>\n",
       "      <td>0.536470</td>\n",
       "    </tr>\n",
       "    <tr>\n",
       "      <th>5</th>\n",
       "      <td>0.012174</td>\n",
       "      <td>0.079697</td>\n",
       "      <td>0.474314</td>\n",
       "      <td>0.077902</td>\n",
       "      <td>0.701803</td>\n",
       "      <td>0.025641</td>\n",
       "      <td>0.000000</td>\n",
       "      <td>0.530157</td>\n",
       "    </tr>\n",
       "    <tr>\n",
       "      <th>6</th>\n",
       "      <td>0.325099</td>\n",
       "      <td>0.138496</td>\n",
       "      <td>0.435297</td>\n",
       "      <td>0.157827</td>\n",
       "      <td>0.053924</td>\n",
       "      <td>0.230769</td>\n",
       "      <td>0.166667</td>\n",
       "      <td>0.425664</td>\n",
       "    </tr>\n",
       "    <tr>\n",
       "      <th>4</th>\n",
       "      <td>0.557511</td>\n",
       "      <td>0.073510</td>\n",
       "      <td>0.296082</td>\n",
       "      <td>0.247502</td>\n",
       "      <td>0.029311</td>\n",
       "      <td>0.015385</td>\n",
       "      <td>0.000000</td>\n",
       "      <td>0.399050</td>\n",
       "    </tr>\n",
       "    <tr>\n",
       "      <th>9</th>\n",
       "      <td>0.107316</td>\n",
       "      <td>0.209896</td>\n",
       "      <td>0.282828</td>\n",
       "      <td>0.300839</td>\n",
       "      <td>0.147564</td>\n",
       "      <td>0.038462</td>\n",
       "      <td>0.000000</td>\n",
       "      <td>0.398959</td>\n",
       "    </tr>\n",
       "    <tr>\n",
       "      <th>2</th>\n",
       "      <td>0.419158</td>\n",
       "      <td>0.034156</td>\n",
       "      <td>0.261913</td>\n",
       "      <td>0.224474</td>\n",
       "      <td>0.032930</td>\n",
       "      <td>0.164835</td>\n",
       "      <td>0.178571</td>\n",
       "      <td>0.392067</td>\n",
       "    </tr>\n",
       "  </tbody>\n",
       "</table>\n",
       "</div>"
      ],
      "text/plain": [
       "                      세대수     주차가능수       bpi  ev_traffic       포화도       x_x  \\\n",
       "GaussianMixture                                                                 \n",
       "8                0.258835  1.000000  0.844270    0.408656  0.070562  0.769231   \n",
       "11               0.656128  0.471727  0.570545    0.720992  0.027223  0.038462   \n",
       "3                0.995125  0.030424  0.757361    0.478450  0.010030  0.038462   \n",
       "7                0.587106  0.790412  0.320861    0.566282  0.116231  0.500000   \n",
       "10               0.846531  0.021512  0.447682    0.436285  0.002637  0.000000   \n",
       "1                0.745051  0.110018  0.718942    0.356337  0.021456  0.000000   \n",
       "0                0.200942  0.104692  0.666322    0.282760  0.098427  0.102564   \n",
       "5                0.012174  0.079697  0.474314    0.077902  0.701803  0.025641   \n",
       "6                0.325099  0.138496  0.435297    0.157827  0.053924  0.230769   \n",
       "4                0.557511  0.073510  0.296082    0.247502  0.029311  0.015385   \n",
       "9                0.107316  0.209896  0.282828    0.300839  0.147564  0.038462   \n",
       "2                0.419158  0.034156  0.261913    0.224474  0.032930  0.164835   \n",
       "\n",
       "                      x_y  Weighted_Value  \n",
       "GaussianMixture                            \n",
       "8                0.750000        0.989816  \n",
       "11               0.625000        0.978947  \n",
       "3                0.250000        0.849940  \n",
       "7                0.250000        0.811068  \n",
       "10               0.500000        0.713356  \n",
       "1                0.125000        0.694973  \n",
       "0                0.000000        0.536470  \n",
       "5                0.000000        0.530157  \n",
       "6                0.166667        0.425664  \n",
       "4                0.000000        0.399050  \n",
       "9                0.000000        0.398959  \n",
       "2                0.178571        0.392067  "
      ]
     },
     "execution_count": 53,
     "metadata": {},
     "output_type": "execute_result"
    }
   ],
   "source": [
    "df_wv = df_scaled.groupby('GaussianMixture').mean() \n",
    "\n",
    "df_wv['Weighted_Value'] = 0.2 * df_wv['세대수'] + 0.1 * df_wv['주차가능수'] + 0.4 * df_wv['bpi'] + 0.6 * df_wv['ev_traffic'] + 0.4 * df_wv['포화도'] + 0.1 * df_wv['x_x'] + 0.2 * df_wv['x_y']\n",
    "df_wv = df_wv.sort_values(by='Weighted_Value', ascending=False)\n",
    "rank.append(df_wv.index)\n",
    "df_wv"
   ]
  },
  {
   "cell_type": "code",
   "execution_count": 54,
   "metadata": {
    "id": "ZZSFPgI-5kR6"
   },
   "outputs": [],
   "source": [
    "adng_list = []"
   ]
  },
  {
   "cell_type": "code",
   "execution_count": 55,
   "metadata": {
    "colab": {
     "base_uri": "https://localhost:8080/",
     "height": 35
    },
    "id": "ynwQknbNOqJB",
    "outputId": "44c71157-b344-475a-b6d7-11cb8215374b"
   },
   "outputs": [
    {
     "data": {
      "text/plain": [
       "'3'"
      ]
     },
     "execution_count": 55,
     "metadata": {},
     "output_type": "execute_result"
    }
   ],
   "source": [
    "rank[0][0]"
   ]
  },
  {
   "cell_type": "code",
   "execution_count": 56,
   "metadata": {
    "id": "y-fnvXOFk1Sf"
   },
   "outputs": [],
   "source": [
    "# Rank 1\n",
    "adng_list.extend(list(df_new.loc[df_new['KMeans'] == rank[0][0], 'adng_nm']))\n",
    "adng_list.extend(list(df_new.loc[df_new['AgglomerativeClustering'] == rank[1][0], 'adng_nm']))\n",
    "adng_list.extend(list(df_new.loc[df_new['AffinityPropagation'] == rank[2][0], 'adng_nm']))\n",
    "adng_list.extend(list(df_new.loc[df_new['MeanShift'] == rank[3][0], 'adng_nm']))\n",
    "adng_list.extend(list(df_new.loc[df_new['Birch'] == rank[4][0], 'adng_nm']))\n",
    "adng_list.extend(list(df_new.loc[df_new['GaussianMixture'] == rank[5][0], 'adng_nm']))"
   ]
  },
  {
   "cell_type": "code",
   "execution_count": 57,
   "metadata": {
    "id": "2hMgf5m55R-0"
   },
   "outputs": [],
   "source": [
    "# Rank 2\n",
    "adng_list.extend(list(df_new.loc[df_new['KMeans'] == rank[0][1], 'adng_nm']))\n",
    "adng_list.extend(list(df_new.loc[df_new['AgglomerativeClustering'] == rank[1][1], 'adng_nm']))\n",
    "adng_list.extend(list(df_new.loc[df_new['AffinityPropagation'] == rank[2][1], 'adng_nm']))\n",
    "adng_list.extend(list(df_new.loc[df_new['MeanShift'] == rank[3][1], 'adng_nm']))\n",
    "adng_list.extend(list(df_new.loc[df_new['Birch'] == rank[4][1], 'adng_nm']))\n",
    "adng_list.extend(list(df_new.loc[df_new['GaussianMixture'] == rank[5][1], 'adng_nm']))"
   ]
  },
  {
   "cell_type": "code",
   "execution_count": 58,
   "metadata": {
    "id": "Q4o8f-y05avQ"
   },
   "outputs": [],
   "source": [
    "# Rank 3\n",
    "adng_list.extend(list(df_new.loc[df_new['KMeans'] == rank[0][2], 'adng_nm']))\n",
    "adng_list.extend(list(df_new.loc[df_new['AgglomerativeClustering'] == rank[0][2], 'adng_nm']))\n",
    "adng_list.extend(list(df_new.loc[df_new['AffinityPropagation'] == rank[0][2], 'adng_nm']))\n",
    "adng_list.extend(list(df_new.loc[df_new['MeanShift'] == rank[0][2], 'adng_nm']))\n",
    "adng_list.extend(list(df_new.loc[df_new['Birch'] == rank[0][2], 'adng_nm']))\n",
    "adng_list.extend(list(df_new.loc[df_new['GaussianMixture'] == rank[0][2], 'adng_nm']))"
   ]
  },
  {
   "cell_type": "code",
   "execution_count": 59,
   "metadata": {
    "colab": {
     "base_uri": "https://localhost:8080/"
    },
    "id": "gaJZQ205lBff",
    "outputId": "e587ef29-9db6-4481-b835-88f4e7965117"
   },
   "outputs": [
    {
     "data": {
      "text/plain": [
       "Counter({'성복동': 3,\n",
       "         '죽전1동': 3,\n",
       "         '중앙동': 3,\n",
       "         '구성동': 3,\n",
       "         '동천동': 3,\n",
       "         '상현1동': 3,\n",
       "         '신갈동': 5,\n",
       "         '신봉동': 3,\n",
       "         '풍덕천2동': 3,\n",
       "         '구갈동': 4,\n",
       "         '동백1동': 1,\n",
       "         '마북동': 1,\n",
       "         '보라동': 1,\n",
       "         '보정동': 1,\n",
       "         '상현2동': 1,\n",
       "         '역삼동': 1,\n",
       "         '영덕1동': 1,\n",
       "         '풍덕천1동': 1,\n",
       "         '상갈동': 1,\n",
       "         '이동읍': 1,\n",
       "         '포곡읍': 1,\n",
       "         '기흥동': 1,\n",
       "         '영덕2동': 1,\n",
       "         '유림동': 1,\n",
       "         '죽전2동': 1,\n",
       "         '백암면': 1,\n",
       "         '양지면': 1,\n",
       "         '원삼면': 1})"
      ]
     },
     "execution_count": 59,
     "metadata": {},
     "output_type": "execute_result"
    }
   ],
   "source": [
    "from collections import Counter\n",
    "\n",
    "Counter(adng_list)"
   ]
  },
  {
   "cell_type": "code",
   "execution_count": 60,
   "metadata": {
    "colab": {
     "base_uri": "https://localhost:8080/",
     "height": 284
    },
    "id": "3jA-q-lwqPJE",
    "outputId": "7bbe0a7a-f77e-4b5c-a9ec-660d1e80743c"
   },
   "outputs": [
    {
     "data": {
      "text/plain": [
       "[<matplotlib.lines.Line2D at 0x23872c7c670>]"
      ]
     },
     "execution_count": 60,
     "metadata": {},
     "output_type": "execute_result"
    },
    {
     "data": {
      "image/png": "[encoded data removed]",
      "text/plain": [
       "<Figure size 640x480 with 1 Axes>"
      ]
     },
     "metadata": {},
     "output_type": "display_data"
    }
   ],
   "source": [
    "rank1 = ['구갈동', '신갈동']\n",
    "rank2 = ['성복동', '죽전1동', '풍덕천1동', '역삼동', '상현2동']\n",
    "rank3 = ['동백1동', '마북동', '보라동', '보정동', '영덕1동']\n",
    "\n",
    "\n",
    "data = df_scaled.iloc[:, :7].transpose()\n",
    "\n",
    "# plt.plot(data, 'gray')\n",
    "\n",
    "plt.plot(data[0], 'red', linewidth=2)\n",
    "plt.plot(data[20], 'orange', linewidth=2)\n",
    "plt.plot(data[19], 'yellow', linewidth=2)\n",
    "plt.plot(data[29], 'green', linewidth=2)\n",
    "plt.plot(data[33], 'blue', linewidth=2)\n",
    "\n",
    "# for i in rank1:\n",
    "#   idx = df_scaled[df_scaled['adng_nm'] == i].index[0]\n",
    "#   plt.plot(data[idx], 'red')\n",
    "\n",
    "# for i in rank2:\n",
    "#   idx = df_scaled[df_scaled['adng_nm'] == i].index[0]\n",
    "#   plt.plot(data[idx], 'orange')\n",
    "\n",
    "# for i in rank3:\n",
    "#   idx = df_scaled[df_scaled['adng_nm'] == i].index[0]\n",
    "#   plt.plot(data[idx], 'yellow')\n"
   ]
  },
  {
   "cell_type": "code",
   "execution_count": null,
   "metadata": {
    "id": "AznDZ87Ctb_5"
   },
   "outputs": [],
   "source": []
  }
 ],
 "metadata": {
  "colab": {
   "collapsed_sections": [
    "t6JGrsLcyH_-",
    "1S01g9z9yZ0r",
    "PQMJOyuDw73q",
    "ovD3TXx6xbsT",
    "8_D_Do7qz0j4",
    "_47LEiij0JoK",
    "woOfArP70kOP",
    "0W7cXynA3mGI",
    "mOqXylan406C",
    "nH47RpuL45Hh",
    "dircLQeV46rG",
    "98SYAbQG49uM",
    "P-zZ2XhEC_q1"
   ],
   "provenance": []
  },
  "kernelspec": {
   "display_name": "Python 3 (ipykernel)",
   "language": "python",
   "name": "python3"
  },
  "language_info": {
   "codemirror_mode": {
    "name": "ipython",
    "version": 3
   },
   "file_extension": ".py",
   "mimetype": "text/x-python",
   "name": "python",
   "nbconvert_exporter": "python",
   "pygments_lexer": "ipython3",
   "version": "3.9.12"
  },
  "toc": {
   "base_numbering": 1,
   "nav_menu": {},
   "number_sections": true,
   "sideBar": true,
   "skip_h1_title": false,
   "title_cell": "Table of Contents",
   "title_sidebar": "Contents",
   "toc_cell": false,
   "toc_position": {},
   "toc_section_display": true,
   "toc_window_display": false
  },
  "varInspector": {
   "cols": {
    "lenName": 16,
    "lenType": 16,
    "lenVar": 40
   },
   "kernels_config": {
    "python": {
     "delete_cmd_postfix": "",
     "delete_cmd_prefix": "del ",
     "library": "var_list.py",
     "varRefreshCmd": "print(var_dic_list())"
    },
    "r": {
     "delete_cmd_postfix": ") ",
     "delete_cmd_prefix": "rm(",
     "library": "var_list.r",
     "varRefreshCmd": "cat(var_dic_list()) "
    }
   },
   "types_to_exclude": [
    "module",
    "function",
    "builtin_function_or_method",
    "instance",
    "_Feature"
   ],
   "window_display": false
  },
  "vscode": {
   "interpreter": {
    "hash": "4b5c8ee01240f01b9bad2e9285fe02c5c238b0c96349d8acec3895ccfb68c3d4"
   }
  }
 },
 "nbformat": 4,
 "nbformat_minor": 1
}
