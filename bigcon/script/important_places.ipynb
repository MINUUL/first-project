{
 "cells": [
  {
   "cell_type": "code",
   "execution_count": 1,
   "metadata": {},
   "outputs": [],
   "source": [
    "# 소괄호 제거\n",
    "import numpy as np\n",
    "import pandas as pd\n",
    "import re\n",
    "from tqdm import tqdm\n",
    "import requests\n",
    "import json\n",
    "import geopandas as gpd\n",
    "\n"
   ]
  },
  {
   "cell_type": "code",
   "execution_count": 2,
   "metadata": {},
   "outputs": [
    {
     "name": "stderr",
     "output_type": "stream",
     "text": [
      "c:\\Users\\ghrbs\\anaconda3\\envs\\geopandas\\lib\\site-packages\\openpyxl\\styles\\stylesheet.py:226: UserWarning: Workbook contains no default style, apply openpyxl's default\n",
      "  warn(\"Workbook contains no default style, apply openpyxl's default\")\n",
      "C:\\bigcon\\script\\k_table.py:85: UserWarning: CRS mismatch between the CRS of left geometries and the CRS of right geometries.\n",
      "Use `to_crs()` to reproject one of the input geometries to match the CRS of the other.\n",
      "\n",
      "Left CRS: EPSG:4326\n",
      "Right CRS: None\n",
      "\n",
      "  ap_table = gpd.sjoin(map_table,ap_table).groupby(['adng_nm'])['세대수'].sum()\n",
      "C:\\bigcon\\script\\k_table.py:87: UserWarning: CRS mismatch between the CRS of left geometries and the CRS of right geometries.\n",
      "Use `to_crs()` to reproject one of the input geometries to match the CRS of the other.\n",
      "\n",
      "Left CRS: EPSG:4326\n",
      "Right CRS: None\n",
      "\n",
      "  park_table = gpd.sjoin(map_table,park_table).groupby(['adng_nm'])['주차구획수'].sum()\n",
      "C:\\bigcon\\script\\k_table.py:92: UserWarning: CRS mismatch between the CRS of left geometries and the CRS of right geometries.\n",
      "Use `to_crs()` to reproject one of the input geometries to match the CRS of the other.\n",
      "\n",
      "Left CRS: EPSG:4326\n",
      "Right CRS: None\n",
      "\n",
      "  ev_table = gpd.sjoin(map_table,ev_table).groupby(['adng_nm'])['완속충전기'].sum()\n"
     ]
    }
   ],
   "source": [
    "path = 'C:/bigcon/'\n",
    "import sys\n",
    "sys.path.append(path + 'script')\n",
    "from k_table import out, map_, youngin_grpsum, to_geo"
   ]
  },
  {
   "cell_type": "code",
   "execution_count": 3,
   "metadata": {},
   "outputs": [],
   "source": [
    "def kw_location(nm):\n",
    "    \n",
    "    global cnt\n",
    "    \n",
    "    url = 'https://dapi.kakao.com/v2/local/search/keyword.json' # 키워드 검색 url. 주소 검색 url이랑 다름.\n",
    "    params = {'query': nm,\n",
    "              'x':'127.177482330871' , ## 용인시 좌표를 중심으로 검색.\n",
    "              'y':'37.241029979227',\n",
    "              'category_group_code': 'CT1',\n",
    "              'size' : 12}\n",
    "    \n",
    "    headers = {\"Authorization\": 'KakaoAK ' + appkey} # api 인증 key\n",
    "\n",
    "    places = requests.get(url, params=params, headers=headers)\n",
    "\n",
    "    xy = json.loads(places.text)\n",
    "    tmp =[]\n",
    "    \n",
    "    for i in range(len(xy['documents'])):\n",
    "        address_nm = dict(xy['documents'][i])['address_name']\n",
    "        x = dict(xy['documents'][i])['x']\n",
    "        y = dict(xy['documents'][i])['y']\n",
    "        place_nm = dict(xy['documents'][i])['place_name']\n",
    "        \n",
    "        tmp.append([place_nm,address_nm,x,y])\n",
    "\n",
    "    \n",
    "    return pd.DataFrame(tmp)"
   ]
  },
  {
   "cell_type": "code",
   "execution_count": 4,
   "metadata": {},
   "outputs": [],
   "source": [
    " \n",
    "cnt = 0\n",
    "def _location(address,add_col,nm_col,df):\n",
    "    \n",
    "    global cnt\n",
    "    url = 'https://dapi.kakao.com/v2/local/search/address.json'\n",
    "    \n",
    "    params = {'query': address,'analyze_type' : 'simillar', 'size' : 1}\n",
    "    headers = {\"Authorization\": 'KakaoAK ' + appkey}\n",
    "\n",
    "    places = requests.get(url, params=params, headers=headers)\n",
    "    xy = json.loads(places.text)\n",
    "    \n",
    "    try:    \n",
    "        address_nm = dict(xy['documents'][0])['address']['address_name']\n",
    "        x = dict(xy['documents'][0])['x']\n",
    "        y = dict(xy['documents'][0])['y']\n",
    "        \n",
    "    except:\n",
    "        \n",
    "        nm = df[df[add_col] == address][nm_col].head(1)\n",
    "        \n",
    "        return nm_location(nm)\n",
    "    \n",
    "    return [address_nm,x,y]\n",
    "\n",
    "def nm_location(nm):\n",
    "    \n",
    "    global cnt\n",
    "    \n",
    "    url = 'https://dapi.kakao.com/v2/local/search/keyword.json' # 키워드 검색 url. 주소 검색 url이랑 다름.\n",
    "    params = {'query': nm,\n",
    "              'x':'127.177482330871' , ## 용인시 좌표를 중심으로 검색.\n",
    "              'y':'37.241029979227',\n",
    "              'size' : 1}\n",
    "    \n",
    "    headers = {\"Authorization\": 'KakaoAK ' + appkey} # api 인증 key\n",
    "\n",
    "    places = requests.get(url, params=params, headers=headers)\n",
    "    xy = json.loads(places.text)\n",
    "    \n",
    "    try:    \n",
    "        address_nm = dict(xy['documents'][0])['address_name']\n",
    "        x = dict(xy['documents'][0])['x']\n",
    "        y = dict(xy['documents'][0])['y']\n",
    "        \n",
    "    except:\n",
    "         cnt += 1\n",
    "         if cnt % 50 == 0:\n",
    "             print(f'no search result: {cnt}')\n",
    "             \n",
    "         return [nm,np.nan,np.nan]\n",
    "    \n",
    "\n",
    "    return [address_nm,x,y]"
   ]
  },
  {
   "cell_type": "code",
   "execution_count": 5,
   "metadata": {},
   "outputs": [],
   "source": [
    " \n",
    "\n",
    "map_table = gpd.read_file(path + '/input/geo_dataset/HangJeongDong_ver20210401.geojson') #출처:https://github.com/vuski/admdongkor\n",
    "map_table['adm_cd2'] = map_table['adm_cd2'].astype('float64')/100\n",
    "\n",
    "\n",
    "map_table = map_table[map_table['sgg'].str.contains('^4146', na = False)]\n",
    "\n",
    "map_table = map_table.set_index('adm_cd2').join(youngin_grpsum).reset_index()\n",
    "map_ = map_table.copy()\n",
    "map_table = map_table[['adng_nm','geometry']]"
   ]
  },
  {
   "cell_type": "code",
   "execution_count": 6,
   "metadata": {},
   "outputs": [
    {
     "name": "stderr",
     "output_type": "stream",
     "text": [
      "C:\\Users\\ghrbs\\AppData\\Local\\Temp\\ipykernel_4892\\2281102086.py:8: UserWarning: CRS mismatch between the CRS of left geometries and the CRS of right geometries.\n",
      "Use `to_crs()` to reproject one of the input geometries to match the CRS of the other.\n",
      "\n",
      "Left CRS: EPSG:4326\n",
      "Right CRS: None\n",
      "\n",
      "  movie_table = gpd.sjoin(map_table,movie).groupby(['adng_nm'])['x'].count()\n"
     ]
    }
   ],
   "source": [
    " \n",
    "appkey = '63c767bfe1e2af023f72a87dca3ca6c9'\n",
    "path = 'C:/bigcon/' # 경로 지정\n",
    "movie = kw_location('용인시 영화관')\n",
    "movie = movie[:10] #동탄 영화관 제외\n",
    "movie.columns = ['nm','address','x','y']\n",
    "movie = to_geo(movie)\n",
    "\n",
    "movie_table = gpd.sjoin(map_table,movie).groupby(['adng_nm'])['x'].count()"
   ]
  },
  {
   "cell_type": "code",
   "execution_count": 7,
   "metadata": {},
   "outputs": [
    {
     "name": "stderr",
     "output_type": "stream",
     "text": [
      "C:\\Users\\ghrbs\\AppData\\Local\\Temp\\ipykernel_4892\\4064062858.py:6: UserWarning: CRS mismatch between the CRS of left geometries and the CRS of right geometries.\n",
      "Use `to_crs()` to reproject one of the input geometries to match the CRS of the other.\n",
      "\n",
      "Left CRS: EPSG:4326\n",
      "Right CRS: None\n",
      "\n",
      "  mart_table = gpd.sjoin(map_table,movie).groupby(['adng_nm'])['x'].count()\n"
     ]
    }
   ],
   "source": [
    " \n",
    "mart = pd.read_csv(path + 'input/additional_dataset/경기도_용인시_대규모 점포 현황_20190409.csv',encoding = 'CP949')\n",
    "\n",
    "\n",
    "mart[['주소', 'x', 'y']] = list(map(lambda x: _location(address = x,add_col = '소재지(사무실)',nm_col = '상호명', df = mart),mart['소재지(사무실)']))\n",
    "mart = to_geo(mart)\n",
    "mart_table = gpd.sjoin(map_table,movie).groupby(['adng_nm'])['x'].count()\n",
    "\n",
    "tmp = movie_table + mart_table\n",
    "tmp = tmp.fillna(0)"
   ]
  },
  {
   "cell_type": "code",
   "execution_count": 8,
   "metadata": {},
   "outputs": [],
   "source": [
    "tmp.to_csv(path + 'output/data/checkpoint/ETC_places.csv',encoding = 'CP949')"
   ]
  }
 ],
 "metadata": {
  "anaconda-cloud": {},
  "kernelspec": {
   "display_name": "Python 3 (ipykernel)",
   "language": "python",
   "name": "python3"
  },
  "language_info": {
   "codemirror_mode": {
    "name": "ipython",
    "version": 3
   },
   "file_extension": ".py",
   "mimetype": "text/x-python",
   "name": "python",
   "nbconvert_exporter": "python",
   "pygments_lexer": "ipython3",
   "version": "3.8.13"
  },
  "vscode": {
   "interpreter": {
    "hash": "4b5c8ee01240f01b9bad2e9285fe02c5c238b0c96349d8acec3895ccfb68c3d4"
   }
  }
 },
 "nbformat": 4,
 "nbformat_minor": 4
}
