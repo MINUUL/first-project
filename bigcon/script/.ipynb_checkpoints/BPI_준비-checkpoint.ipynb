{
 "cells": [
  {
   "cell_type": "code",
   "execution_count": 1,
   "metadata": {
    "id": "guji9zV3N1dN"
   },
   "outputs": [],
   "source": [
    "import pandas as pd\n",
    "import numpy as np"
   ]
  },
  {
   "cell_type": "markdown",
   "metadata": {
    "id": "QzOOr82HbJGg"
   },
   "source": [
    "### 구매력 지수 (BPI) \n",
    "= 0.5 * 행정동 별 전기차 보유대수 비율 + 0.3 * 행정동별 전기차 앱 실행횟수 비율 + 0.2 * 행정동별 인구 비율"
   ]
  },
  {
   "cell_type": "markdown",
   "metadata": {
    "id": "rzuPaRzBQgzt"
   },
   "source": [
    "## 행정동별 전기차 보유대수 \n",
    "\n",
    "= 구별 전기차 보유대수 X (각 행정동 별 인구비율)"
   ]
  },
  {
   "cell_type": "markdown",
   "metadata": {
    "id": "GVatswNMQd0Y"
   },
   "source": [
    "### 데이터 준비"
   ]
  },
  {
   "cell_type": "code",
   "execution_count": 2,
   "metadata": {
    "id": "WYOMC4bmO_NM"
   },
   "outputs": [],
   "source": [
    "path = 'C:/bigcon/'\n",
    "population = pd.read_csv(path + 'input/additional_dataset/population.csv', encoding='CP949')"
   ]
  },
  {
   "cell_type": "code",
   "execution_count": 3,
   "metadata": {
    "id": "dD6OoJ8fPbfz"
   },
   "outputs": [],
   "source": [
    "population = population.rename(columns = population.iloc[0])\n",
    "population.drop(0, axis=0, inplace=True)"
   ]
  },
  {
   "cell_type": "code",
   "execution_count": 4,
   "metadata": {
    "id": "t2FN-TfoQ7no"
   },
   "outputs": [],
   "source": [
    "population.columns = ['행정동명', '20대', '30대', '40대', '50대', '60대', '합계']"
   ]
  },
  {
   "cell_type": "code",
   "execution_count": 5,
   "metadata": {
    "colab": {
     "base_uri": "https://localhost:8080/",
     "height": 143
    },
    "id": "5KJ0QExCPrZd",
    "outputId": "3e921177-f6ef-4647-a015-2e1ed79c75fe"
   },
   "outputs": [
    {
     "data": {
      "text/html": [
       "<div>\n",
       "<style scoped>\n",
       "    .dataframe tbody tr th:only-of-type {\n",
       "        vertical-align: middle;\n",
       "    }\n",
       "\n",
       "    .dataframe tbody tr th {\n",
       "        vertical-align: top;\n",
       "    }\n",
       "\n",
       "    .dataframe thead th {\n",
       "        text-align: right;\n",
       "    }\n",
       "</style>\n",
       "<table border=\"1\" class=\"dataframe\">\n",
       "  <thead>\n",
       "    <tr style=\"text-align: right;\">\n",
       "      <th></th>\n",
       "      <th>행정동명</th>\n",
       "      <th>20대</th>\n",
       "      <th>30대</th>\n",
       "      <th>40대</th>\n",
       "      <th>50대</th>\n",
       "      <th>60대</th>\n",
       "      <th>합계</th>\n",
       "    </tr>\n",
       "  </thead>\n",
       "  <tbody>\n",
       "    <tr>\n",
       "      <th>1</th>\n",
       "      <td>포 곡 읍</td>\n",
       "      <td>4790.0</td>\n",
       "      <td>3919.0</td>\n",
       "      <td>5956.0</td>\n",
       "      <td>5966.0</td>\n",
       "      <td>3928.0</td>\n",
       "      <td>24559.0</td>\n",
       "    </tr>\n",
       "    <tr>\n",
       "      <th>2</th>\n",
       "      <td>모 현 읍</td>\n",
       "      <td>3481.0</td>\n",
       "      <td>3072.0</td>\n",
       "      <td>4519.0</td>\n",
       "      <td>4761.0</td>\n",
       "      <td>3820.0</td>\n",
       "      <td>19653.0</td>\n",
       "    </tr>\n",
       "    <tr>\n",
       "      <th>3</th>\n",
       "      <td>이 동 읍</td>\n",
       "      <td>2175.0</td>\n",
       "      <td>2354.0</td>\n",
       "      <td>3317.0</td>\n",
       "      <td>3715.0</td>\n",
       "      <td>3106.0</td>\n",
       "      <td>14667.0</td>\n",
       "    </tr>\n",
       "  </tbody>\n",
       "</table>\n",
       "</div>"
      ],
      "text/plain": [
       "      행정동명     20대     30대     40대     50대     60대       합계\n",
       "1   포 곡 읍   4790.0  3919.0  5956.0  5966.0  3928.0  24559.0\n",
       "2   모 현 읍   3481.0  3072.0  4519.0  4761.0  3820.0  19653.0\n",
       "3   이 동 읍   2175.0  2354.0  3317.0  3715.0  3106.0  14667.0"
      ]
     },
     "execution_count": 5,
     "metadata": {},
     "output_type": "execute_result"
    }
   ],
   "source": [
    "population.head(3)"
   ]
  },
  {
   "cell_type": "code",
   "execution_count": 6,
   "metadata": {
    "id": "89fJb9_LPDyS"
   },
   "outputs": [],
   "source": [
    "용인시전기차현황 = pd.read_csv(path + 'input/additional_dataset/용인시 전기차 현황.csv', encoding='CP949')"
   ]
  },
  {
   "cell_type": "code",
   "execution_count": 7,
   "metadata": {
    "colab": {
     "base_uri": "https://localhost:8080/",
     "height": 143
    },
    "id": "HlOkYIinP6b5",
    "outputId": "6d11f9f9-3507-4183-90b9-7d1f8be95a91"
   },
   "outputs": [
    {
     "data": {
      "text/html": [
       "<div>\n",
       "<style scoped>\n",
       "    .dataframe tbody tr th:only-of-type {\n",
       "        vertical-align: middle;\n",
       "    }\n",
       "\n",
       "    .dataframe tbody tr th {\n",
       "        vertical-align: top;\n",
       "    }\n",
       "\n",
       "    .dataframe thead th {\n",
       "        text-align: right;\n",
       "    }\n",
       "</style>\n",
       "<table border=\"1\" class=\"dataframe\">\n",
       "  <thead>\n",
       "    <tr style=\"text-align: right;\">\n",
       "      <th></th>\n",
       "      <th>등록연도</th>\n",
       "      <th>시군구명</th>\n",
       "      <th>연료별</th>\n",
       "      <th>용도별</th>\n",
       "      <th>승용차수</th>\n",
       "      <th>승합차수</th>\n",
       "      <th>화물차수</th>\n",
       "      <th>특수차수</th>\n",
       "    </tr>\n",
       "  </thead>\n",
       "  <tbody>\n",
       "    <tr>\n",
       "      <th>0</th>\n",
       "      <td>2021</td>\n",
       "      <td>용인시 처인구</td>\n",
       "      <td>전기</td>\n",
       "      <td>비사업용</td>\n",
       "      <td>673</td>\n",
       "      <td>8</td>\n",
       "      <td>164</td>\n",
       "      <td>0</td>\n",
       "    </tr>\n",
       "    <tr>\n",
       "      <th>1</th>\n",
       "      <td>2021</td>\n",
       "      <td>용인시 처인구</td>\n",
       "      <td>전기</td>\n",
       "      <td>사업용</td>\n",
       "      <td>5</td>\n",
       "      <td>11</td>\n",
       "      <td>79</td>\n",
       "      <td>0</td>\n",
       "    </tr>\n",
       "    <tr>\n",
       "      <th>2</th>\n",
       "      <td>2021</td>\n",
       "      <td>용인시 기흥구</td>\n",
       "      <td>전기</td>\n",
       "      <td>비사업용</td>\n",
       "      <td>1167</td>\n",
       "      <td>6</td>\n",
       "      <td>80</td>\n",
       "      <td>2</td>\n",
       "    </tr>\n",
       "  </tbody>\n",
       "</table>\n",
       "</div>"
      ],
      "text/plain": [
       "   등록연도     시군구명 연료별   용도별  승용차수  승합차수  화물차수  특수차수\n",
       "0  2021  용인시 처인구  전기  비사업용   673     8   164     0\n",
       "1  2021  용인시 처인구  전기   사업용     5    11    79     0\n",
       "2  2021  용인시 기흥구  전기  비사업용  1167     6    80     2"
      ]
     },
     "execution_count": 7,
     "metadata": {},
     "output_type": "execute_result"
    }
   ],
   "source": [
    "용인시전기차현황.head(3)"
   ]
  },
  {
   "cell_type": "markdown",
   "metadata": {
    "id": "YilCZPv6YYLO"
   },
   "source": [
    "### 구별 전기차 보유대수"
   ]
  },
  {
   "cell_type": "code",
   "execution_count": 8,
   "metadata": {
    "id": "LbFn0FroPOUC"
   },
   "outputs": [],
   "source": [
    "구별_전기차_보유대수 = 용인시전기차현황.groupby(['시군구명']).sum().drop('등록연도', axis=1).transpose().sum()"
   ]
  },
  {
   "cell_type": "code",
   "execution_count": 9,
   "metadata": {
    "colab": {
     "base_uri": "https://localhost:8080/"
    },
    "id": "NxoFu1n8QwSK",
    "outputId": "53baae5c-005f-4175-8822-ac766be7479d"
   },
   "outputs": [
    {
     "data": {
      "text/plain": [
       "시군구명\n",
       "용인시 기흥구    2946\n",
       "용인시 수지구    1963\n",
       "용인시 처인구    1826\n",
       "dtype: int64"
      ]
     },
     "execution_count": 9,
     "metadata": {},
     "output_type": "execute_result"
    }
   ],
   "source": [
    "구별_전기차_보유대수"
   ]
  },
  {
   "cell_type": "code",
   "execution_count": 10,
   "metadata": {
    "colab": {
     "base_uri": "https://localhost:8080/",
     "height": 143
    },
    "id": "QgJODxHlRR4e",
    "outputId": "2067e003-e49c-44a3-b76a-3084abed33fa"
   },
   "outputs": [
    {
     "data": {
      "text/html": [
       "<div>\n",
       "<style scoped>\n",
       "    .dataframe tbody tr th:only-of-type {\n",
       "        vertical-align: middle;\n",
       "    }\n",
       "\n",
       "    .dataframe tbody tr th {\n",
       "        vertical-align: top;\n",
       "    }\n",
       "\n",
       "    .dataframe thead th {\n",
       "        text-align: right;\n",
       "    }\n",
       "</style>\n",
       "<table border=\"1\" class=\"dataframe\">\n",
       "  <thead>\n",
       "    <tr style=\"text-align: right;\">\n",
       "      <th></th>\n",
       "      <th>행정동명</th>\n",
       "      <th>20대</th>\n",
       "      <th>30대</th>\n",
       "      <th>40대</th>\n",
       "      <th>50대</th>\n",
       "      <th>60대</th>\n",
       "      <th>합계</th>\n",
       "    </tr>\n",
       "  </thead>\n",
       "  <tbody>\n",
       "    <tr>\n",
       "      <th>1</th>\n",
       "      <td>포 곡 읍</td>\n",
       "      <td>4790.0</td>\n",
       "      <td>3919.0</td>\n",
       "      <td>5956.0</td>\n",
       "      <td>5966.0</td>\n",
       "      <td>3928.0</td>\n",
       "      <td>24559.0</td>\n",
       "    </tr>\n",
       "    <tr>\n",
       "      <th>2</th>\n",
       "      <td>모 현 읍</td>\n",
       "      <td>3481.0</td>\n",
       "      <td>3072.0</td>\n",
       "      <td>4519.0</td>\n",
       "      <td>4761.0</td>\n",
       "      <td>3820.0</td>\n",
       "      <td>19653.0</td>\n",
       "    </tr>\n",
       "    <tr>\n",
       "      <th>3</th>\n",
       "      <td>이 동 읍</td>\n",
       "      <td>2175.0</td>\n",
       "      <td>2354.0</td>\n",
       "      <td>3317.0</td>\n",
       "      <td>3715.0</td>\n",
       "      <td>3106.0</td>\n",
       "      <td>14667.0</td>\n",
       "    </tr>\n",
       "  </tbody>\n",
       "</table>\n",
       "</div>"
      ],
      "text/plain": [
       "      행정동명     20대     30대     40대     50대     60대       합계\n",
       "1   포 곡 읍   4790.0  3919.0  5956.0  5966.0  3928.0  24559.0\n",
       "2   모 현 읍   3481.0  3072.0  4519.0  4761.0  3820.0  19653.0\n",
       "3   이 동 읍   2175.0  2354.0  3317.0  3715.0  3106.0  14667.0"
      ]
     },
     "execution_count": 10,
     "metadata": {},
     "output_type": "execute_result"
    }
   ],
   "source": [
    "population.head(3)"
   ]
  },
  {
   "cell_type": "markdown",
   "metadata": {
    "id": "RJ3m7CL1YfQ5"
   },
   "source": [
    "### 각 행정동별 인구비율"
   ]
  },
  {
   "cell_type": "code",
   "execution_count": 11,
   "metadata": {
    "id": "qPTBFhkAPusp"
   },
   "outputs": [],
   "source": [
    "각_행정동별_인구비율 = population[['행정동명', '합계']]"
   ]
  },
  {
   "cell_type": "code",
   "execution_count": 12,
   "metadata": {
    "colab": {
     "base_uri": "https://localhost:8080/"
    },
    "id": "-l-MysADQ2mP",
    "outputId": "ff48d0ff-9df7-4c7c-f257-30c728bde1c5"
   },
   "outputs": [
    {
     "name": "stderr",
     "output_type": "stream",
     "text": [
      "C:\\Users\\ghrbs\\AppData\\Local\\Temp\\ipykernel_8360\\2707605264.py:1: SettingWithCopyWarning: \n",
      "A value is trying to be set on a copy of a slice from a DataFrame.\n",
      "Try using .loc[row_indexer,col_indexer] = value instead\n",
      "\n",
      "See the caveats in the documentation: https://pandas.pydata.org/pandas-docs/stable/user_guide/indexing.html#returning-a-view-versus-a-copy\n",
      "  각_행정동별_인구비율['소속구'] = np.zeros(len(population)).astype('str')\n"
     ]
    }
   ],
   "source": [
    "각_행정동별_인구비율['소속구'] = np.zeros(len(population)).astype('str')"
   ]
  },
  {
   "cell_type": "code",
   "execution_count": 13,
   "metadata": {
    "colab": {
     "base_uri": "https://localhost:8080/"
    },
    "id": "Pm9Fv5LlRr-6",
    "outputId": "51cd2176-2678-4e41-db59-7a84e381f8b8"
   },
   "outputs": [],
   "source": [
    "각_행정동별_인구비율.iloc[:11, 2] = '처인구'\n",
    "각_행정동별_인구비율.iloc[11:26, 2] = '기흥구'\n",
    "각_행정동별_인구비율.iloc[26:, 2] = '수지구'"
   ]
  },
  {
   "cell_type": "code",
   "execution_count": 14,
   "metadata": {
    "id": "teT28UyWRs2a"
   },
   "outputs": [],
   "source": [
    "처인구_인구 = 각_행정동별_인구비율.loc[각_행정동별_인구비율['소속구'] == '처인구', '합계'].astype('float').sum()\n",
    "기흥구_인구 = 각_행정동별_인구비율.loc[각_행정동별_인구비율['소속구'] == '기흥구', '합계'].astype('float').sum()\n",
    "수지구_인구 = 각_행정동별_인구비율.loc[각_행정동별_인구비율['소속구'] == '수지구', '합계'].astype('float').sum()"
   ]
  },
  {
   "cell_type": "code",
   "execution_count": 15,
   "metadata": {
    "colab": {
     "base_uri": "https://localhost:8080/"
    },
    "id": "ROZ1CkVMTK8T",
    "outputId": "48119f0d-0dc3-4c0f-915e-f89b3615cd46"
   },
   "outputs": [
    {
     "name": "stderr",
     "output_type": "stream",
     "text": [
      "C:\\Users\\ghrbs\\AppData\\Local\\Temp\\ipykernel_8360\\1423480689.py:1: SettingWithCopyWarning: \n",
      "A value is trying to be set on a copy of a slice from a DataFrame.\n",
      "Try using .loc[row_indexer,col_indexer] = value instead\n",
      "\n",
      "See the caveats in the documentation: https://pandas.pydata.org/pandas-docs/stable/user_guide/indexing.html#returning-a-view-versus-a-copy\n",
      "  각_행정동별_인구비율['비율'] = np.zeros(len(population)).astype('float')\n"
     ]
    }
   ],
   "source": [
    "각_행정동별_인구비율['비율'] = np.zeros(len(population)).astype('float')"
   ]
  },
  {
   "cell_type": "code",
   "execution_count": 16,
   "metadata": {
    "id": "IhTjc8E_TA2U"
   },
   "outputs": [],
   "source": [
    "for i in range(len(population)):\n",
    "  if 각_행정동별_인구비율.iloc[i, 2] == '처인구':\n",
    "    각_행정동별_인구비율.iloc[i, 3] =  float(각_행정동별_인구비율.iloc[i, 1]) / 처인구_인구\n",
    "  elif 각_행정동별_인구비율.iloc[i, 2] == '기흥구':\n",
    "    각_행정동별_인구비율.iloc[i, 3] =  float(각_행정동별_인구비율.iloc[i, 1]) / 기흥구_인구\n",
    "  elif 각_행정동별_인구비율.iloc[i, 2] == '수지구':\n",
    "    각_행정동별_인구비율.iloc[i, 3] =  float(각_행정동별_인구비율.iloc[i, 1]) / 수지구_인구"
   ]
  },
  {
   "cell_type": "code",
   "execution_count": 17,
   "metadata": {
    "colab": {
     "base_uri": "https://localhost:8080/",
     "height": 175
    },
    "id": "9xrh0LsQXFbY",
    "outputId": "039cc344-12e8-436b-88c8-31b5be66fd7a"
   },
   "outputs": [
    {
     "data": {
      "text/html": [
       "<div>\n",
       "<style scoped>\n",
       "    .dataframe tbody tr th:only-of-type {\n",
       "        vertical-align: middle;\n",
       "    }\n",
       "\n",
       "    .dataframe tbody tr th {\n",
       "        vertical-align: top;\n",
       "    }\n",
       "\n",
       "    .dataframe thead th {\n",
       "        text-align: right;\n",
       "    }\n",
       "</style>\n",
       "<table border=\"1\" class=\"dataframe\">\n",
       "  <thead>\n",
       "    <tr style=\"text-align: right;\">\n",
       "      <th></th>\n",
       "      <th>비율</th>\n",
       "    </tr>\n",
       "    <tr>\n",
       "      <th>소속구</th>\n",
       "      <th></th>\n",
       "    </tr>\n",
       "  </thead>\n",
       "  <tbody>\n",
       "    <tr>\n",
       "      <th>기흥구</th>\n",
       "      <td>1.0</td>\n",
       "    </tr>\n",
       "    <tr>\n",
       "      <th>수지구</th>\n",
       "      <td>1.0</td>\n",
       "    </tr>\n",
       "    <tr>\n",
       "      <th>처인구</th>\n",
       "      <td>1.0</td>\n",
       "    </tr>\n",
       "  </tbody>\n",
       "</table>\n",
       "</div>"
      ],
      "text/plain": [
       "      비율\n",
       "소속구     \n",
       "기흥구  1.0\n",
       "수지구  1.0\n",
       "처인구  1.0"
      ]
     },
     "execution_count": 17,
     "metadata": {},
     "output_type": "execute_result"
    }
   ],
   "source": [
    "각_행정동별_인구비율.groupby('소속구').sum()[['비율']] # 비율 1.0 확인"
   ]
  },
  {
   "cell_type": "markdown",
   "metadata": {
    "id": "whVPmRB7Ym3i"
   },
   "source": [
    "### 전기차 보유 대수"
   ]
  },
  {
   "cell_type": "code",
   "execution_count": 18,
   "metadata": {
    "colab": {
     "base_uri": "https://localhost:8080/"
    },
    "id": "ey_gynL_WAFJ",
    "outputId": "ed44655c-a3fc-45a0-c171-e756bbb38a81"
   },
   "outputs": [
    {
     "name": "stderr",
     "output_type": "stream",
     "text": [
      "C:\\Users\\ghrbs\\AppData\\Local\\Temp\\ipykernel_8360\\552847414.py:1: SettingWithCopyWarning: \n",
      "A value is trying to be set on a copy of a slice from a DataFrame.\n",
      "Try using .loc[row_indexer,col_indexer] = value instead\n",
      "\n",
      "See the caveats in the documentation: https://pandas.pydata.org/pandas-docs/stable/user_guide/indexing.html#returning-a-view-versus-a-copy\n",
      "  각_행정동별_인구비율['전기차보유대수'] = np.zeros(len(population)).astype('str')\n"
     ]
    }
   ],
   "source": [
    "각_행정동별_인구비율['전기차보유대수'] = np.zeros(len(population)).astype('str')"
   ]
  },
  {
   "cell_type": "code",
   "execution_count": 19,
   "metadata": {
    "colab": {
     "base_uri": "https://localhost:8080/"
    },
    "id": "mfS3IDqWUKqt",
    "outputId": "0126b97b-e784-4234-d966-907c2d09afce"
   },
   "outputs": [],
   "source": [
    "for i in range(len(population)):\n",
    "  if 각_행정동별_인구비율.iloc[0, 2] == '처인구':\n",
    "    각_행정동별_인구비율.iloc[i, 4] =  각_행정동별_인구비율.iloc[i, 3] * 구별_전기차_보유대수[2]\n",
    "  elif 각_행정동별_인구비율.iloc[0, 2] == '기흥구':\n",
    "    각_행정동별_인구비율.iloc[i, 4] =  각_행정동별_인구비율.iloc[i, 3] * 구별_전기차_보유대수[0]\n",
    "  elif 각_행정동별_인구비율.iloc[0, 2] == '수지구':\n",
    "    각_행정동별_인구비율.iloc[i, 4] =  각_행정동별_인구비율.iloc[i, 3] * 구별_전기차_보유대수[1]"
   ]
  },
  {
   "cell_type": "code",
   "execution_count": 20,
   "metadata": {
    "id": "hkaJ6YeRWh3m"
   },
   "outputs": [],
   "source": [
    "전기차보유대수 = 각_행정동별_인구비율[['행정동명','전기차보유대수']]"
   ]
  },
  {
   "cell_type": "code",
   "execution_count": 21,
   "metadata": {
    "colab": {
     "base_uri": "https://localhost:8080/",
     "height": 1000
    },
    "id": "mqtoAVQnYyU0",
    "outputId": "fdf0993a-2925-46ba-bd76-36662dcd2a38"
   },
   "outputs": [
    {
     "data": {
      "text/html": [
       "<div>\n",
       "<style scoped>\n",
       "    .dataframe tbody tr th:only-of-type {\n",
       "        vertical-align: middle;\n",
       "    }\n",
       "\n",
       "    .dataframe tbody tr th {\n",
       "        vertical-align: top;\n",
       "    }\n",
       "\n",
       "    .dataframe thead th {\n",
       "        text-align: right;\n",
       "    }\n",
       "</style>\n",
       "<table border=\"1\" class=\"dataframe\">\n",
       "  <thead>\n",
       "    <tr style=\"text-align: right;\">\n",
       "      <th></th>\n",
       "      <th>행정동명</th>\n",
       "      <th>전기차보유대수</th>\n",
       "    </tr>\n",
       "  </thead>\n",
       "  <tbody>\n",
       "    <tr>\n",
       "      <th>1</th>\n",
       "      <td>포 곡 읍</td>\n",
       "      <td>237.300092</td>\n",
       "    </tr>\n",
       "    <tr>\n",
       "      <th>2</th>\n",
       "      <td>모 현 읍</td>\n",
       "      <td>189.896115</td>\n",
       "    </tr>\n",
       "    <tr>\n",
       "      <th>3</th>\n",
       "      <td>이 동 읍</td>\n",
       "      <td>141.719143</td>\n",
       "    </tr>\n",
       "    <tr>\n",
       "      <th>4</th>\n",
       "      <td>남 사 읍</td>\n",
       "      <td>158.010033</td>\n",
       "    </tr>\n",
       "    <tr>\n",
       "      <th>5</th>\n",
       "      <td>원 삼 면</td>\n",
       "      <td>56.660603</td>\n",
       "    </tr>\n",
       "    <tr>\n",
       "      <th>6</th>\n",
       "      <td>백 암 면</td>\n",
       "      <td>58.786341</td>\n",
       "    </tr>\n",
       "    <tr>\n",
       "      <th>7</th>\n",
       "      <td>양 지 면</td>\n",
       "      <td>137.979776</td>\n",
       "    </tr>\n",
       "    <tr>\n",
       "      <th>8</th>\n",
       "      <td>중 앙 동</td>\n",
       "      <td>182.37873</td>\n",
       "    </tr>\n",
       "    <tr>\n",
       "      <th>9</th>\n",
       "      <td>역 삼 동</td>\n",
       "      <td>316.6288</td>\n",
       "    </tr>\n",
       "    <tr>\n",
       "      <th>10</th>\n",
       "      <td>유 림 동</td>\n",
       "      <td>251.600516</td>\n",
       "    </tr>\n",
       "    <tr>\n",
       "      <th>11</th>\n",
       "      <td>동 부 동</td>\n",
       "      <td>95.039851</td>\n",
       "    </tr>\n",
       "    <tr>\n",
       "      <th>12</th>\n",
       "      <td>신 갈 동</td>\n",
       "      <td>165.716311</td>\n",
       "    </tr>\n",
       "    <tr>\n",
       "      <th>13</th>\n",
       "      <td>영덕1동</td>\n",
       "      <td>129.779332</td>\n",
       "    </tr>\n",
       "    <tr>\n",
       "      <th>14</th>\n",
       "      <td>영덕2동</td>\n",
       "      <td>76.658449</td>\n",
       "    </tr>\n",
       "    <tr>\n",
       "      <th>15</th>\n",
       "      <td>구 갈 동</td>\n",
       "      <td>187.672864</td>\n",
       "    </tr>\n",
       "    <tr>\n",
       "      <th>16</th>\n",
       "      <td>상 갈 동</td>\n",
       "      <td>58.118545</td>\n",
       "    </tr>\n",
       "    <tr>\n",
       "      <th>17</th>\n",
       "      <td>보 라 동</td>\n",
       "      <td>136.15668</td>\n",
       "    </tr>\n",
       "    <tr>\n",
       "      <th>18</th>\n",
       "      <td>기 흥 동</td>\n",
       "      <td>91.959348</td>\n",
       "    </tr>\n",
       "    <tr>\n",
       "      <th>19</th>\n",
       "      <td>서 농 동</td>\n",
       "      <td>114.744897</td>\n",
       "    </tr>\n",
       "    <tr>\n",
       "      <th>20</th>\n",
       "      <td>구 성 동</td>\n",
       "      <td>156.271677</td>\n",
       "    </tr>\n",
       "    <tr>\n",
       "      <th>21</th>\n",
       "      <td>마 북 동</td>\n",
       "      <td>132.526862</td>\n",
       "    </tr>\n",
       "    <tr>\n",
       "      <th>22</th>\n",
       "      <td>동백1동</td>\n",
       "      <td>129.021393</td>\n",
       "    </tr>\n",
       "    <tr>\n",
       "      <th>23</th>\n",
       "      <td>동백2동</td>\n",
       "      <td>107.958972</td>\n",
       "    </tr>\n",
       "    <tr>\n",
       "      <th>24</th>\n",
       "      <td>동백3동</td>\n",
       "      <td>88.714421</td>\n",
       "    </tr>\n",
       "    <tr>\n",
       "      <th>25</th>\n",
       "      <td>상 하 동</td>\n",
       "      <td>105.939774</td>\n",
       "    </tr>\n",
       "    <tr>\n",
       "      <th>26</th>\n",
       "      <td>보 정 동</td>\n",
       "      <td>144.760475</td>\n",
       "    </tr>\n",
       "    <tr>\n",
       "      <th>27</th>\n",
       "      <td>풍 덕 천 1 동</td>\n",
       "      <td>187.309119</td>\n",
       "    </tr>\n",
       "    <tr>\n",
       "      <th>28</th>\n",
       "      <td>풍 덕 천 2 동</td>\n",
       "      <td>197.760622</td>\n",
       "    </tr>\n",
       "    <tr>\n",
       "      <th>29</th>\n",
       "      <td>신 봉 동</td>\n",
       "      <td>176.326302</td>\n",
       "    </tr>\n",
       "    <tr>\n",
       "      <th>30</th>\n",
       "      <td>죽 전 1 동</td>\n",
       "      <td>278.191758</td>\n",
       "    </tr>\n",
       "    <tr>\n",
       "      <th>31</th>\n",
       "      <td>죽 전 2 동</td>\n",
       "      <td>95.657473</td>\n",
       "    </tr>\n",
       "    <tr>\n",
       "      <th>32</th>\n",
       "      <td>동 천 동</td>\n",
       "      <td>243.642373</td>\n",
       "    </tr>\n",
       "    <tr>\n",
       "      <th>33</th>\n",
       "      <td>상 현 1 동</td>\n",
       "      <td>235.155333</td>\n",
       "    </tr>\n",
       "    <tr>\n",
       "      <th>34</th>\n",
       "      <td>상 현 2 동</td>\n",
       "      <td>158.55525</td>\n",
       "    </tr>\n",
       "    <tr>\n",
       "      <th>35</th>\n",
       "      <td>성 복 동</td>\n",
       "      <td>253.40177</td>\n",
       "    </tr>\n",
       "  </tbody>\n",
       "</table>\n",
       "</div>"
      ],
      "text/plain": [
       "           행정동명     전기차보유대수\n",
       "1        포 곡 읍   237.300092\n",
       "2        모 현 읍   189.896115\n",
       "3        이 동 읍   141.719143\n",
       "4        남 사 읍   158.010033\n",
       "5        원 삼 면    56.660603\n",
       "6        백 암 면    58.786341\n",
       "7        양 지 면   137.979776\n",
       "8        중 앙 동    182.37873\n",
       "9        역 삼 동     316.6288\n",
       "10       유 림 동   251.600516\n",
       "11       동 부 동    95.039851\n",
       "12       신 갈 동   165.716311\n",
       "13        영덕1동   129.779332\n",
       "14        영덕2동    76.658449\n",
       "15       구 갈 동   187.672864\n",
       "16       상 갈 동    58.118545\n",
       "17       보 라 동    136.15668\n",
       "18       기 흥 동    91.959348\n",
       "19       서 농 동   114.744897\n",
       "20       구 성 동   156.271677\n",
       "21       마 북 동   132.526862\n",
       "22        동백1동   129.021393\n",
       "23        동백2동   107.958972\n",
       "24        동백3동    88.714421\n",
       "25       상 하 동   105.939774\n",
       "26       보 정 동   144.760475\n",
       "27   풍 덕 천 1 동   187.309119\n",
       "28   풍 덕 천 2 동   197.760622\n",
       "29       신 봉 동   176.326302\n",
       "30     죽 전 1 동   278.191758\n",
       "31     죽 전 2 동    95.657473\n",
       "32       동 천 동   243.642373\n",
       "33     상 현 1 동   235.155333\n",
       "34     상 현 2 동    158.55525\n",
       "35       성 복 동    253.40177"
      ]
     },
     "execution_count": 21,
     "metadata": {},
     "output_type": "execute_result"
    }
   ],
   "source": [
    "전기차보유대수"
   ]
  },
  {
   "cell_type": "markdown",
   "metadata": {
    "id": "Swi3IegdY_PK"
   },
   "source": [
    "## 앱 실행 횟수\n",
    "주최측에서 제공한 앱 실행 횟수 행정동별"
   ]
  },
  {
   "cell_type": "markdown",
   "metadata": {
    "id": "j8XqWPEPZXp5"
   },
   "source": [
    "### 데이터 준비 및 앱 실행 횟수 추출"
   ]
  },
  {
   "cell_type": "code",
   "execution_count": 22,
   "metadata": {
    "id": "yblpCj2BZW-v"
   },
   "outputs": [],
   "source": [
    "ev_app_resident = pd.read_csv(path + 'input/basic_dataset/1.ev_app_resident.csv',index_col= 'adng_nm')\n",
    "ev_app_activity = pd.read_csv(path + 'input/basic_dataset/2.ev_app_activity.csv',index_col= 'adng_nm')\n",
    "ev_app_res_act = pd.read_csv(path + 'input/basic_dataset/3.ev_app_activity_resident.csv',index_col= 'adng_nm')\n"
   ]
  },
  {
   "cell_type": "code",
   "execution_count": 23,
   "metadata": {
    "colab": {
     "base_uri": "https://localhost:8080/",
     "height": 259
    },
    "id": "QiIFYiezaP5F",
    "outputId": "694d2be6-bb61-498c-8504-e046d4345ad4"
   },
   "outputs": [
    {
     "data": {
      "text/html": [
       "<div>\n",
       "<style scoped>\n",
       "    .dataframe tbody tr th:only-of-type {\n",
       "        vertical-align: middle;\n",
       "    }\n",
       "\n",
       "    .dataframe tbody tr th {\n",
       "        vertical-align: top;\n",
       "    }\n",
       "\n",
       "    .dataframe thead th {\n",
       "        text-align: right;\n",
       "    }\n",
       "</style>\n",
       "<table border=\"1\" class=\"dataframe\">\n",
       "  <thead>\n",
       "    <tr style=\"text-align: right;\">\n",
       "      <th></th>\n",
       "      <th>base_dt</th>\n",
       "      <th>dow</th>\n",
       "      <th>ccw_cd</th>\n",
       "      <th>ccw_nm</th>\n",
       "      <th>adng_cd</th>\n",
       "      <th>cell_id</th>\n",
       "      <th>cell_xcrd</th>\n",
       "      <th>cell_ycrd</th>\n",
       "      <th>gender</th>\n",
       "      <th>age</th>\n",
       "      <th>app_web</th>\n",
       "      <th>time_zone</th>\n",
       "      <th>count_cust</th>\n",
       "    </tr>\n",
       "    <tr>\n",
       "      <th>adng_nm</th>\n",
       "      <th></th>\n",
       "      <th></th>\n",
       "      <th></th>\n",
       "      <th></th>\n",
       "      <th></th>\n",
       "      <th></th>\n",
       "      <th></th>\n",
       "      <th></th>\n",
       "      <th></th>\n",
       "      <th></th>\n",
       "      <th></th>\n",
       "      <th></th>\n",
       "      <th></th>\n",
       "    </tr>\n",
       "  </thead>\n",
       "  <tbody>\n",
       "    <tr>\n",
       "      <th>동백1동</th>\n",
       "      <td>20220605</td>\n",
       "      <td>7</td>\n",
       "      <td>4146</td>\n",
       "      <td>용인시</td>\n",
       "      <td>41463572</td>\n",
       "      <td>86135034</td>\n",
       "      <td>127.15225</td>\n",
       "      <td>37.286300</td>\n",
       "      <td>MALE</td>\n",
       "      <td>6</td>\n",
       "      <td>EV라운지</td>\n",
       "      <td>5</td>\n",
       "      <td>3.522</td>\n",
       "    </tr>\n",
       "    <tr>\n",
       "      <th>상현2동</th>\n",
       "      <td>20220625</td>\n",
       "      <td>6</td>\n",
       "      <td>4146</td>\n",
       "      <td>용인시</td>\n",
       "      <td>41465580</td>\n",
       "      <td>84375196</td>\n",
       "      <td>127.09008</td>\n",
       "      <td>37.309536</td>\n",
       "      <td>MALE</td>\n",
       "      <td>8</td>\n",
       "      <td>파워큐브차저</td>\n",
       "      <td>2</td>\n",
       "      <td>4.231</td>\n",
       "    </tr>\n",
       "    <tr>\n",
       "      <th>포곡읍</th>\n",
       "      <td>20220614</td>\n",
       "      <td>2</td>\n",
       "      <td>4146</td>\n",
       "      <td>용인시</td>\n",
       "      <td>41461250</td>\n",
       "      <td>87958893</td>\n",
       "      <td>127.21660</td>\n",
       "      <td>37.274303</td>\n",
       "      <td>FEMALE</td>\n",
       "      <td>14</td>\n",
       "      <td>EV라운지</td>\n",
       "      <td>1</td>\n",
       "      <td>18.440</td>\n",
       "    </tr>\n",
       "  </tbody>\n",
       "</table>\n",
       "</div>"
      ],
      "text/plain": [
       "          base_dt  dow  ccw_cd ccw_nm   adng_cd   cell_id  cell_xcrd  \\\n",
       "adng_nm                                                                \n",
       "동백1동     20220605    7    4146    용인시  41463572  86135034  127.15225   \n",
       "상현2동     20220625    6    4146    용인시  41465580  84375196  127.09008   \n",
       "포곡읍      20220614    2    4146    용인시  41461250  87958893  127.21660   \n",
       "\n",
       "         cell_ycrd  gender  age app_web  time_zone  count_cust  \n",
       "adng_nm                                                         \n",
       "동백1동     37.286300    MALE    6   EV라운지          5       3.522  \n",
       "상현2동     37.309536    MALE    8  파워큐브차저          2       4.231  \n",
       "포곡읍      37.274303  FEMALE   14   EV라운지          1      18.440  "
      ]
     },
     "execution_count": 23,
     "metadata": {},
     "output_type": "execute_result"
    }
   ],
   "source": [
    "ev_app_resident.head(3)"
   ]
  },
  {
   "cell_type": "code",
   "execution_count": 24,
   "metadata": {},
   "outputs": [],
   "source": [
    "def mk_yg(df): ## 앱실행 횟수 모음. 출퇴근 인구는 어떻게 처리할지?\n",
    "    \n",
    "    res = df.groupby(['adng_cd','adng_nm'])['count_cust'].sum()\n",
    "    \n",
    "    return res\n",
    "\n",
    "youngin_grpsum = mk_yg(ev_app_resident) + mk_yg(ev_app_activity) + mk_yg(ev_app_res_act)\n"
   ]
  },
  {
   "cell_type": "code",
   "execution_count": 25,
   "metadata": {
    "id": "7FiKsf6FaWln"
   },
   "outputs": [],
   "source": [
    "앱_실행횟수 = youngin_grpsum.dropna().reset_index('adng_cd', drop = True)"
   ]
  },
  {
   "cell_type": "code",
   "execution_count": 26,
   "metadata": {},
   "outputs": [
    {
     "data": {
      "text/plain": [
       "adng_nm\n",
       "포곡읍      174709.500\n",
       "모현읍      211024.667\n",
       "이동읍      109545.813\n",
       "남사읍      111499.821\n",
       "원삼면       63443.768\n",
       "백암면       58894.798\n",
       "양지면      126887.785\n",
       "중앙동      124839.211\n",
       "역삼동      202547.301\n",
       "유림동      161186.934\n",
       "동부동       55707.073\n",
       "신갈동      165625.389\n",
       "영덕1동     117024.401\n",
       "영덕2동      95938.307\n",
       "구갈동      179094.734\n",
       "상갈동       68781.708\n",
       "보라동      161567.101\n",
       "기흥동      115037.381\n",
       "서농동      188312.758\n",
       "구성동      158002.803\n",
       "마북동      160330.041\n",
       "동백1동     124116.391\n",
       "동백2동     117741.602\n",
       "동백3동      97960.706\n",
       "상하동      118176.184\n",
       "보정동      153606.207\n",
       "풍덕천1동    158623.485\n",
       "풍덕천2동    162461.404\n",
       "신봉동      167319.852\n",
       "죽전1동     237053.068\n",
       "죽전2동      97787.665\n",
       "동천동      198188.099\n",
       "상현1동     179015.895\n",
       "상현2동     123973.502\n",
       "성복동      226055.743\n",
       "Name: count_cust, dtype: float64"
      ]
     },
     "execution_count": 26,
     "metadata": {},
     "output_type": "execute_result"
    }
   ],
   "source": [
    "앱_실행횟수"
   ]
  },
  {
   "cell_type": "code",
   "execution_count": 27,
   "metadata": {
    "id": "mHyMBDH-cCnV"
   },
   "outputs": [],
   "source": [
    "앱_실행횟수 = pd.DataFrame(앱_실행횟수)"
   ]
  },
  {
   "cell_type": "code",
   "execution_count": 28,
   "metadata": {},
   "outputs": [
    {
     "data": {
      "text/html": [
       "<div>\n",
       "<style scoped>\n",
       "    .dataframe tbody tr th:only-of-type {\n",
       "        vertical-align: middle;\n",
       "    }\n",
       "\n",
       "    .dataframe tbody tr th {\n",
       "        vertical-align: top;\n",
       "    }\n",
       "\n",
       "    .dataframe thead th {\n",
       "        text-align: right;\n",
       "    }\n",
       "</style>\n",
       "<table border=\"1\" class=\"dataframe\">\n",
       "  <thead>\n",
       "    <tr style=\"text-align: right;\">\n",
       "      <th></th>\n",
       "      <th>count_cust</th>\n",
       "    </tr>\n",
       "    <tr>\n",
       "      <th>adng_nm</th>\n",
       "      <th></th>\n",
       "    </tr>\n",
       "  </thead>\n",
       "  <tbody>\n",
       "    <tr>\n",
       "      <th>포곡읍</th>\n",
       "      <td>174709.500</td>\n",
       "    </tr>\n",
       "    <tr>\n",
       "      <th>모현읍</th>\n",
       "      <td>211024.667</td>\n",
       "    </tr>\n",
       "    <tr>\n",
       "      <th>이동읍</th>\n",
       "      <td>109545.813</td>\n",
       "    </tr>\n",
       "    <tr>\n",
       "      <th>남사읍</th>\n",
       "      <td>111499.821</td>\n",
       "    </tr>\n",
       "    <tr>\n",
       "      <th>원삼면</th>\n",
       "      <td>63443.768</td>\n",
       "    </tr>\n",
       "    <tr>\n",
       "      <th>백암면</th>\n",
       "      <td>58894.798</td>\n",
       "    </tr>\n",
       "    <tr>\n",
       "      <th>양지면</th>\n",
       "      <td>126887.785</td>\n",
       "    </tr>\n",
       "    <tr>\n",
       "      <th>중앙동</th>\n",
       "      <td>124839.211</td>\n",
       "    </tr>\n",
       "    <tr>\n",
       "      <th>역삼동</th>\n",
       "      <td>202547.301</td>\n",
       "    </tr>\n",
       "    <tr>\n",
       "      <th>유림동</th>\n",
       "      <td>161186.934</td>\n",
       "    </tr>\n",
       "    <tr>\n",
       "      <th>동부동</th>\n",
       "      <td>55707.073</td>\n",
       "    </tr>\n",
       "    <tr>\n",
       "      <th>신갈동</th>\n",
       "      <td>165625.389</td>\n",
       "    </tr>\n",
       "    <tr>\n",
       "      <th>영덕1동</th>\n",
       "      <td>117024.401</td>\n",
       "    </tr>\n",
       "    <tr>\n",
       "      <th>영덕2동</th>\n",
       "      <td>95938.307</td>\n",
       "    </tr>\n",
       "    <tr>\n",
       "      <th>구갈동</th>\n",
       "      <td>179094.734</td>\n",
       "    </tr>\n",
       "    <tr>\n",
       "      <th>상갈동</th>\n",
       "      <td>68781.708</td>\n",
       "    </tr>\n",
       "    <tr>\n",
       "      <th>보라동</th>\n",
       "      <td>161567.101</td>\n",
       "    </tr>\n",
       "    <tr>\n",
       "      <th>기흥동</th>\n",
       "      <td>115037.381</td>\n",
       "    </tr>\n",
       "    <tr>\n",
       "      <th>서농동</th>\n",
       "      <td>188312.758</td>\n",
       "    </tr>\n",
       "    <tr>\n",
       "      <th>구성동</th>\n",
       "      <td>158002.803</td>\n",
       "    </tr>\n",
       "    <tr>\n",
       "      <th>마북동</th>\n",
       "      <td>160330.041</td>\n",
       "    </tr>\n",
       "    <tr>\n",
       "      <th>동백1동</th>\n",
       "      <td>124116.391</td>\n",
       "    </tr>\n",
       "    <tr>\n",
       "      <th>동백2동</th>\n",
       "      <td>117741.602</td>\n",
       "    </tr>\n",
       "    <tr>\n",
       "      <th>동백3동</th>\n",
       "      <td>97960.706</td>\n",
       "    </tr>\n",
       "    <tr>\n",
       "      <th>상하동</th>\n",
       "      <td>118176.184</td>\n",
       "    </tr>\n",
       "    <tr>\n",
       "      <th>보정동</th>\n",
       "      <td>153606.207</td>\n",
       "    </tr>\n",
       "    <tr>\n",
       "      <th>풍덕천1동</th>\n",
       "      <td>158623.485</td>\n",
       "    </tr>\n",
       "    <tr>\n",
       "      <th>풍덕천2동</th>\n",
       "      <td>162461.404</td>\n",
       "    </tr>\n",
       "    <tr>\n",
       "      <th>신봉동</th>\n",
       "      <td>167319.852</td>\n",
       "    </tr>\n",
       "    <tr>\n",
       "      <th>죽전1동</th>\n",
       "      <td>237053.068</td>\n",
       "    </tr>\n",
       "    <tr>\n",
       "      <th>죽전2동</th>\n",
       "      <td>97787.665</td>\n",
       "    </tr>\n",
       "    <tr>\n",
       "      <th>동천동</th>\n",
       "      <td>198188.099</td>\n",
       "    </tr>\n",
       "    <tr>\n",
       "      <th>상현1동</th>\n",
       "      <td>179015.895</td>\n",
       "    </tr>\n",
       "    <tr>\n",
       "      <th>상현2동</th>\n",
       "      <td>123973.502</td>\n",
       "    </tr>\n",
       "    <tr>\n",
       "      <th>성복동</th>\n",
       "      <td>226055.743</td>\n",
       "    </tr>\n",
       "  </tbody>\n",
       "</table>\n",
       "</div>"
      ],
      "text/plain": [
       "         count_cust\n",
       "adng_nm            \n",
       "포곡읍      174709.500\n",
       "모현읍      211024.667\n",
       "이동읍      109545.813\n",
       "남사읍      111499.821\n",
       "원삼면       63443.768\n",
       "백암면       58894.798\n",
       "양지면      126887.785\n",
       "중앙동      124839.211\n",
       "역삼동      202547.301\n",
       "유림동      161186.934\n",
       "동부동       55707.073\n",
       "신갈동      165625.389\n",
       "영덕1동     117024.401\n",
       "영덕2동      95938.307\n",
       "구갈동      179094.734\n",
       "상갈동       68781.708\n",
       "보라동      161567.101\n",
       "기흥동      115037.381\n",
       "서농동      188312.758\n",
       "구성동      158002.803\n",
       "마북동      160330.041\n",
       "동백1동     124116.391\n",
       "동백2동     117741.602\n",
       "동백3동      97960.706\n",
       "상하동      118176.184\n",
       "보정동      153606.207\n",
       "풍덕천1동    158623.485\n",
       "풍덕천2동    162461.404\n",
       "신봉동      167319.852\n",
       "죽전1동     237053.068\n",
       "죽전2동      97787.665\n",
       "동천동      198188.099\n",
       "상현1동     179015.895\n",
       "상현2동     123973.502\n",
       "성복동      226055.743"
      ]
     },
     "execution_count": 28,
     "metadata": {},
     "output_type": "execute_result"
    }
   ],
   "source": [
    "앱_실행횟수"
   ]
  },
  {
   "cell_type": "code",
   "execution_count": 29,
   "metadata": {
    "id": "pi4ZYcKBcMBz"
   },
   "outputs": [],
   "source": [
    "앱_실행횟수['행정동명'] = 앱_실행횟수.index"
   ]
  },
  {
   "cell_type": "code",
   "execution_count": 30,
   "metadata": {
    "id": "jG_doQCYaTZ4"
   },
   "outputs": [],
   "source": [
    "앱_실행횟수.reset_index(inplace=True)"
   ]
  },
  {
   "cell_type": "code",
   "execution_count": 31,
   "metadata": {
    "id": "FRZxQez9cXac"
   },
   "outputs": [],
   "source": [
    "앱_실행횟수.drop('adng_nm', axis=1, inplace=True)"
   ]
  },
  {
   "cell_type": "code",
   "execution_count": 32,
   "metadata": {
    "id": "euxLLVXrclJl"
   },
   "outputs": [],
   "source": [
    "앱_실행횟수.columns = ['앱_실행횟수', '행정동명']"
   ]
  },
  {
   "cell_type": "markdown",
   "metadata": {
    "id": "uZ85D5jIa5Lb"
   },
   "source": [
    "## 행정동별 인구"
   ]
  },
  {
   "cell_type": "code",
   "execution_count": 33,
   "metadata": {
    "id": "aN0pliR8a1_g"
   },
   "outputs": [],
   "source": [
    "행정동별_인구 = population[['행정동명', '합계']]"
   ]
  },
  {
   "cell_type": "code",
   "execution_count": 34,
   "metadata": {
    "id": "CdQL5RU2dXos"
   },
   "outputs": [],
   "source": [
    "행정동별_인구.columns = ['행정동명', '행정동별_인구']"
   ]
  },
  {
   "cell_type": "code",
   "execution_count": 35,
   "metadata": {
    "colab": {
     "base_uri": "https://localhost:8080/"
    },
    "id": "BCFaPbryer6r",
    "outputId": "153e0f6a-bb30-45d1-d0fd-a8163ac2bdf3"
   },
   "outputs": [
    {
     "name": "stderr",
     "output_type": "stream",
     "text": [
      "C:\\Users\\ghrbs\\AppData\\Local\\Temp\\ipykernel_8360\\2832515968.py:1: SettingWithCopyWarning: \n",
      "A value is trying to be set on a copy of a slice from a DataFrame.\n",
      "Try using .loc[row_indexer,col_indexer] = value instead\n",
      "\n",
      "See the caveats in the documentation: https://pandas.pydata.org/pandas-docs/stable/user_guide/indexing.html#returning-a-view-versus-a-copy\n",
      "  행정동별_인구['행정동별_인구'] = 행정동별_인구['행정동별_인구'].astype('float')\n"
     ]
    }
   ],
   "source": [
    "행정동별_인구['행정동별_인구'] = 행정동별_인구['행정동별_인구'].astype('float')"
   ]
  },
  {
   "cell_type": "code",
   "execution_count": 36,
   "metadata": {
    "colab": {
     "base_uri": "https://localhost:8080/",
     "height": 143
    },
    "id": "UdeBbtuNa_9v",
    "outputId": "67d81084-0d21-49da-8145-03b2944fadaf"
   },
   "outputs": [
    {
     "data": {
      "text/html": [
       "<div>\n",
       "<style scoped>\n",
       "    .dataframe tbody tr th:only-of-type {\n",
       "        vertical-align: middle;\n",
       "    }\n",
       "\n",
       "    .dataframe tbody tr th {\n",
       "        vertical-align: top;\n",
       "    }\n",
       "\n",
       "    .dataframe thead th {\n",
       "        text-align: right;\n",
       "    }\n",
       "</style>\n",
       "<table border=\"1\" class=\"dataframe\">\n",
       "  <thead>\n",
       "    <tr style=\"text-align: right;\">\n",
       "      <th></th>\n",
       "      <th>행정동명</th>\n",
       "      <th>행정동별_인구</th>\n",
       "    </tr>\n",
       "  </thead>\n",
       "  <tbody>\n",
       "    <tr>\n",
       "      <th>1</th>\n",
       "      <td>포 곡 읍</td>\n",
       "      <td>24559.0</td>\n",
       "    </tr>\n",
       "    <tr>\n",
       "      <th>2</th>\n",
       "      <td>모 현 읍</td>\n",
       "      <td>19653.0</td>\n",
       "    </tr>\n",
       "    <tr>\n",
       "      <th>3</th>\n",
       "      <td>이 동 읍</td>\n",
       "      <td>14667.0</td>\n",
       "    </tr>\n",
       "  </tbody>\n",
       "</table>\n",
       "</div>"
      ],
      "text/plain": [
       "      행정동명  행정동별_인구\n",
       "1   포 곡 읍   24559.0\n",
       "2   모 현 읍   19653.0\n",
       "3   이 동 읍   14667.0"
      ]
     },
     "execution_count": 36,
     "metadata": {},
     "output_type": "execute_result"
    }
   ],
   "source": [
    "행정동별_인구.head(3)"
   ]
  },
  {
   "cell_type": "markdown",
   "metadata": {
    "id": "FruIIctnbZ2M"
   },
   "source": [
    "## BPI"
   ]
  },
  {
   "cell_type": "code",
   "execution_count": 37,
   "metadata": {
    "colab": {
     "base_uri": "https://localhost:8080/"
    },
    "id": "J0peoQhUdDhK",
    "outputId": "55f48928-f347-41ed-ad32-4374176508ac"
   },
   "outputs": [
    {
     "name": "stderr",
     "output_type": "stream",
     "text": [
      "C:\\Users\\ghrbs\\AppData\\Local\\Temp\\ipykernel_8360\\3223635682.py:1: SettingWithCopyWarning: \n",
      "A value is trying to be set on a copy of a slice from a DataFrame.\n",
      "Try using .loc[row_indexer,col_indexer] = value instead\n",
      "\n",
      "See the caveats in the documentation: https://pandas.pydata.org/pandas-docs/stable/user_guide/indexing.html#returning-a-view-versus-a-copy\n",
      "  전기차보유대수['행정동명'] = 전기차보유대수['행정동명'].str.replace(' ','')\n",
      "C:\\Users\\ghrbs\\AppData\\Local\\Temp\\ipykernel_8360\\3223635682.py:2: SettingWithCopyWarning: \n",
      "A value is trying to be set on a copy of a slice from a DataFrame.\n",
      "Try using .loc[row_indexer,col_indexer] = value instead\n",
      "\n",
      "See the caveats in the documentation: https://pandas.pydata.org/pandas-docs/stable/user_guide/indexing.html#returning-a-view-versus-a-copy\n",
      "  전기차보유대수['행정동명'] = 전기차보유대수['행정동명'].str.strip()\n"
     ]
    }
   ],
   "source": [
    "전기차보유대수['행정동명'] = 전기차보유대수['행정동명'].str.replace(' ','')\n",
    "전기차보유대수['행정동명'] = 전기차보유대수['행정동명'].str.strip()"
   ]
  },
  {
   "cell_type": "code",
   "execution_count": 38,
   "metadata": {
    "colab": {
     "base_uri": "https://localhost:8080/"
    },
    "id": "3Hw5p820boyT",
    "outputId": "60c4a400-a858-4a5b-e7a1-7f41512a1155"
   },
   "outputs": [
    {
     "name": "stderr",
     "output_type": "stream",
     "text": [
      "C:\\Users\\ghrbs\\AppData\\Local\\Temp\\ipykernel_8360\\2616555900.py:1: SettingWithCopyWarning: \n",
      "A value is trying to be set on a copy of a slice from a DataFrame.\n",
      "Try using .loc[row_indexer,col_indexer] = value instead\n",
      "\n",
      "See the caveats in the documentation: https://pandas.pydata.org/pandas-docs/stable/user_guide/indexing.html#returning-a-view-versus-a-copy\n",
      "  행정동별_인구['행정동명'] = 행정동별_인구['행정동명'].str.replace(' ','')\n",
      "C:\\Users\\ghrbs\\AppData\\Local\\Temp\\ipykernel_8360\\2616555900.py:2: SettingWithCopyWarning: \n",
      "A value is trying to be set on a copy of a slice from a DataFrame.\n",
      "Try using .loc[row_indexer,col_indexer] = value instead\n",
      "\n",
      "See the caveats in the documentation: https://pandas.pydata.org/pandas-docs/stable/user_guide/indexing.html#returning-a-view-versus-a-copy\n",
      "  행정동별_인구['행정동명'] = 행정동별_인구['행정동명'].str.strip()\n"
     ]
    }
   ],
   "source": [
    "행정동별_인구['행정동명'] = 행정동별_인구['행정동명'].str.replace(' ','')\n",
    "행정동별_인구['행정동명'] = 행정동별_인구['행정동명'].str.strip()"
   ]
  },
  {
   "cell_type": "code",
   "execution_count": 39,
   "metadata": {
    "colab": {
     "base_uri": "https://localhost:8080/",
     "height": 143
    },
    "id": "7K8qLTUbdFn7",
    "outputId": "8c6671f8-991d-4247-e007-367ef5d39134"
   },
   "outputs": [
    {
     "data": {
      "text/html": [
       "<div>\n",
       "<style scoped>\n",
       "    .dataframe tbody tr th:only-of-type {\n",
       "        vertical-align: middle;\n",
       "    }\n",
       "\n",
       "    .dataframe tbody tr th {\n",
       "        vertical-align: top;\n",
       "    }\n",
       "\n",
       "    .dataframe thead th {\n",
       "        text-align: right;\n",
       "    }\n",
       "</style>\n",
       "<table border=\"1\" class=\"dataframe\">\n",
       "  <thead>\n",
       "    <tr style=\"text-align: right;\">\n",
       "      <th></th>\n",
       "      <th>행정동명</th>\n",
       "      <th>전기차보유대수</th>\n",
       "    </tr>\n",
       "  </thead>\n",
       "  <tbody>\n",
       "    <tr>\n",
       "      <th>1</th>\n",
       "      <td>포곡읍</td>\n",
       "      <td>237.300092</td>\n",
       "    </tr>\n",
       "    <tr>\n",
       "      <th>2</th>\n",
       "      <td>모현읍</td>\n",
       "      <td>189.896115</td>\n",
       "    </tr>\n",
       "    <tr>\n",
       "      <th>3</th>\n",
       "      <td>이동읍</td>\n",
       "      <td>141.719143</td>\n",
       "    </tr>\n",
       "  </tbody>\n",
       "</table>\n",
       "</div>"
      ],
      "text/plain": [
       "  행정동명     전기차보유대수\n",
       "1  포곡읍  237.300092\n",
       "2  모현읍  189.896115\n",
       "3  이동읍  141.719143"
      ]
     },
     "execution_count": 39,
     "metadata": {},
     "output_type": "execute_result"
    }
   ],
   "source": [
    "전기차보유대수.head(3) "
   ]
  },
  {
   "cell_type": "code",
   "execution_count": 40,
   "metadata": {
    "colab": {
     "base_uri": "https://localhost:8080/",
     "height": 143
    },
    "id": "uMCCAB3ibl3C",
    "outputId": "ced52115-5e59-435e-adae-de4b86a9919d"
   },
   "outputs": [
    {
     "data": {
      "text/html": [
       "<div>\n",
       "<style scoped>\n",
       "    .dataframe tbody tr th:only-of-type {\n",
       "        vertical-align: middle;\n",
       "    }\n",
       "\n",
       "    .dataframe tbody tr th {\n",
       "        vertical-align: top;\n",
       "    }\n",
       "\n",
       "    .dataframe thead th {\n",
       "        text-align: right;\n",
       "    }\n",
       "</style>\n",
       "<table border=\"1\" class=\"dataframe\">\n",
       "  <thead>\n",
       "    <tr style=\"text-align: right;\">\n",
       "      <th></th>\n",
       "      <th>앱_실행횟수</th>\n",
       "      <th>행정동명</th>\n",
       "    </tr>\n",
       "  </thead>\n",
       "  <tbody>\n",
       "    <tr>\n",
       "      <th>0</th>\n",
       "      <td>174709.500</td>\n",
       "      <td>포곡읍</td>\n",
       "    </tr>\n",
       "    <tr>\n",
       "      <th>1</th>\n",
       "      <td>211024.667</td>\n",
       "      <td>모현읍</td>\n",
       "    </tr>\n",
       "    <tr>\n",
       "      <th>2</th>\n",
       "      <td>109545.813</td>\n",
       "      <td>이동읍</td>\n",
       "    </tr>\n",
       "  </tbody>\n",
       "</table>\n",
       "</div>"
      ],
      "text/plain": [
       "       앱_실행횟수 행정동명\n",
       "0  174709.500  포곡읍\n",
       "1  211024.667  모현읍\n",
       "2  109545.813  이동읍"
      ]
     },
     "execution_count": 40,
     "metadata": {},
     "output_type": "execute_result"
    }
   ],
   "source": [
    "앱_실행횟수.head(3) "
   ]
  },
  {
   "cell_type": "code",
   "execution_count": 41,
   "metadata": {
    "colab": {
     "base_uri": "https://localhost:8080/",
     "height": 143
    },
    "id": "sEAVu8xydLx0",
    "outputId": "2be91a74-7ce3-41ee-e085-4f2d9ece7994"
   },
   "outputs": [
    {
     "data": {
      "text/html": [
       "<div>\n",
       "<style scoped>\n",
       "    .dataframe tbody tr th:only-of-type {\n",
       "        vertical-align: middle;\n",
       "    }\n",
       "\n",
       "    .dataframe tbody tr th {\n",
       "        vertical-align: top;\n",
       "    }\n",
       "\n",
       "    .dataframe thead th {\n",
       "        text-align: right;\n",
       "    }\n",
       "</style>\n",
       "<table border=\"1\" class=\"dataframe\">\n",
       "  <thead>\n",
       "    <tr style=\"text-align: right;\">\n",
       "      <th></th>\n",
       "      <th>행정동명</th>\n",
       "      <th>행정동별_인구</th>\n",
       "    </tr>\n",
       "  </thead>\n",
       "  <tbody>\n",
       "    <tr>\n",
       "      <th>1</th>\n",
       "      <td>포곡읍</td>\n",
       "      <td>24559.0</td>\n",
       "    </tr>\n",
       "    <tr>\n",
       "      <th>2</th>\n",
       "      <td>모현읍</td>\n",
       "      <td>19653.0</td>\n",
       "    </tr>\n",
       "    <tr>\n",
       "      <th>3</th>\n",
       "      <td>이동읍</td>\n",
       "      <td>14667.0</td>\n",
       "    </tr>\n",
       "  </tbody>\n",
       "</table>\n",
       "</div>"
      ],
      "text/plain": [
       "  행정동명  행정동별_인구\n",
       "1  포곡읍  24559.0\n",
       "2  모현읍  19653.0\n",
       "3  이동읍  14667.0"
      ]
     },
     "execution_count": 41,
     "metadata": {},
     "output_type": "execute_result"
    }
   ],
   "source": [
    "행정동별_인구.head(3)"
   ]
  },
  {
   "cell_type": "code",
   "execution_count": 42,
   "metadata": {
    "id": "xWSOGoSHdQRG"
   },
   "outputs": [],
   "source": [
    "df_bpi = pd.merge(전기차보유대수, 앱_실행횟수, on='행정동명')"
   ]
  },
  {
   "cell_type": "code",
   "execution_count": 43,
   "metadata": {
    "id": "4mXM0WbtdkyB"
   },
   "outputs": [],
   "source": [
    "df_bpi = pd.merge(df_bpi, 행정동별_인구, on='행정동명')"
   ]
  },
  {
   "cell_type": "code",
   "execution_count": 44,
   "metadata": {
    "colab": {
     "base_uri": "https://localhost:8080/",
     "height": 1000
    },
    "id": "HhHHJUTgeZkM",
    "outputId": "fe0518da-f433-4201-fe8d-d773deccbfcb"
   },
   "outputs": [
    {
     "data": {
      "text/html": [
       "<div>\n",
       "<style scoped>\n",
       "    .dataframe tbody tr th:only-of-type {\n",
       "        vertical-align: middle;\n",
       "    }\n",
       "\n",
       "    .dataframe tbody tr th {\n",
       "        vertical-align: top;\n",
       "    }\n",
       "\n",
       "    .dataframe thead th {\n",
       "        text-align: right;\n",
       "    }\n",
       "</style>\n",
       "<table border=\"1\" class=\"dataframe\">\n",
       "  <thead>\n",
       "    <tr style=\"text-align: right;\">\n",
       "      <th></th>\n",
       "      <th>행정동명</th>\n",
       "      <th>전기차보유대수</th>\n",
       "      <th>앱_실행횟수</th>\n",
       "      <th>행정동별_인구</th>\n",
       "    </tr>\n",
       "  </thead>\n",
       "  <tbody>\n",
       "    <tr>\n",
       "      <th>0</th>\n",
       "      <td>포곡읍</td>\n",
       "      <td>237.300092</td>\n",
       "      <td>174709.500</td>\n",
       "      <td>24559.0</td>\n",
       "    </tr>\n",
       "    <tr>\n",
       "      <th>1</th>\n",
       "      <td>모현읍</td>\n",
       "      <td>189.896115</td>\n",
       "      <td>211024.667</td>\n",
       "      <td>19653.0</td>\n",
       "    </tr>\n",
       "    <tr>\n",
       "      <th>2</th>\n",
       "      <td>이동읍</td>\n",
       "      <td>141.719143</td>\n",
       "      <td>109545.813</td>\n",
       "      <td>14667.0</td>\n",
       "    </tr>\n",
       "    <tr>\n",
       "      <th>3</th>\n",
       "      <td>남사읍</td>\n",
       "      <td>158.010033</td>\n",
       "      <td>111499.821</td>\n",
       "      <td>16353.0</td>\n",
       "    </tr>\n",
       "    <tr>\n",
       "      <th>4</th>\n",
       "      <td>원삼면</td>\n",
       "      <td>56.660603</td>\n",
       "      <td>63443.768</td>\n",
       "      <td>5864.0</td>\n",
       "    </tr>\n",
       "    <tr>\n",
       "      <th>5</th>\n",
       "      <td>백암면</td>\n",
       "      <td>58.786341</td>\n",
       "      <td>58894.798</td>\n",
       "      <td>6084.0</td>\n",
       "    </tr>\n",
       "    <tr>\n",
       "      <th>6</th>\n",
       "      <td>양지면</td>\n",
       "      <td>137.979776</td>\n",
       "      <td>126887.785</td>\n",
       "      <td>14280.0</td>\n",
       "    </tr>\n",
       "    <tr>\n",
       "      <th>7</th>\n",
       "      <td>중앙동</td>\n",
       "      <td>182.37873</td>\n",
       "      <td>124839.211</td>\n",
       "      <td>18875.0</td>\n",
       "    </tr>\n",
       "    <tr>\n",
       "      <th>8</th>\n",
       "      <td>역삼동</td>\n",
       "      <td>316.6288</td>\n",
       "      <td>202547.301</td>\n",
       "      <td>32769.0</td>\n",
       "    </tr>\n",
       "    <tr>\n",
       "      <th>9</th>\n",
       "      <td>유림동</td>\n",
       "      <td>251.600516</td>\n",
       "      <td>161186.934</td>\n",
       "      <td>26039.0</td>\n",
       "    </tr>\n",
       "    <tr>\n",
       "      <th>10</th>\n",
       "      <td>동부동</td>\n",
       "      <td>95.039851</td>\n",
       "      <td>55707.073</td>\n",
       "      <td>9836.0</td>\n",
       "    </tr>\n",
       "    <tr>\n",
       "      <th>11</th>\n",
       "      <td>신갈동</td>\n",
       "      <td>165.716311</td>\n",
       "      <td>165625.389</td>\n",
       "      <td>27986.0</td>\n",
       "    </tr>\n",
       "    <tr>\n",
       "      <th>12</th>\n",
       "      <td>영덕1동</td>\n",
       "      <td>129.779332</td>\n",
       "      <td>117024.401</td>\n",
       "      <td>21917.0</td>\n",
       "    </tr>\n",
       "    <tr>\n",
       "      <th>13</th>\n",
       "      <td>영덕2동</td>\n",
       "      <td>76.658449</td>\n",
       "      <td>95938.307</td>\n",
       "      <td>12946.0</td>\n",
       "    </tr>\n",
       "    <tr>\n",
       "      <th>14</th>\n",
       "      <td>구갈동</td>\n",
       "      <td>187.672864</td>\n",
       "      <td>179094.734</td>\n",
       "      <td>31694.0</td>\n",
       "    </tr>\n",
       "    <tr>\n",
       "      <th>15</th>\n",
       "      <td>상갈동</td>\n",
       "      <td>58.118545</td>\n",
       "      <td>68781.708</td>\n",
       "      <td>9815.0</td>\n",
       "    </tr>\n",
       "    <tr>\n",
       "      <th>16</th>\n",
       "      <td>보라동</td>\n",
       "      <td>136.15668</td>\n",
       "      <td>161567.101</td>\n",
       "      <td>22994.0</td>\n",
       "    </tr>\n",
       "    <tr>\n",
       "      <th>17</th>\n",
       "      <td>기흥동</td>\n",
       "      <td>91.959348</td>\n",
       "      <td>115037.381</td>\n",
       "      <td>15530.0</td>\n",
       "    </tr>\n",
       "    <tr>\n",
       "      <th>18</th>\n",
       "      <td>서농동</td>\n",
       "      <td>114.744897</td>\n",
       "      <td>188312.758</td>\n",
       "      <td>19378.0</td>\n",
       "    </tr>\n",
       "    <tr>\n",
       "      <th>19</th>\n",
       "      <td>구성동</td>\n",
       "      <td>156.271677</td>\n",
       "      <td>158002.803</td>\n",
       "      <td>26391.0</td>\n",
       "    </tr>\n",
       "    <tr>\n",
       "      <th>20</th>\n",
       "      <td>마북동</td>\n",
       "      <td>132.526862</td>\n",
       "      <td>160330.041</td>\n",
       "      <td>22381.0</td>\n",
       "    </tr>\n",
       "    <tr>\n",
       "      <th>21</th>\n",
       "      <td>동백1동</td>\n",
       "      <td>129.021393</td>\n",
       "      <td>124116.391</td>\n",
       "      <td>21789.0</td>\n",
       "    </tr>\n",
       "    <tr>\n",
       "      <th>22</th>\n",
       "      <td>동백2동</td>\n",
       "      <td>107.958972</td>\n",
       "      <td>117741.602</td>\n",
       "      <td>18232.0</td>\n",
       "    </tr>\n",
       "    <tr>\n",
       "      <th>23</th>\n",
       "      <td>동백3동</td>\n",
       "      <td>88.714421</td>\n",
       "      <td>97960.706</td>\n",
       "      <td>14982.0</td>\n",
       "    </tr>\n",
       "    <tr>\n",
       "      <th>24</th>\n",
       "      <td>상하동</td>\n",
       "      <td>105.939774</td>\n",
       "      <td>118176.184</td>\n",
       "      <td>17891.0</td>\n",
       "    </tr>\n",
       "    <tr>\n",
       "      <th>25</th>\n",
       "      <td>보정동</td>\n",
       "      <td>144.760475</td>\n",
       "      <td>153606.207</td>\n",
       "      <td>24447.0</td>\n",
       "    </tr>\n",
       "    <tr>\n",
       "      <th>26</th>\n",
       "      <td>풍덕천1동</td>\n",
       "      <td>187.309119</td>\n",
       "      <td>158623.485</td>\n",
       "      <td>26793.0</td>\n",
       "    </tr>\n",
       "    <tr>\n",
       "      <th>27</th>\n",
       "      <td>풍덕천2동</td>\n",
       "      <td>197.760622</td>\n",
       "      <td>162461.404</td>\n",
       "      <td>28288.0</td>\n",
       "    </tr>\n",
       "    <tr>\n",
       "      <th>28</th>\n",
       "      <td>신봉동</td>\n",
       "      <td>176.326302</td>\n",
       "      <td>167319.852</td>\n",
       "      <td>25222.0</td>\n",
       "    </tr>\n",
       "    <tr>\n",
       "      <th>29</th>\n",
       "      <td>죽전1동</td>\n",
       "      <td>278.191758</td>\n",
       "      <td>237053.068</td>\n",
       "      <td>39793.0</td>\n",
       "    </tr>\n",
       "    <tr>\n",
       "      <th>30</th>\n",
       "      <td>죽전2동</td>\n",
       "      <td>95.657473</td>\n",
       "      <td>97787.665</td>\n",
       "      <td>13683.0</td>\n",
       "    </tr>\n",
       "    <tr>\n",
       "      <th>31</th>\n",
       "      <td>동천동</td>\n",
       "      <td>243.642373</td>\n",
       "      <td>198188.099</td>\n",
       "      <td>34851.0</td>\n",
       "    </tr>\n",
       "    <tr>\n",
       "      <th>32</th>\n",
       "      <td>상현1동</td>\n",
       "      <td>235.155333</td>\n",
       "      <td>179015.895</td>\n",
       "      <td>33637.0</td>\n",
       "    </tr>\n",
       "    <tr>\n",
       "      <th>33</th>\n",
       "      <td>상현2동</td>\n",
       "      <td>158.55525</td>\n",
       "      <td>123973.502</td>\n",
       "      <td>22680.0</td>\n",
       "    </tr>\n",
       "    <tr>\n",
       "      <th>34</th>\n",
       "      <td>성복동</td>\n",
       "      <td>253.40177</td>\n",
       "      <td>226055.743</td>\n",
       "      <td>36247.0</td>\n",
       "    </tr>\n",
       "  </tbody>\n",
       "</table>\n",
       "</div>"
      ],
      "text/plain": [
       "     행정동명     전기차보유대수      앱_실행횟수  행정동별_인구\n",
       "0     포곡읍  237.300092  174709.500  24559.0\n",
       "1     모현읍  189.896115  211024.667  19653.0\n",
       "2     이동읍  141.719143  109545.813  14667.0\n",
       "3     남사읍  158.010033  111499.821  16353.0\n",
       "4     원삼면   56.660603   63443.768   5864.0\n",
       "5     백암면   58.786341   58894.798   6084.0\n",
       "6     양지면  137.979776  126887.785  14280.0\n",
       "7     중앙동   182.37873  124839.211  18875.0\n",
       "8     역삼동    316.6288  202547.301  32769.0\n",
       "9     유림동  251.600516  161186.934  26039.0\n",
       "10    동부동   95.039851   55707.073   9836.0\n",
       "11    신갈동  165.716311  165625.389  27986.0\n",
       "12   영덕1동  129.779332  117024.401  21917.0\n",
       "13   영덕2동   76.658449   95938.307  12946.0\n",
       "14    구갈동  187.672864  179094.734  31694.0\n",
       "15    상갈동   58.118545   68781.708   9815.0\n",
       "16    보라동   136.15668  161567.101  22994.0\n",
       "17    기흥동   91.959348  115037.381  15530.0\n",
       "18    서농동  114.744897  188312.758  19378.0\n",
       "19    구성동  156.271677  158002.803  26391.0\n",
       "20    마북동  132.526862  160330.041  22381.0\n",
       "21   동백1동  129.021393  124116.391  21789.0\n",
       "22   동백2동  107.958972  117741.602  18232.0\n",
       "23   동백3동   88.714421   97960.706  14982.0\n",
       "24    상하동  105.939774  118176.184  17891.0\n",
       "25    보정동  144.760475  153606.207  24447.0\n",
       "26  풍덕천1동  187.309119  158623.485  26793.0\n",
       "27  풍덕천2동  197.760622  162461.404  28288.0\n",
       "28    신봉동  176.326302  167319.852  25222.0\n",
       "29   죽전1동  278.191758  237053.068  39793.0\n",
       "30   죽전2동   95.657473   97787.665  13683.0\n",
       "31    동천동  243.642373  198188.099  34851.0\n",
       "32   상현1동  235.155333  179015.895  33637.0\n",
       "33   상현2동   158.55525  123973.502  22680.0\n",
       "34    성복동   253.40177  226055.743  36247.0"
      ]
     },
     "execution_count": 44,
     "metadata": {},
     "output_type": "execute_result"
    }
   ],
   "source": [
    "df_bpi"
   ]
  },
  {
   "cell_type": "code",
   "execution_count": 45,
   "metadata": {
    "id": "1aHUHPeHdqUg"
   },
   "outputs": [],
   "source": [
    "df_bpi['전기차보유대수비율'] = df_bpi['전기차보유대수'] / df_bpi['전기차보유대수'].sum()\n",
    "df_bpi['앱실행횟수비율'] = df_bpi['앱_실행횟수'] / df_bpi['앱_실행횟수'].sum()\n",
    "df_bpi['행정동별인구비율'] = df_bpi['행정동별_인구'] / df_bpi['행정동별_인구'].sum()"
   ]
  },
  {
   "cell_type": "code",
   "execution_count": 46,
   "metadata": {
    "id": "E2_DXBwkdumD"
   },
   "outputs": [],
   "source": [
    "df_bpi['bpi'] = 0.5 * df_bpi['전기차보유대수비율'] + 0.3 * df_bpi['앱실행횟수비율'] + 0.2 * df_bpi['행정동별인구비율']"
   ]
  },
  {
   "cell_type": "code",
   "execution_count": 47,
   "metadata": {
    "colab": {
     "base_uri": "https://localhost:8080/"
    },
    "id": "omOo-Pk5e84h",
    "outputId": "4fa3951e-712f-4cae-d2da-b6d95b8dd9d1"
   },
   "outputs": [
    {
     "data": {
      "text/plain": [
       "0     0.038676\n",
       "1     0.035247\n",
       "2     0.023412\n",
       "3     0.025461\n",
       "4     0.010546\n",
       "5     0.010523\n",
       "6     0.024015\n",
       "7     0.029156\n",
       "8     0.049761\n",
       "9     0.039556\n",
       "10    0.014629\n",
       "11    0.032498\n",
       "12    0.024685\n",
       "13    0.016199\n",
       "14    0.036292\n",
       "15    0.012043\n",
       "16    0.028239\n",
       "17    0.019429\n",
       "18    0.026945\n",
       "19    0.030755\n",
       "20    0.027671\n",
       "21     0.02501\n",
       "22    0.021765\n",
       "23    0.017958\n",
       "24    0.021517\n",
       "25    0.028927\n",
       "26    0.033732\n",
       "27    0.035311\n",
       "28     0.03284\n",
       "29    0.050187\n",
       "30    0.018239\n",
       "31    0.043385\n",
       "32    0.041134\n",
       "33    0.027932\n",
       "34    0.046326\n",
       "Name: bpi, dtype: object"
      ]
     },
     "execution_count": 47,
     "metadata": {},
     "output_type": "execute_result"
    }
   ],
   "source": [
    "df_bpi['bpi']"
   ]
  },
  {
   "cell_type": "code",
   "execution_count": 48,
   "metadata": {
    "id": "WZHaarrRe9lx"
   },
   "outputs": [],
   "source": [
    "df_bpi['bpi'].to_csv(path + 'input/additional_dataset/bpi.csv')"
   ]
  },
  {
   "cell_type": "code",
   "execution_count": null,
   "metadata": {},
   "outputs": [],
   "source": []
  },
  {
   "cell_type": "code",
   "execution_count": null,
   "metadata": {},
   "outputs": [],
   "source": []
  }
 ],
 "metadata": {
  "colab": {
   "collapsed_sections": [
    "rzuPaRzBQgzt",
    "GVatswNMQd0Y",
    "YilCZPv6YYLO",
    "RJ3m7CL1YfQ5",
    "whVPmRB7Ym3i",
    "Swi3IegdY_PK",
    "j8XqWPEPZXp5",
    "uZ85D5jIa5Lb"
   ],
   "provenance": []
  },
  "kernelspec": {
   "display_name": "Python 3 (ipykernel)",
   "language": "python",
   "name": "python3"
  },
  "language_info": {
   "codemirror_mode": {
    "name": "ipython",
    "version": 3
   },
   "file_extension": ".py",
   "mimetype": "text/x-python",
   "name": "python",
   "nbconvert_exporter": "python",
   "pygments_lexer": "ipython3",
   "version": "3.9.12"
  },
  "vscode": {
   "interpreter": {
    "hash": "4b5c8ee01240f01b9bad2e9285fe02c5c238b0c96349d8acec3895ccfb68c3d4"
   }
  }
 },
 "nbformat": 4,
 "nbformat_minor": 1
}
