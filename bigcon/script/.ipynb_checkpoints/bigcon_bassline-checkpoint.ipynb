{
 "cells": [
  {
   "cell_type": "code",
   "execution_count": null,
   "metadata": {},
   "outputs": [],
   "source": [
    "#!/usr/bin/env python\n",
    "# coding: utf-8\n",
    "\n",
    "# In[3]:"
   ]
  },
  {
   "cell_type": "code",
   "execution_count": null,
   "metadata": {},
   "outputs": [],
   "source": [
    "import pandas as pd\n",
    "import numpy as np\n",
    "from glob import glob\n",
    "import seaborn as sns\n",
    "import matplotlib.pyplot as plt\n",
    "import geopandas as gpd\n",
    "from sklearn.cluster import KMeans"
   ]
  },
  {
   "cell_type": "code",
   "execution_count": null,
   "metadata": {},
   "outputs": [],
   "source": [
    "# In[4]:\n",
    "\n",
    "\n",
    "import warnings\n",
    "warnings.filterwarnings(action='ignore')"
   ]
  },
  {
   "cell_type": "code",
   "execution_count": null,
   "metadata": {},
   "outputs": [],
   "source": [
    "# In[5]:"
   ]
  },
  {
   "cell_type": "code",
   "execution_count": null,
   "metadata": {},
   "outputs": [],
   "source": [
    "# In[55]:\n",
    "path = 'C:/bigcon/'\n",
    "import sys\n",
    "sys.path.append(path + 'script')\n",
    "from k_table import out, map_, df_res, df_act, df_res_act"
   ]
  },
  {
   "cell_type": "code",
   "execution_count": null,
   "metadata": {},
   "outputs": [],
   "source": [
    "# In[60]:\n",
    "\n",
    "\n",
    "def mk_cnt(df,col): ## 앱실행 횟수 모음. 출퇴근 인구는 어떻게 처리할지?\n",
    "    \n",
    "    res = df.groupby(col)['count_cust'].sum()\n",
    "    \n",
    "    return res\n",
    "\n",
    "groups = ['dow', 'time_zone','adng_nm']\n",
    "df_grpby = []\n",
    "\n",
    "for col in groups:\n",
    "    df_grpby.append(mk_cnt(df_res, col) + mk_cnt(df_act,col))"
   ]
  },
  {
   "cell_type": "code",
   "execution_count": null,
   "metadata": {},
   "outputs": [],
   "source": [
    "# In[61]:\n",
    "\n",
    "\n",
    "sns.set_style('darkgrid')\n",
    "sns.lineplot(data = df_grpby[0]) # 수요일이 제일 많고, 목,금요일 순으로 많음"
   ]
  },
  {
   "cell_type": "code",
   "execution_count": null,
   "metadata": {},
   "outputs": [],
   "source": [
    "# In[25]:\n",
    "\n",
    "sns.set_style('darkgrid')\n",
    "sns.lineplot(data = df_grpby[1]) #time zone 4 압도적으로 많음"
   ]
  },
  {
   "cell_type": "code",
   "execution_count": null,
   "metadata": {},
   "outputs": [],
   "source": [
    "# In[26]:\n",
    "\n",
    "\n",
    "# 상위 10개 동 수요량. 유의미한 차이는 없는듯?\n",
    "df_top10 = df_grpby[2].sort_values(ascending = False).head(10)\n",
    "df_top10 = df_top10.reset_index()\n",
    "sns.barplot(x = 'adng_nm', y = 'count_cust', data = df_top10)"
   ]
  },
  {
   "cell_type": "code",
   "execution_count": null,
   "metadata": {},
   "outputs": [],
   "source": [
    "# In[27]:\n",
    "\n",
    "\n",
    "df_top10 = df_grpby[2].sort_values(ascending = False).tail(10)\n",
    "df_top10 = df_top10.reset_index()\n",
    "sns.barplot(x = 'adng_nm', y = 'count_cust', data = df_top10)"
   ]
  },
  {
   "cell_type": "code",
   "execution_count": null,
   "metadata": {},
   "outputs": [],
   "source": [
    "# In[31]:\n",
    "\n",
    "\n",
    "youngin_EMD.head()"
   ]
  },
  {
   "cell_type": "code",
   "execution_count": null,
   "metadata": {},
   "outputs": [],
   "source": [
    "# In[102]:\n",
    "\n",
    "\n",
    "# 일렉트로닉 쇼크\n",
    "## 결측값이 존재하는데, 동 구분 기준이 약간 다른듯.\n",
    "## 밑의 지도와 비교해서 emd_cd 직접 수정 필요.\n",
    "\n",
    "\n",
    "# 한글 폰트 깨짐 방지\n",
    "from matplotlib import font_manager, rc\n",
    "font_name = font_manager.FontProperties(fname=\"c:/Windows/Fonts/malgun.ttf\").get_name()\n",
    "rc('font', family=font_name)"
   ]
  },
  {
   "cell_type": "code",
   "execution_count": null,
   "metadata": {},
   "outputs": [],
   "source": [
    "# 마이너스 부호 깨짐 현상 방지\n",
    "import matplotlib\n",
    "matplotlib.rcParams['axes.unicode_minus'] = False\n",
    "\n",
    "\n",
    "maps = map_\n",
    "\n",
    "maps['coords'] = maps['geometry'].apply(lambda x: x.representative_point().coords[:])\n",
    "maps['coords'] = [coords[0] for coords in maps['coords']]\n",
    "\n",
    "to_be_mapped = 'count_cust'\n",
    "vmin, vmax = 0,max(maps['count_cust'])\n",
    "fig, ax = plt.subplots(1, figsize=(30,30))\n",
    "\n",
    "\n",
    "maps.plot(column=to_be_mapped, cmap='Blues', linewidth=0.8, ax=ax, edgecolors='0.8')\n",
    "ax.set_title('electronic shock counts', fontdict={'fontsize':30})\n",
    "ax.set_axis_off()\n",
    "\n",
    "for idx, row in maps.iterrows():\n",
    "    plt.annotate(s=row['adng_nm'], xy=row['coords'], horizontalalignment='center', color= 'k')\n",
    "    \n",
    "#sns.scatterplot(data = df_res_act,x = 'cell_xcrd', y = 'cell_ycrd',alpha = 0.5,size = 1)\n",
    "\n",
    "sm = plt.cm.ScalarMappable(cmap='Blues', norm=plt.Normalize(vmin=vmin, vmax=vmax))\n",
    "sm._A = []\n",
    "\n",
    "cbar = fig.colorbar(sm, orientation='horizontal')\n",
    "plt.savefig(path + 'output/plot/app_map.png')"
   ]
  }
 ],
 "metadata": {
  "anaconda-cloud": {},
  "kernelspec": {
   "display_name": "Python 3 (ipykernel)",
   "language": "python",
   "name": "python3"
  },
  "language_info": {
   "codemirror_mode": {
    "name": "ipython",
    "version": 3
   },
   "file_extension": ".py",
   "mimetype": "text/x-python",
   "name": "python",
   "nbconvert_exporter": "python",
   "pygments_lexer": "ipython3",
   "version": "3.9.7"
  }
 },
 "nbformat": 4,
 "nbformat_minor": 4
}
