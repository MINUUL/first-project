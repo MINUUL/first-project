{
 "cells": [
  {
   "cell_type": "code",
   "execution_count": 1,
   "metadata": {},
   "outputs": [],
   "source": [
    " \n",
    "import pandas as pd\n",
    "from glob import glob\n",
    "import geopandas as gpd"
   ]
  },
  {
   "cell_type": "code",
   "execution_count": 2,
   "metadata": {},
   "outputs": [
    {
     "name": "stderr",
     "output_type": "stream",
     "text": [
      "c:\\Users\\ghrbs\\anaconda3\\envs\\geopandas\\lib\\site-packages\\openpyxl\\styles\\stylesheet.py:226: UserWarning: Workbook contains no default style, apply openpyxl's default\n",
      "  warn(\"Workbook contains no default style, apply openpyxl's default\")\n"
     ]
    }
   ],
   "source": [
    " \n",
    "\n",
    "\n",
    "path = 'C:/bigcon/' # 경로 지정\n",
    "\n",
    "glob(path + '*좌표.csv')\n",
    "\n",
    "\n",
    "ap_table = pd.read_csv(path + 'output/data/checkpoint/아파트정보목록 xy좌표.csv', encoding = 'CP949')\n",
    "park_table = pd.read_excel(path + 'input/additional_dataset/parkigLotList (1).xlsx')\n",
    "park_table[['x','y']] = park_table[['경도','위도']]\n",
    "ev_table = pd.read_csv(path + 'output/data/checkpoint/전기차충전소_좌표.csv', encoding = 'CP949')"
   ]
  },
  {
   "cell_type": "code",
   "execution_count": 3,
   "metadata": {},
   "outputs": [],
   "source": [
    " \n",
    "\n",
    "app_data = []\n",
    "\n",
    "for i in sorted(glob(path + 'input/basic_dataset/*.csv')):\n",
    "    app_data.append(pd.read_csv(i))\n",
    "    \n",
    "df_res = app_data[0] ## 주거자 데이터\n",
    "df_act = app_data[1] ## 용인시에서 활동한 활동지 기준 데이터\n",
    "df_res_act = app_data[2] ## 용인시 거주자가 활동한 지역 데이터\n",
    "\n",
    "def mk_yg(df): ## 앱실행 횟수 모음. 출퇴근 인구는 어떻게 처리할지?\n",
    "    \n",
    "    res = df.groupby(['adng_cd','adng_nm'])['count_cust'].sum()\n",
    "    \n",
    "    return res\n",
    "\n",
    "youngin_grpsum = mk_yg(df_res) + mk_yg(df_act) + mk_yg(df_res_act)\n",
    "youngin_grpsum = youngin_grpsum.to_frame().reset_index('adng_nm')"
   ]
  },
  {
   "cell_type": "code",
   "execution_count": 4,
   "metadata": {},
   "outputs": [],
   "source": [
    " \n",
    "def to_geo(df):\n",
    "\n",
    "    def made(df,i):\n",
    "        \n",
    "        x = df['x'].iloc[i]\n",
    "        y = df['y'].iloc[i]\n",
    "        \n",
    "        return f'POINT ({x} {y})'\n",
    "    \n",
    "    lst = []\n",
    "    \n",
    "    for i in range(len(df)):     \n",
    "        lst.append(made(df,i))\n",
    "    lst = gpd.GeoSeries.from_wkt(lst)\n",
    "    \n",
    "    \n",
    "    \n",
    "    df = gpd.GeoDataFrame(df,geometry = lst)\n",
    "    \n",
    "    return df\n",
    "    "
   ]
  },
  {
   "cell_type": "code",
   "execution_count": 5,
   "metadata": {},
   "outputs": [],
   "source": [
    "ap_table = to_geo(ap_table)\n",
    "ap_table_ = ap_table\n",
    "park_table = to_geo(park_table)\n",
    "park_table_ = park_table\n",
    "ev_table = to_geo(ev_table)\n",
    "ev_table_ = ev_table"
   ]
  },
  {
   "cell_type": "code",
   "execution_count": 6,
   "metadata": {},
   "outputs": [],
   "source": [
    "map_table = gpd.read_file(path + '/input/geo_dataset/HangJeongDong_ver20210401.geojson') #출처:https://github.com/vuski/admdongkor\n",
    "map_table['adm_cd2'] = map_table['adm_cd2'].astype('float64')/100\n",
    "\n",
    "\n",
    "map_table = map_table[map_table['sgg'].str.contains('^4146', na = False)]\n",
    "\n",
    "map_table = map_table.set_index('adm_cd2').join(youngin_grpsum).reset_index()\n",
    "map_ = map_table.copy()\n",
    "map_table = map_table[['adng_nm','geometry']]"
   ]
  },
  {
   "cell_type": "code",
   "execution_count": 7,
   "metadata": {},
   "outputs": [
    {
     "name": "stderr",
     "output_type": "stream",
     "text": [
      "C:\\Users\\ghrbs\\AppData\\Local\\Temp\\ipykernel_22752\\3513001884.py:1: UserWarning: CRS mismatch between the CRS of left geometries and the CRS of right geometries.\n",
      "Use `to_crs()` to reproject one of the input geometries to match the CRS of the other.\n",
      "\n",
      "Left CRS: EPSG:4326\n",
      "Right CRS: None\n",
      "\n",
      "  ap_table = gpd.sjoin(map_table,ap_table).groupby(['adng_nm'])['세대수'].sum()\n",
      "C:\\Users\\ghrbs\\AppData\\Local\\Temp\\ipykernel_22752\\3513001884.py:3: UserWarning: CRS mismatch between the CRS of left geometries and the CRS of right geometries.\n",
      "Use `to_crs()` to reproject one of the input geometries to match the CRS of the other.\n",
      "\n",
      "Left CRS: EPSG:4326\n",
      "Right CRS: None\n",
      "\n",
      "  park_table = gpd.sjoin(map_table,park_table).groupby(['adng_nm'])['주차구획수'].sum()\n"
     ]
    }
   ],
   "source": [
    " \n",
    "ap_table = gpd.sjoin(map_table,ap_table).groupby(['adng_nm'])['세대수'].sum()\n",
    "\n",
    "park_table = gpd.sjoin(map_table,park_table).groupby(['adng_nm'])['주차구획수'].sum()"
   ]
  },
  {
   "cell_type": "code",
   "execution_count": 8,
   "metadata": {},
   "outputs": [
    {
     "name": "stderr",
     "output_type": "stream",
     "text": [
      "C:\\Users\\ghrbs\\AppData\\Local\\Temp\\ipykernel_22752\\3375023380.py:2: UserWarning: CRS mismatch between the CRS of left geometries and the CRS of right geometries.\n",
      "Use `to_crs()` to reproject one of the input geometries to match the CRS of the other.\n",
      "\n",
      "Left CRS: EPSG:4326\n",
      "Right CRS: None\n",
      "\n",
      "  ev_table = gpd.sjoin(map_table,ev_table).groupby(['adng_nm'])['완속충전기'].sum()\n"
     ]
    }
   ],
   "source": [
    " \n",
    "ev_table['완속충전기'] = list(map(lambda x: x.count('AC'), ev_table['충전기타입']))\n",
    "ev_table = gpd.sjoin(map_table,ev_table).groupby(['adng_nm'])['완속충전기'].sum()"
   ]
  },
  {
   "cell_type": "code",
   "execution_count": 9,
   "metadata": {},
   "outputs": [],
   "source": [
    " \n",
    "\n",
    "tmp = pd.read_csv(path + 'output/data/checkpoint/ETC_places.csv',encoding = 'CP949',index_col = 'adng_nm')"
   ]
  },
  {
   "cell_type": "code",
   "execution_count": 10,
   "metadata": {},
   "outputs": [],
   "source": [
    "# bpi\n",
    "bpi = pd.read_csv(path + 'output/data/checkpoint/BPI.csv',encoding = 'CP949')\n",
    "# 전기차 교통량\n",
    "ev_traffic = pd.read_excel(path + 'output/data/checkpoint/전기차 교통량.xlsx')\n",
    "# 인구\n",
    "pop = pd.read_csv(path + 'input/additional_dataset/population.csv',encoding = 'CP949',header = 1)\n",
    "# 포화도\n"
   ]
  },
  {
   "cell_type": "code",
   "execution_count": 11,
   "metadata": {},
   "outputs": [],
   "source": [
    "bpi = bpi[['읍면동','충전소포화도']]\n",
    "bpi.set_index('읍면동', inplace = True)"
   ]
  },
  {
   "cell_type": "code",
   "execution_count": 12,
   "metadata": {},
   "outputs": [],
   "source": [
    "ev_traffic.set_index('index',inplace= True)\n",
    "ev_traffic = ev_traffic[['전기차_교통량']]\n"
   ]
  },
  {
   "cell_type": "code",
   "execution_count": 13,
   "metadata": {},
   "outputs": [],
   "source": [
    "import re\n",
    "popidx = pop.pop('연령별')\n",
    "pop.index = list(map(lambda x: re.sub(' ','',x),popidx))\n",
    "pop= pop['합계']"
   ]
  },
  {
   "cell_type": "code",
   "execution_count": 14,
   "metadata": {},
   "outputs": [],
   "source": [
    " \n",
    "\n",
    "out = pd.DataFrame()\n",
    "out['기존충전소'] = ev_table\n",
    "out['세대수'] = ap_table\n",
    "out['주차가능수'] = park_table\n",
    "out['주요건물수(영화관,대형점포)'] = tmp\n",
    "out['bpi'] = bpi\n",
    "out['poplulation'] = pop\n",
    "out['ev_traffic'] = ev_traffic\n",
    "\n",
    "\n",
    "\n"
   ]
  },
  {
   "cell_type": "code",
   "execution_count": 15,
   "metadata": {},
   "outputs": [],
   "source": [
    "\n",
    "out = out.fillna(0)\n",
    "\n",
    "out.to_csv(path + 'output/data/' + 'k_table.csv',encoding = 'CP949')"
   ]
  },
  {
   "cell_type": "code",
   "execution_count": null,
   "metadata": {},
   "outputs": [],
   "source": []
  },
  {
   "cell_type": "code",
   "execution_count": null,
   "metadata": {},
   "outputs": [],
   "source": []
  }
 ],
 "metadata": {
  "anaconda-cloud": {},
  "kernelspec": {
   "display_name": "Python 3 (ipykernel)",
   "language": "python",
   "name": "python3"
  },
  "language_info": {
   "codemirror_mode": {
    "name": "ipython",
    "version": 3
   },
   "file_extension": ".py",
   "mimetype": "text/x-python",
   "name": "python",
   "nbconvert_exporter": "python",
   "pygments_lexer": "ipython3",
   "version": "3.8.13"
  },
  "vscode": {
   "interpreter": {
    "hash": "4b5c8ee01240f01b9bad2e9285fe02c5c238b0c96349d8acec3895ccfb68c3d4"
   }
  }
 },
 "nbformat": 4,
 "nbformat_minor": 4
}
