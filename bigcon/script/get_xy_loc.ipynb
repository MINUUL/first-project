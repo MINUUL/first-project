{
 "cells": [
  {
   "cell_type": "code",
   "execution_count": 1,
   "metadata": {},
   "outputs": [],
   "source": [
    "# -*- coding: utf-8 -*-\n",
    "\"\"\"\n",
    "Created on Thu Sep 22 21:55:56 2022\n",
    "\n",
    "@author: ghrbs\n",
    "\"\"\"\n",
    "\n",
    "# 소괄호 제거\n",
    "import numpy as np\n",
    "import pandas as pd\n",
    "import re\n",
    "from tqdm import tqdm\n",
    "import requests\n",
    "import json"
   ]
  },
  {
   "cell_type": "code",
   "execution_count": 2,
   "metadata": {},
   "outputs": [],
   "source": [
    "path = 'C:/bigcon/' # 경로 지정\n",
    " \n",
    "\n",
    "ev_cg = pd.read_excel(path + 'input/additional_dataset/충전소 리스트.xlsx') # 데이터 불러오기\n",
    "cols = ev_cg.iloc[1,:] # 데이터 전처리\n",
    "ev_cg = ev_cg[2:]\n",
    "ev_cg.columns = cols\n",
    "\n",
    "ev_cg = ev_cg[ev_cg['시군구'].str.contains('^용인시',na = False)] # 용인시 데이터만 추출\n",
    "\n",
    "ev_cg.loc[ev_cg[ev_cg['충전소'] == '동백금호어울림타운하우스A'].index,'충전소'] = '동백금호어울림타운하우스'\n",
    "ev_cg.loc[ev_cg[ev_cg['충전소'] == '동백금호어울림타운하우스B'].index,'충전소'] = '동백금호어울림타운하우스'\n",
    "ev_cg.loc[ev_cg[ev_cg['충전소'] == '서원마을금호베스트빌5단지 입주자대표회의'].index,'충전소'] = '서원마을금호베스트빌5단지'\n",
    "ev_cg.loc[ev_cg[ev_cg['충전소'] == '경기 용인시 기흥구 트리플힐스로 7-12 (저압수용가)'].index,'주소'] = '경기 용인시 기흥구 트리플힐스로 7-12'\n",
    "ev_cg.loc[ev_cg[ev_cg['충전소'] == '경기 용인시 기흥구 트리플힐스로 7-28 (저압수용가)'].index,'주소'] = '경기 용인시 기흥구 트리플힐스로 7-28'"
   ]
  },
  {
   "cell_type": "code",
   "execution_count": 3,
   "metadata": {},
   "outputs": [
    {
     "name": "stderr",
     "output_type": "stream",
     "text": [
      "100%|██████████████████████████████████████████████████████████████████████████| 4034/4034 [00:00<00:00, 310466.85it/s]\n"
     ]
    }
   ],
   "source": [
    "pattern = r'\\([^)]*\\)' #괄호와 그 안의 문자를 제거해주는 정규표현\n",
    "address = ev_cg['주소'] #충전소 데이터의 주소를 따로 저장\n",
    "add_list = [] # 주소 처리 후 새로 담을 배열생성\n",
    "\n",
    "for i in address: # 위의 패턴을 사용해 괄호 제거\n",
    "    text = re.sub(pattern=pattern, repl='', string = i)\n",
    "    add_list.append(text)\n",
    "    \n",
    "def sub_num(s): # 상세 주소에서 숫자와 '-'를 제외한 나머지 문자를 제거해주는 함수\n",
    "    s = s[0:6]\n",
    "    s = re.sub(r'[^0-9,^-]','',s)\n",
    "    return(s)\n",
    "\n",
    "\n",
    "for i in tqdm(range(len(add_list))):\n",
    "    \n",
    "    spl = 4 # 어디까지 멀쩡한 주소로 볼건지에 대한 기준. 보통은 4덩어리까지가 도, 시, 구, 로 구성으로 정상이고, 그 다음 상세 주소 덩어리가 하나 있음.\n",
    "    \n",
    "    a = add_list[i].split(' ') # 주소를 덩어리로 분리\n",
    "    \n",
    "    if len(a) < 3:\n",
    "        pass\n",
    "    \n",
    "    if ('읍' in a[3]) or ('리' in a[3]) or ('면' in a[3]): # 주소에 읍면리가 들어가면 도/시/구/읍/로 가 된다. 따라서 멀쩡한 덩어리가 5개\n",
    "        spl = 5\n",
    "        \n",
    "    a = a[0: spl + 1] # 상세 주소까지만 가져오고 나머지는 버리기\n",
    "    \n",
    "    if len(a) == spl:\n",
    "        \n",
    "        add_list[i] = \" \".join(a[0:spl + 1]) # 상세주소가 없으면 그냥 그대로 가져오기\n",
    "        \n",
    "    elif len(a) == (spl + 1):\n",
    "        \n",
    "        a[-1] = sub_num(a[-1]) # 상세 주소에 대하여 위의 문자 제거 함수를 적용\n",
    "        add_list[i] = \" \".join(a[0:spl + 2]) # 다시 합치기\n",
    "        \n",
    "address_table = pd.DataFrame(address.copy())\n",
    "\n",
    "address_table['수정주소'] = add_list\n",
    "address_table.reset_index(drop = True,inplace = True)"
   ]
  },
  {
   "cell_type": "code",
   "execution_count": 4,
   "metadata": {},
   "outputs": [],
   "source": [
    "#geo_df = list(map(geocoding,add_list))\n",
    " \n",
    "\n",
    "## 카카오 api\n",
    "\n",
    "tqdm.pandas()\n",
    "cnt = 0\n",
    "appkey = '63c767bfe1e2af023f72a87dca3ca6c9' # api키 그냥 넣어놨음. 일일 30만개 제한\n",
    "\n",
    "def AK_location(address):\n",
    "    global cnt # 글로벌 함수로 설정\n",
    "    url = 'https://dapi.kakao.com/v2/local/search/address.json' ## api 주소\n",
    "    \n",
    "    params = {'query': address,'analyze_type' : 'simillar', 'size' : 1} # 요구 파라미터\n",
    "    headers = {\"Authorization\": 'KakaoAK ' + appkey}\n",
    "\n",
    "    places = requests.get(url, params=params, headers=headers)\n",
    "    xy = json.loads(places.text)\n",
    "    \n",
    "    try:    \n",
    "        nm = dict(xy['documents'][0])['address']['address_name']\n",
    "        x = dict(xy['documents'][0])['x']\n",
    "        y = dict(xy['documents'][0])['y']\n",
    "        \n",
    "    except:\n",
    "         cnt += 1\n",
    "         if cnt % 50 == 0:\n",
    "             print(f'no search result: {cnt}') # 오류나면 카운트, 50개마다 출력\n",
    "         return [address,np.nan,np.nan]\n",
    "    \n",
    "\n",
    "    return [nm,x,y]"
   ]
  },
  {
   "cell_type": "code",
   "execution_count": 5,
   "metadata": {},
   "outputs": [],
   "source": [
    "def emd_location(lst):\n",
    "    url = 'https://dapi.kakao.com/v2/local/geo/coord2regioncode.json'\n",
    "    \n",
    "    x = lst[0]\n",
    "    y = lst[1]\n",
    "    \n",
    "    \n",
    "    params = {'x' : x,'y' : y}\n",
    "    headers = {\"Authorization\": 'KakaoAK ' + appkey}\n",
    "\n",
    "    places = requests.get(url, params=params, headers=headers)\n",
    "    xy = json.loads(places.text)\n",
    "    \n",
    "    emd = dict(xy['documents'][0])['region_3depth_name']\n",
    "    \n",
    "   \n",
    "    \n",
    "\n",
    "    return emd\n",
    "\n",
    " "
   ]
  },
  {
   "cell_type": "code",
   "execution_count": 6,
   "metadata": {},
   "outputs": [],
   "source": [
    "def nm_location(nm):\n",
    "    \n",
    "    global cnt\n",
    "    \n",
    "    url = 'https://dapi.kakao.com/v2/local/search/keyword.json' # 키워드 검색 url. 주소 검색 url이랑 다름.\n",
    "    params = {'query': nm,\n",
    "              'x':'127.177482330871' , ## 용인시 좌표를 중심으로 검색.\n",
    "              'y':'37.241029979227',\n",
    "              'size' : 1}\n",
    "    \n",
    "    headers = {\"Authorization\": 'KakaoAK ' + appkey} # api 인증 key\n",
    "\n",
    "    places = requests.get(url, params=params, headers=headers)\n",
    "    xy = json.loads(places.text)\n",
    "    \n",
    "    try:    \n",
    "        address_nm = dict(xy['documents'][0])['address_name']\n",
    "        x = dict(xy['documents'][0])['x']\n",
    "        y = dict(xy['documents'][0])['y']\n",
    "        \n",
    "    except:\n",
    "         cnt += 1\n",
    "         if cnt % 50 == 0:\n",
    "             print(f'no search result: {cnt}')\n",
    "             \n",
    "         return [nm,np.nan,np.nan]\n",
    "    \n",
    "    #emd = emd_location([x,y])\n",
    "    return [address_nm,x,y]"
   ]
  },
  {
   "cell_type": "code",
   "execution_count": 7,
   "metadata": {},
   "outputs": [],
   "source": [
    " \n",
    "#카카오 api가 일일 트래픽 제한이 많기 떄문에 카카오 api로 먼저 시도하고, 안될 경우 tmap을 시도하는 코드로 수정\n",
    "\n",
    "tqdm.pandas()\n",
    "cnt = 0\n",
    "appkey = '63c767bfe1e2af023f72a87dca3ca6c9'\n",
    "\n",
    "def _location(address,add_col,nm_col,df):\n",
    "    \n",
    "    global cnt\n",
    "    url = 'https://dapi.kakao.com/v2/local/search/address.json'\n",
    "    \n",
    "    params = {'query': address,'analyze_type' : 'simillar', 'size' : 1}\n",
    "    headers = {\"Authorization\": 'KakaoAK ' + appkey}\n",
    "\n",
    "    places = requests.get(url, params=params, headers=headers)\n",
    "    xy = json.loads(places.text)\n",
    "    \n",
    "    try:    \n",
    "        \n",
    "        address_nm = dict(xy['documents'][0])['address']['address_name']\n",
    "        x = dict(xy['documents'][0])['x']\n",
    "        y = dict(xy['documents'][0])['y']\n",
    "        \n",
    "    except:\n",
    "        idx = address_table[address_table['수정주소'] == address][add_col].head(1)\n",
    "        nm = ev_cg[ev_cg[add_col] == idx.iloc[0]][nm_col].head(1)\n",
    "        \n",
    "        return nm_location(nm)\n",
    "    \n",
    "    #emd = emd_location([x,y])\n",
    "    return [address_nm,x,y]\n",
    "\n",
    "\n",
    "\n",
    " "
   ]
  },
  {
   "cell_type": "code",
   "execution_count": 8,
   "metadata": {},
   "outputs": [
    {
     "name": "stderr",
     "output_type": "stream",
     "text": [
      "C:\\Users\\ghrbs\\anaconda3\\lib\\site-packages\\numpy\\core\\fromnumeric.py:3162: VisibleDeprecationWarning: Creating an ndarray from ragged nested sequences (which is a list-or-tuple of lists-or-tuples-or ndarrays with different lengths or shapes) is deprecated. If you meant to do this, you must specify 'dtype=object' when creating the ndarray.\n",
      "  return asarray(a).ndim\n"
     ]
    }
   ],
   "source": [
    "_df = list(map(lambda x: _location(x, add_col = '주소', nm_col = '충전소',df = ev_cg),add_list))\n",
    "\n",
    "df = pd.DataFrame(_df)\n",
    "\n",
    "ev_cg[['nm','x','y']] = _df\n",
    "\n",
    "\n",
    "ev_cg.to_csv(path + 'output/data/checkpoint/전기차충전소_좌표.csv',encoding = 'CP949')"
   ]
  },
  {
   "cell_type": "code",
   "execution_count": 9,
   "metadata": {},
   "outputs": [],
   "source": [
    "##\n",
    "\n",
    "ap = pd.read_excel(path + 'input/additional_dataset/20220918_아파트정보목록.xlsx')\n",
    "cnt = 0\n",
    "\n",
    "\n",
    "def _location(address,add_col,nm_col,df):\n",
    "    \n",
    "    global cnt\n",
    "    url = 'https://dapi.kakao.com/v2/local/search/address.json'\n",
    "    \n",
    "    params = {'query': address,'analyze_type' : 'simillar', 'size' : 1}\n",
    "    headers = {\"Authorization\": 'KakaoAK ' + appkey}\n",
    "\n",
    "    places = requests.get(url, params=params, headers=headers)\n",
    "    xy = json.loads(places.text)\n",
    "    \n",
    "    try:    \n",
    "        address_nm = dict(xy['documents'][0])['address']['address_name']\n",
    "        x = dict(xy['documents'][0])['x']\n",
    "        y = dict(xy['documents'][0])['y']\n",
    "        \n",
    "    except:\n",
    "        \n",
    "        nm = df[df[add_col] == address][nm_col].head(1)\n",
    "        \n",
    "        return nm_location(nm)\n",
    "    \n",
    "    #emd = emd_location([x,y])\n",
    "    return [address_nm,x,y]\n",
    "\n",
    "\n",
    "   \n",
    "_df = list(map(lambda x: _location(x, add_col = '도로명주소', nm_col = '단지명',df = ap),ap['도로명주소']))"
   ]
  },
  {
   "cell_type": "code",
   "execution_count": 10,
   "metadata": {},
   "outputs": [],
   "source": [
    "## na열인 청명 센트레빌은 2019년 행정구역 경계 수정으로 인해 수원시에 편입됨\n",
    "df = pd.DataFrame(_df)\n",
    "df[df[1].isnull()]\n",
    "ap[['nm','x','y']]  = df\n",
    "ap.dropna(inplace = True)\n",
    "\n",
    "ap.to_csv(path + 'output/data/checkpoint/아파트정보목록 xy좌표.csv',encoding = 'CP949')"
   ]
  },
  {
   "cell_type": "code",
   "execution_count": 11,
   "metadata": {},
   "outputs": [
    {
     "name": "stderr",
     "output_type": "stream",
     "text": [
      "C:\\Users\\ghrbs\\anaconda3\\lib\\site-packages\\openpyxl\\styles\\stylesheet.py:226: UserWarning: Workbook contains no default style, apply openpyxl's default\n",
      "  warn(\"Workbook contains no default style, apply openpyxl's default\")\n",
      "100%|██████████████████████████████████████████████████████████████████████████████████| 98/98 [00:06<00:00, 15.27it/s]\n"
     ]
    }
   ],
   "source": [
    "##\n",
    "park_table = pd.read_excel(path + 'input/additional_dataset/parkigLotList (1).xlsx')\n",
    "park_table[['x','y']] = park_table[['경도','위도']].astype(float)\n",
    "type(park_table)\n",
    "emdlst = []\n",
    "for i in tqdm(range(len(park_table))):\n",
    "\n",
    "    x = park_table['x'][i]\n",
    "    y = park_table['y'][i]\n",
    "    \n",
    "    emdlst.append(emd_location([x,y]))\n",
    "    \n",
    "park_table['emd'] = emdlst\n",
    "park_table.to_csv(path + 'output/data/checkpoint/용인도시공사_주차장 정보_20220621 xy좌표.csv', encoding = 'CP949')"
   ]
  }
 ],
 "metadata": {
  "anaconda-cloud": {},
  "kernelspec": {
   "display_name": "Python 3 (ipykernel)",
   "language": "python",
   "name": "python3"
  },
  "language_info": {
   "codemirror_mode": {
    "name": "ipython",
    "version": 3
   },
   "file_extension": ".py",
   "mimetype": "text/x-python",
   "name": "python",
   "nbconvert_exporter": "python",
   "pygments_lexer": "ipython3",
   "version": "3.9.12"
  },
  "vscode": {
   "interpreter": {
    "hash": "4b5c8ee01240f01b9bad2e9285fe02c5c238b0c96349d8acec3895ccfb68c3d4"
   }
  }
 },
 "nbformat": 4,
 "nbformat_minor": 4
}
